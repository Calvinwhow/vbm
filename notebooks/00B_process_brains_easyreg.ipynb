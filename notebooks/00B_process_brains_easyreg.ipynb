{
 "cells": [
  {
   "cell_type": "markdown",
   "metadata": {},
   "source": [
    "## **1. Specify BIDS directory**"
   ]
  },
  {
   "cell_type": "code",
   "execution_count": 1,
   "metadata": {},
   "outputs": [
    {
     "name": "stdout",
     "output_type": "stream",
     "text": [
      "BIDS dataset identified at /data/nimlab/USERS/joseph/collaborators/calvin/test_bids_dataset \n",
      "Info:\n"
     ]
    },
    {
     "data": {
      "text/plain": [
       "'BIDS Layout: ...ators/calvin/test_bids_dataset | Subjects: 3 | Sessions: 0 | Runs: 0'"
      ]
     },
     "execution_count": 1,
     "metadata": {},
     "output_type": "execute_result"
    }
   ],
   "source": [
    "from bids import BIDSLayout\n",
    "\n",
    "bids_dataset_path = '/data/nimlab/USERS/joseph/collaborators/calvin/test_bids_dataset'\n",
    "\n",
    "layout = BIDSLayout(bids_dataset_path, validate=False, absolute_paths=True)\n",
    "print(\"BIDS dataset identified at\", layout.root, \"\\nInfo:\")\n",
    "layout.__repr__()"
   ]
  },
  {
   "cell_type": "markdown",
   "metadata": {},
   "source": [
    "## **2. Loop through subjects and collect T1w images**"
   ]
  },
  {
   "cell_type": "code",
   "execution_count": 2,
   "metadata": {},
   "outputs": [
    {
     "name": "stdout",
     "output_type": "stream",
     "text": [
      "Found 0002_T1w.nii from subject mytest1 (1/3)\n",
      "Found 33061_T1w.nii.gz from subject mytest2 (2/3)\n",
      "Found 33821_T1w.nii.gz from subject mytest3 (3/3)\n"
     ]
    }
   ],
   "source": [
    "import os\n",
    "\n",
    "subs = layout.get_subjects()\n",
    "sys_commands = [\"source activate /data/nimlab/software/miniforge_2024-08-31/packages/envs/easyreg_standalone_env;\"]\n",
    "for i, sub in enumerate(subs):\n",
    "    t1_files_for_sub = layout.get(\n",
    "        subject=sub,\n",
    "        suffix='T1w',\n",
    "        return_type='filename'\n",
    "    )\n",
    "    first_t1_file = t1_files_for_sub[0] if len(t1_files_for_sub) > 0 else None\n",
    "    if first_t1_file is None:\n",
    "        print(f\"Could not find T1w file for subject {sub} ({i+1}/{len(subs)})\")\n",
    "        continue\n",
    "    print(f\"Found {os.path.basename(first_t1_file)} from subject {sub} ({i+1}/{len(subs)})\")\n",
    "    sys_commands.append(f\"segment-csf-gm-wm {first_t1_file};\")"
   ]
  },
  {
   "cell_type": "markdown",
   "metadata": {},
   "source": [
    "## **3. Submit to slurm job scheduler**"
   ]
  },
  {
   "cell_type": "code",
   "execution_count": 3,
   "metadata": {},
   "outputs": [
    {
     "name": "stdout",
     "output_type": "stream",
     "text": [
      "Script written to /data/nimlab/USERS/joseph/collaborators/calvin/segment_csf_gm_wm.sh\n",
      "Please ssh to eristwo and submit the following command:\n",
      "sbatch /data/nimlab/USERS/joseph/collaborators/calvin/segment_csf_gm_wm.sh\n"
     ]
    }
   ],
   "source": [
    "cores = 11\n",
    "memory = 16000\n",
    "job_time = \"23:59:00\"\n",
    "job_name = \"segment_csf_gm_wm\"\n",
    "partition = \"nimlab,normal,long,bigmem\"\n",
    "nodes = 1\n",
    "user_email = \"jiturner@bwh.harvard.edu\"\n",
    "output_dir = \"\"\n",
    "\n",
    "script_lines = ['#!/bin/bash']\n",
    "script_lines.extend([\n",
    "    f'#SBATCH -J {job_name}',\n",
    "    f'#SBATCH -p {partition}',\n",
    "    f'#SBATCH --nodes {nodes}',\n",
    "    f'#SBATCH --ntasks {nodes}',\n",
    "    f'#SBATCH -c {cores}',\n",
    "    f'#SBATCH --mem {memory}',\n",
    "    f'#SBATCH -t {job_time}',\n",
    "    f'#SBATCH --mail-user={user_email}',\n",
    "    '#SBATCH --mail-type=END'\n",
    "])\n",
    "\n",
    "if not output_dir:\n",
    "    output_dir = os.path.join(os.getcwd())\n",
    "if output_dir:\n",
    "    script_lines.extend([\n",
    "        f'#SBATCH -o {output_dir}/slurm.%N.%j.out',\n",
    "        f'#SBATCH -e {output_dir}/slurm.%N.%j.err'\n",
    "    ])\n",
    "\n",
    "script_lines.append('')\n",
    "script_lines.extend(sys_commands)\n",
    "result = '\\n'.join(script_lines)\n",
    "\n",
    "# Write the script to a file\n",
    "script_path = os.path.join(output_dir, f'{job_name}.sh')\n",
    "with open(script_path, 'w') as f:\n",
    "    f.write(result)\n",
    "\n",
    "print(f\"Script written to {script_path}\")\n",
    "print(f\"Please ssh to eristwo and submit the following command:\")\n",
    "print(f\"sbatch {script_path}\")"
   ]
  }
 ],
 "metadata": {
  "kernelspec": {
   "display_name": "easyreg_standalone_env",
   "language": "python",
   "name": "python3"
  },
  "language_info": {
   "codemirror_mode": {
    "name": "ipython",
    "version": 3
   },
   "file_extension": ".py",
   "mimetype": "text/x-python",
   "name": "python",
   "nbconvert_exporter": "python",
   "pygments_lexer": "ipython3",
   "version": "3.11.11"
  }
 },
 "nbformat": 4,
 "nbformat_minor": 2
}
