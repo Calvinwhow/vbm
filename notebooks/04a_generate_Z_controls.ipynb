{
 "cells": [
  {
   "cell_type": "markdown",
   "metadata": {},
   "source": [
    "Where to save results to"
   ]
  },
  {
   "cell_type": "code",
   "execution_count": 1,
   "metadata": {},
   "outputs": [],
   "source": [
    "out_dir = r'/Volumes/OneTouch/datasets/adni/neuroimaging/cat12_control_dist_smwp'"
   ]
  },
  {
   "cell_type": "markdown",
   "metadata": {},
   "source": [
    "# 01 - Load Controls"
   ]
  },
  {
   "cell_type": "code",
   "execution_count": 2,
   "metadata": {},
   "outputs": [],
   "source": [
    "root = '/Volumes/OneTouch/datasets/adni/neuroimaging/cat12_tpms'\n",
    "gm = 'smwp1*resampled*'\n",
    "wm = 'smwp2*resampled*'\n",
    "csf = 'smwp3*resampled*'"
   ]
  },
  {
   "cell_type": "code",
   "execution_count": 3,
   "metadata": {},
   "outputs": [
    {
     "name": "stdout",
     "output_type": "stream",
     "text": [
      "I will search:  /Volumes/OneTouch/datasets/adni/neuroimaging/cat12_tpms/smwp1*resampled*\n"
     ]
    },
    {
     "name": "stderr",
     "output_type": "stream",
     "text": [
      "/Users/cu135/Software_Local/calvin_utils_project/calvin_utils_project/calvin_utils/file_utils/import_matrices.py:137: PerformanceWarning: DataFrame is highly fragmented.  This is usually the result of calling `frame.insert` many times, which has poor performance.  Consider joining all columns at once using pd.concat(axis=1) instead. To get a de-fragmented frame, use `newframe = frame.copy()`\n",
      "  matrix_df[name] = data.flatten()\n",
      "/Users/cu135/Software_Local/calvin_utils_project/calvin_utils_project/calvin_utils/file_utils/import_matrices.py:137: PerformanceWarning: DataFrame is highly fragmented.  This is usually the result of calling `frame.insert` many times, which has poor performance.  Consider joining all columns at once using pd.concat(axis=1) instead. To get a de-fragmented frame, use `newframe = frame.copy()`\n",
      "  matrix_df[name] = data.flatten()\n",
      "/Users/cu135/Software_Local/calvin_utils_project/calvin_utils_project/calvin_utils/file_utils/import_matrices.py:137: PerformanceWarning: DataFrame is highly fragmented.  This is usually the result of calling `frame.insert` many times, which has poor performance.  Consider joining all columns at once using pd.concat(axis=1) instead. To get a de-fragmented frame, use `newframe = frame.copy()`\n",
      "  matrix_df[name] = data.flatten()\n",
      "/Users/cu135/Software_Local/calvin_utils_project/calvin_utils_project/calvin_utils/file_utils/import_matrices.py:137: PerformanceWarning: DataFrame is highly fragmented.  This is usually the result of calling `frame.insert` many times, which has poor performance.  Consider joining all columns at once using pd.concat(axis=1) instead. To get a de-fragmented frame, use `newframe = frame.copy()`\n",
      "  matrix_df[name] = data.flatten()\n",
      "/Users/cu135/Software_Local/calvin_utils_project/calvin_utils_project/calvin_utils/file_utils/import_matrices.py:137: PerformanceWarning: DataFrame is highly fragmented.  This is usually the result of calling `frame.insert` many times, which has poor performance.  Consider joining all columns at once using pd.concat(axis=1) instead. To get a de-fragmented frame, use `newframe = frame.copy()`\n",
      "  matrix_df[name] = data.flatten()\n",
      "/Users/cu135/Software_Local/calvin_utils_project/calvin_utils_project/calvin_utils/file_utils/import_matrices.py:137: PerformanceWarning: DataFrame is highly fragmented.  This is usually the result of calling `frame.insert` many times, which has poor performance.  Consider joining all columns at once using pd.concat(axis=1) instead. To get a de-fragmented frame, use `newframe = frame.copy()`\n",
      "  matrix_df[name] = data.flatten()\n",
      "/Users/cu135/Software_Local/calvin_utils_project/calvin_utils_project/calvin_utils/file_utils/import_matrices.py:137: PerformanceWarning: DataFrame is highly fragmented.  This is usually the result of calling `frame.insert` many times, which has poor performance.  Consider joining all columns at once using pd.concat(axis=1) instead. To get a de-fragmented frame, use `newframe = frame.copy()`\n",
      "  matrix_df[name] = data.flatten()\n",
      "/Users/cu135/Software_Local/calvin_utils_project/calvin_utils_project/calvin_utils/file_utils/import_matrices.py:137: PerformanceWarning: DataFrame is highly fragmented.  This is usually the result of calling `frame.insert` many times, which has poor performance.  Consider joining all columns at once using pd.concat(axis=1) instead. To get a de-fragmented frame, use `newframe = frame.copy()`\n",
      "  matrix_df[name] = data.flatten()\n",
      "/Users/cu135/Software_Local/calvin_utils_project/calvin_utils_project/calvin_utils/file_utils/import_matrices.py:137: PerformanceWarning: DataFrame is highly fragmented.  This is usually the result of calling `frame.insert` many times, which has poor performance.  Consider joining all columns at once using pd.concat(axis=1) instead. To get a de-fragmented frame, use `newframe = frame.copy()`\n",
      "  matrix_df[name] = data.flatten()\n",
      "/Users/cu135/Software_Local/calvin_utils_project/calvin_utils_project/calvin_utils/file_utils/import_matrices.py:137: PerformanceWarning: DataFrame is highly fragmented.  This is usually the result of calling `frame.insert` many times, which has poor performance.  Consider joining all columns at once using pd.concat(axis=1) instead. To get a de-fragmented frame, use `newframe = frame.copy()`\n",
      "  matrix_df[name] = data.flatten()\n",
      "/Users/cu135/Software_Local/calvin_utils_project/calvin_utils_project/calvin_utils/file_utils/import_matrices.py:137: PerformanceWarning: DataFrame is highly fragmented.  This is usually the result of calling `frame.insert` many times, which has poor performance.  Consider joining all columns at once using pd.concat(axis=1) instead. To get a de-fragmented frame, use `newframe = frame.copy()`\n",
      "  matrix_df[name] = data.flatten()\n",
      "/Users/cu135/Software_Local/calvin_utils_project/calvin_utils_project/calvin_utils/file_utils/import_matrices.py:137: PerformanceWarning: DataFrame is highly fragmented.  This is usually the result of calling `frame.insert` many times, which has poor performance.  Consider joining all columns at once using pd.concat(axis=1) instead. To get a de-fragmented frame, use `newframe = frame.copy()`\n",
      "  matrix_df[name] = data.flatten()\n",
      "/Users/cu135/Software_Local/calvin_utils_project/calvin_utils_project/calvin_utils/file_utils/import_matrices.py:137: PerformanceWarning: DataFrame is highly fragmented.  This is usually the result of calling `frame.insert` many times, which has poor performance.  Consider joining all columns at once using pd.concat(axis=1) instead. To get a de-fragmented frame, use `newframe = frame.copy()`\n",
      "  matrix_df[name] = data.flatten()\n",
      "/Users/cu135/Software_Local/calvin_utils_project/calvin_utils_project/calvin_utils/file_utils/import_matrices.py:137: PerformanceWarning: DataFrame is highly fragmented.  This is usually the result of calling `frame.insert` many times, which has poor performance.  Consider joining all columns at once using pd.concat(axis=1) instead. To get a de-fragmented frame, use `newframe = frame.copy()`\n",
      "  matrix_df[name] = data.flatten()\n",
      "/Users/cu135/Software_Local/calvin_utils_project/calvin_utils_project/calvin_utils/file_utils/import_matrices.py:137: PerformanceWarning: DataFrame is highly fragmented.  This is usually the result of calling `frame.insert` many times, which has poor performance.  Consider joining all columns at once using pd.concat(axis=1) instead. To get a de-fragmented frame, use `newframe = frame.copy()`\n",
      "  matrix_df[name] = data.flatten()\n",
      "/Users/cu135/Software_Local/calvin_utils_project/calvin_utils_project/calvin_utils/file_utils/import_matrices.py:137: PerformanceWarning: DataFrame is highly fragmented.  This is usually the result of calling `frame.insert` many times, which has poor performance.  Consider joining all columns at once using pd.concat(axis=1) instead. To get a de-fragmented frame, use `newframe = frame.copy()`\n",
      "  matrix_df[name] = data.flatten()\n",
      "/Users/cu135/Software_Local/calvin_utils_project/calvin_utils_project/calvin_utils/file_utils/import_matrices.py:137: PerformanceWarning: DataFrame is highly fragmented.  This is usually the result of calling `frame.insert` many times, which has poor performance.  Consider joining all columns at once using pd.concat(axis=1) instead. To get a de-fragmented frame, use `newframe = frame.copy()`\n",
      "  matrix_df[name] = data.flatten()\n",
      "/Users/cu135/Software_Local/calvin_utils_project/calvin_utils_project/calvin_utils/file_utils/import_matrices.py:137: PerformanceWarning: DataFrame is highly fragmented.  This is usually the result of calling `frame.insert` many times, which has poor performance.  Consider joining all columns at once using pd.concat(axis=1) instead. To get a de-fragmented frame, use `newframe = frame.copy()`\n",
      "  matrix_df[name] = data.flatten()\n",
      "/Users/cu135/Software_Local/calvin_utils_project/calvin_utils_project/calvin_utils/file_utils/import_matrices.py:137: PerformanceWarning: DataFrame is highly fragmented.  This is usually the result of calling `frame.insert` many times, which has poor performance.  Consider joining all columns at once using pd.concat(axis=1) instead. To get a de-fragmented frame, use `newframe = frame.copy()`\n",
      "  matrix_df[name] = data.flatten()\n",
      "/Users/cu135/Software_Local/calvin_utils_project/calvin_utils_project/calvin_utils/file_utils/import_matrices.py:137: PerformanceWarning: DataFrame is highly fragmented.  This is usually the result of calling `frame.insert` many times, which has poor performance.  Consider joining all columns at once using pd.concat(axis=1) instead. To get a de-fragmented frame, use `newframe = frame.copy()`\n",
      "  matrix_df[name] = data.flatten()\n",
      "/Users/cu135/Software_Local/calvin_utils_project/calvin_utils_project/calvin_utils/file_utils/import_matrices.py:137: PerformanceWarning: DataFrame is highly fragmented.  This is usually the result of calling `frame.insert` many times, which has poor performance.  Consider joining all columns at once using pd.concat(axis=1) instead. To get a de-fragmented frame, use `newframe = frame.copy()`\n",
      "  matrix_df[name] = data.flatten()\n",
      "/Users/cu135/Software_Local/calvin_utils_project/calvin_utils_project/calvin_utils/file_utils/import_matrices.py:137: PerformanceWarning: DataFrame is highly fragmented.  This is usually the result of calling `frame.insert` many times, which has poor performance.  Consider joining all columns at once using pd.concat(axis=1) instead. To get a de-fragmented frame, use `newframe = frame.copy()`\n",
      "  matrix_df[name] = data.flatten()\n",
      "/Users/cu135/Software_Local/calvin_utils_project/calvin_utils_project/calvin_utils/file_utils/import_matrices.py:137: PerformanceWarning: DataFrame is highly fragmented.  This is usually the result of calling `frame.insert` many times, which has poor performance.  Consider joining all columns at once using pd.concat(axis=1) instead. To get a de-fragmented frame, use `newframe = frame.copy()`\n",
      "  matrix_df[name] = data.flatten()\n",
      "/Users/cu135/Software_Local/calvin_utils_project/calvin_utils_project/calvin_utils/file_utils/import_matrices.py:137: PerformanceWarning: DataFrame is highly fragmented.  This is usually the result of calling `frame.insert` many times, which has poor performance.  Consider joining all columns at once using pd.concat(axis=1) instead. To get a de-fragmented frame, use `newframe = frame.copy()`\n",
      "  matrix_df[name] = data.flatten()\n",
      "/Users/cu135/Software_Local/calvin_utils_project/calvin_utils_project/calvin_utils/file_utils/import_matrices.py:137: PerformanceWarning: DataFrame is highly fragmented.  This is usually the result of calling `frame.insert` many times, which has poor performance.  Consider joining all columns at once using pd.concat(axis=1) instead. To get a de-fragmented frame, use `newframe = frame.copy()`\n",
      "  matrix_df[name] = data.flatten()\n",
      "/Users/cu135/Software_Local/calvin_utils_project/calvin_utils_project/calvin_utils/file_utils/import_matrices.py:137: PerformanceWarning: DataFrame is highly fragmented.  This is usually the result of calling `frame.insert` many times, which has poor performance.  Consider joining all columns at once using pd.concat(axis=1) instead. To get a de-fragmented frame, use `newframe = frame.copy()`\n",
      "  matrix_df[name] = data.flatten()\n",
      "/Users/cu135/Software_Local/calvin_utils_project/calvin_utils_project/calvin_utils/file_utils/import_matrices.py:137: PerformanceWarning: DataFrame is highly fragmented.  This is usually the result of calling `frame.insert` many times, which has poor performance.  Consider joining all columns at once using pd.concat(axis=1) instead. To get a de-fragmented frame, use `newframe = frame.copy()`\n",
      "  matrix_df[name] = data.flatten()\n",
      "/Users/cu135/Software_Local/calvin_utils_project/calvin_utils_project/calvin_utils/file_utils/import_matrices.py:137: PerformanceWarning: DataFrame is highly fragmented.  This is usually the result of calling `frame.insert` many times, which has poor performance.  Consider joining all columns at once using pd.concat(axis=1) instead. To get a de-fragmented frame, use `newframe = frame.copy()`\n",
      "  matrix_df[name] = data.flatten()\n",
      "/Users/cu135/Software_Local/calvin_utils_project/calvin_utils_project/calvin_utils/file_utils/import_matrices.py:137: PerformanceWarning: DataFrame is highly fragmented.  This is usually the result of calling `frame.insert` many times, which has poor performance.  Consider joining all columns at once using pd.concat(axis=1) instead. To get a de-fragmented frame, use `newframe = frame.copy()`\n",
      "  matrix_df[name] = data.flatten()\n",
      "/Users/cu135/Software_Local/calvin_utils_project/calvin_utils_project/calvin_utils/file_utils/import_matrices.py:137: PerformanceWarning: DataFrame is highly fragmented.  This is usually the result of calling `frame.insert` many times, which has poor performance.  Consider joining all columns at once using pd.concat(axis=1) instead. To get a de-fragmented frame, use `newframe = frame.copy()`\n",
      "  matrix_df[name] = data.flatten()\n",
      "/Users/cu135/Software_Local/calvin_utils_project/calvin_utils_project/calvin_utils/file_utils/import_matrices.py:137: PerformanceWarning: DataFrame is highly fragmented.  This is usually the result of calling `frame.insert` many times, which has poor performance.  Consider joining all columns at once using pd.concat(axis=1) instead. To get a de-fragmented frame, use `newframe = frame.copy()`\n",
      "  matrix_df[name] = data.flatten()\n",
      "/Users/cu135/Software_Local/calvin_utils_project/calvin_utils_project/calvin_utils/file_utils/import_matrices.py:137: PerformanceWarning: DataFrame is highly fragmented.  This is usually the result of calling `frame.insert` many times, which has poor performance.  Consider joining all columns at once using pd.concat(axis=1) instead. To get a de-fragmented frame, use `newframe = frame.copy()`\n",
      "  matrix_df[name] = data.flatten()\n",
      "/Users/cu135/Software_Local/calvin_utils_project/calvin_utils_project/calvin_utils/file_utils/import_matrices.py:137: PerformanceWarning: DataFrame is highly fragmented.  This is usually the result of calling `frame.insert` many times, which has poor performance.  Consider joining all columns at once using pd.concat(axis=1) instead. To get a de-fragmented frame, use `newframe = frame.copy()`\n",
      "  matrix_df[name] = data.flatten()\n",
      "/Users/cu135/Software_Local/calvin_utils_project/calvin_utils_project/calvin_utils/file_utils/import_matrices.py:137: PerformanceWarning: DataFrame is highly fragmented.  This is usually the result of calling `frame.insert` many times, which has poor performance.  Consider joining all columns at once using pd.concat(axis=1) instead. To get a de-fragmented frame, use `newframe = frame.copy()`\n",
      "  matrix_df[name] = data.flatten()\n",
      "/Users/cu135/Software_Local/calvin_utils_project/calvin_utils_project/calvin_utils/file_utils/import_matrices.py:137: PerformanceWarning: DataFrame is highly fragmented.  This is usually the result of calling `frame.insert` many times, which has poor performance.  Consider joining all columns at once using pd.concat(axis=1) instead. To get a de-fragmented frame, use `newframe = frame.copy()`\n",
      "  matrix_df[name] = data.flatten()\n",
      "/Users/cu135/Software_Local/calvin_utils_project/calvin_utils_project/calvin_utils/file_utils/import_matrices.py:137: PerformanceWarning: DataFrame is highly fragmented.  This is usually the result of calling `frame.insert` many times, which has poor performance.  Consider joining all columns at once using pd.concat(axis=1) instead. To get a de-fragmented frame, use `newframe = frame.copy()`\n",
      "  matrix_df[name] = data.flatten()\n"
     ]
    },
    {
     "name": "stdout",
     "output_type": "stream",
     "text": [
      "Imported grey_matter: 902629 voxels, 136 patients\n",
      "Example subject filename: smwp1128_S_4607_resampled.nii\n",
      "--------------------------------\n",
      "I will search:  /Volumes/OneTouch/datasets/adni/neuroimaging/cat12_tpms/smwp2*resampled*\n"
     ]
    },
    {
     "name": "stderr",
     "output_type": "stream",
     "text": [
      "/Users/cu135/Software_Local/calvin_utils_project/calvin_utils_project/calvin_utils/file_utils/import_matrices.py:137: PerformanceWarning: DataFrame is highly fragmented.  This is usually the result of calling `frame.insert` many times, which has poor performance.  Consider joining all columns at once using pd.concat(axis=1) instead. To get a de-fragmented frame, use `newframe = frame.copy()`\n",
      "  matrix_df[name] = data.flatten()\n",
      "/Users/cu135/Software_Local/calvin_utils_project/calvin_utils_project/calvin_utils/file_utils/import_matrices.py:137: PerformanceWarning: DataFrame is highly fragmented.  This is usually the result of calling `frame.insert` many times, which has poor performance.  Consider joining all columns at once using pd.concat(axis=1) instead. To get a de-fragmented frame, use `newframe = frame.copy()`\n",
      "  matrix_df[name] = data.flatten()\n",
      "/Users/cu135/Software_Local/calvin_utils_project/calvin_utils_project/calvin_utils/file_utils/import_matrices.py:137: PerformanceWarning: DataFrame is highly fragmented.  This is usually the result of calling `frame.insert` many times, which has poor performance.  Consider joining all columns at once using pd.concat(axis=1) instead. To get a de-fragmented frame, use `newframe = frame.copy()`\n",
      "  matrix_df[name] = data.flatten()\n",
      "/Users/cu135/Software_Local/calvin_utils_project/calvin_utils_project/calvin_utils/file_utils/import_matrices.py:137: PerformanceWarning: DataFrame is highly fragmented.  This is usually the result of calling `frame.insert` many times, which has poor performance.  Consider joining all columns at once using pd.concat(axis=1) instead. To get a de-fragmented frame, use `newframe = frame.copy()`\n",
      "  matrix_df[name] = data.flatten()\n",
      "/Users/cu135/Software_Local/calvin_utils_project/calvin_utils_project/calvin_utils/file_utils/import_matrices.py:137: PerformanceWarning: DataFrame is highly fragmented.  This is usually the result of calling `frame.insert` many times, which has poor performance.  Consider joining all columns at once using pd.concat(axis=1) instead. To get a de-fragmented frame, use `newframe = frame.copy()`\n",
      "  matrix_df[name] = data.flatten()\n",
      "/Users/cu135/Software_Local/calvin_utils_project/calvin_utils_project/calvin_utils/file_utils/import_matrices.py:137: PerformanceWarning: DataFrame is highly fragmented.  This is usually the result of calling `frame.insert` many times, which has poor performance.  Consider joining all columns at once using pd.concat(axis=1) instead. To get a de-fragmented frame, use `newframe = frame.copy()`\n",
      "  matrix_df[name] = data.flatten()\n",
      "/Users/cu135/Software_Local/calvin_utils_project/calvin_utils_project/calvin_utils/file_utils/import_matrices.py:137: PerformanceWarning: DataFrame is highly fragmented.  This is usually the result of calling `frame.insert` many times, which has poor performance.  Consider joining all columns at once using pd.concat(axis=1) instead. To get a de-fragmented frame, use `newframe = frame.copy()`\n",
      "  matrix_df[name] = data.flatten()\n",
      "/Users/cu135/Software_Local/calvin_utils_project/calvin_utils_project/calvin_utils/file_utils/import_matrices.py:137: PerformanceWarning: DataFrame is highly fragmented.  This is usually the result of calling `frame.insert` many times, which has poor performance.  Consider joining all columns at once using pd.concat(axis=1) instead. To get a de-fragmented frame, use `newframe = frame.copy()`\n",
      "  matrix_df[name] = data.flatten()\n",
      "/Users/cu135/Software_Local/calvin_utils_project/calvin_utils_project/calvin_utils/file_utils/import_matrices.py:137: PerformanceWarning: DataFrame is highly fragmented.  This is usually the result of calling `frame.insert` many times, which has poor performance.  Consider joining all columns at once using pd.concat(axis=1) instead. To get a de-fragmented frame, use `newframe = frame.copy()`\n",
      "  matrix_df[name] = data.flatten()\n",
      "/Users/cu135/Software_Local/calvin_utils_project/calvin_utils_project/calvin_utils/file_utils/import_matrices.py:137: PerformanceWarning: DataFrame is highly fragmented.  This is usually the result of calling `frame.insert` many times, which has poor performance.  Consider joining all columns at once using pd.concat(axis=1) instead. To get a de-fragmented frame, use `newframe = frame.copy()`\n",
      "  matrix_df[name] = data.flatten()\n",
      "/Users/cu135/Software_Local/calvin_utils_project/calvin_utils_project/calvin_utils/file_utils/import_matrices.py:137: PerformanceWarning: DataFrame is highly fragmented.  This is usually the result of calling `frame.insert` many times, which has poor performance.  Consider joining all columns at once using pd.concat(axis=1) instead. To get a de-fragmented frame, use `newframe = frame.copy()`\n",
      "  matrix_df[name] = data.flatten()\n",
      "/Users/cu135/Software_Local/calvin_utils_project/calvin_utils_project/calvin_utils/file_utils/import_matrices.py:137: PerformanceWarning: DataFrame is highly fragmented.  This is usually the result of calling `frame.insert` many times, which has poor performance.  Consider joining all columns at once using pd.concat(axis=1) instead. To get a de-fragmented frame, use `newframe = frame.copy()`\n",
      "  matrix_df[name] = data.flatten()\n",
      "/Users/cu135/Software_Local/calvin_utils_project/calvin_utils_project/calvin_utils/file_utils/import_matrices.py:137: PerformanceWarning: DataFrame is highly fragmented.  This is usually the result of calling `frame.insert` many times, which has poor performance.  Consider joining all columns at once using pd.concat(axis=1) instead. To get a de-fragmented frame, use `newframe = frame.copy()`\n",
      "  matrix_df[name] = data.flatten()\n",
      "/Users/cu135/Software_Local/calvin_utils_project/calvin_utils_project/calvin_utils/file_utils/import_matrices.py:137: PerformanceWarning: DataFrame is highly fragmented.  This is usually the result of calling `frame.insert` many times, which has poor performance.  Consider joining all columns at once using pd.concat(axis=1) instead. To get a de-fragmented frame, use `newframe = frame.copy()`\n",
      "  matrix_df[name] = data.flatten()\n",
      "/Users/cu135/Software_Local/calvin_utils_project/calvin_utils_project/calvin_utils/file_utils/import_matrices.py:137: PerformanceWarning: DataFrame is highly fragmented.  This is usually the result of calling `frame.insert` many times, which has poor performance.  Consider joining all columns at once using pd.concat(axis=1) instead. To get a de-fragmented frame, use `newframe = frame.copy()`\n",
      "  matrix_df[name] = data.flatten()\n",
      "/Users/cu135/Software_Local/calvin_utils_project/calvin_utils_project/calvin_utils/file_utils/import_matrices.py:137: PerformanceWarning: DataFrame is highly fragmented.  This is usually the result of calling `frame.insert` many times, which has poor performance.  Consider joining all columns at once using pd.concat(axis=1) instead. To get a de-fragmented frame, use `newframe = frame.copy()`\n",
      "  matrix_df[name] = data.flatten()\n",
      "/Users/cu135/Software_Local/calvin_utils_project/calvin_utils_project/calvin_utils/file_utils/import_matrices.py:137: PerformanceWarning: DataFrame is highly fragmented.  This is usually the result of calling `frame.insert` many times, which has poor performance.  Consider joining all columns at once using pd.concat(axis=1) instead. To get a de-fragmented frame, use `newframe = frame.copy()`\n",
      "  matrix_df[name] = data.flatten()\n",
      "/Users/cu135/Software_Local/calvin_utils_project/calvin_utils_project/calvin_utils/file_utils/import_matrices.py:137: PerformanceWarning: DataFrame is highly fragmented.  This is usually the result of calling `frame.insert` many times, which has poor performance.  Consider joining all columns at once using pd.concat(axis=1) instead. To get a de-fragmented frame, use `newframe = frame.copy()`\n",
      "  matrix_df[name] = data.flatten()\n",
      "/Users/cu135/Software_Local/calvin_utils_project/calvin_utils_project/calvin_utils/file_utils/import_matrices.py:137: PerformanceWarning: DataFrame is highly fragmented.  This is usually the result of calling `frame.insert` many times, which has poor performance.  Consider joining all columns at once using pd.concat(axis=1) instead. To get a de-fragmented frame, use `newframe = frame.copy()`\n",
      "  matrix_df[name] = data.flatten()\n",
      "/Users/cu135/Software_Local/calvin_utils_project/calvin_utils_project/calvin_utils/file_utils/import_matrices.py:137: PerformanceWarning: DataFrame is highly fragmented.  This is usually the result of calling `frame.insert` many times, which has poor performance.  Consider joining all columns at once using pd.concat(axis=1) instead. To get a de-fragmented frame, use `newframe = frame.copy()`\n",
      "  matrix_df[name] = data.flatten()\n",
      "/Users/cu135/Software_Local/calvin_utils_project/calvin_utils_project/calvin_utils/file_utils/import_matrices.py:137: PerformanceWarning: DataFrame is highly fragmented.  This is usually the result of calling `frame.insert` many times, which has poor performance.  Consider joining all columns at once using pd.concat(axis=1) instead. To get a de-fragmented frame, use `newframe = frame.copy()`\n",
      "  matrix_df[name] = data.flatten()\n",
      "/Users/cu135/Software_Local/calvin_utils_project/calvin_utils_project/calvin_utils/file_utils/import_matrices.py:137: PerformanceWarning: DataFrame is highly fragmented.  This is usually the result of calling `frame.insert` many times, which has poor performance.  Consider joining all columns at once using pd.concat(axis=1) instead. To get a de-fragmented frame, use `newframe = frame.copy()`\n",
      "  matrix_df[name] = data.flatten()\n",
      "/Users/cu135/Software_Local/calvin_utils_project/calvin_utils_project/calvin_utils/file_utils/import_matrices.py:137: PerformanceWarning: DataFrame is highly fragmented.  This is usually the result of calling `frame.insert` many times, which has poor performance.  Consider joining all columns at once using pd.concat(axis=1) instead. To get a de-fragmented frame, use `newframe = frame.copy()`\n",
      "  matrix_df[name] = data.flatten()\n",
      "/Users/cu135/Software_Local/calvin_utils_project/calvin_utils_project/calvin_utils/file_utils/import_matrices.py:137: PerformanceWarning: DataFrame is highly fragmented.  This is usually the result of calling `frame.insert` many times, which has poor performance.  Consider joining all columns at once using pd.concat(axis=1) instead. To get a de-fragmented frame, use `newframe = frame.copy()`\n",
      "  matrix_df[name] = data.flatten()\n",
      "/Users/cu135/Software_Local/calvin_utils_project/calvin_utils_project/calvin_utils/file_utils/import_matrices.py:137: PerformanceWarning: DataFrame is highly fragmented.  This is usually the result of calling `frame.insert` many times, which has poor performance.  Consider joining all columns at once using pd.concat(axis=1) instead. To get a de-fragmented frame, use `newframe = frame.copy()`\n",
      "  matrix_df[name] = data.flatten()\n",
      "/Users/cu135/Software_Local/calvin_utils_project/calvin_utils_project/calvin_utils/file_utils/import_matrices.py:137: PerformanceWarning: DataFrame is highly fragmented.  This is usually the result of calling `frame.insert` many times, which has poor performance.  Consider joining all columns at once using pd.concat(axis=1) instead. To get a de-fragmented frame, use `newframe = frame.copy()`\n",
      "  matrix_df[name] = data.flatten()\n",
      "/Users/cu135/Software_Local/calvin_utils_project/calvin_utils_project/calvin_utils/file_utils/import_matrices.py:137: PerformanceWarning: DataFrame is highly fragmented.  This is usually the result of calling `frame.insert` many times, which has poor performance.  Consider joining all columns at once using pd.concat(axis=1) instead. To get a de-fragmented frame, use `newframe = frame.copy()`\n",
      "  matrix_df[name] = data.flatten()\n",
      "/Users/cu135/Software_Local/calvin_utils_project/calvin_utils_project/calvin_utils/file_utils/import_matrices.py:137: PerformanceWarning: DataFrame is highly fragmented.  This is usually the result of calling `frame.insert` many times, which has poor performance.  Consider joining all columns at once using pd.concat(axis=1) instead. To get a de-fragmented frame, use `newframe = frame.copy()`\n",
      "  matrix_df[name] = data.flatten()\n",
      "/Users/cu135/Software_Local/calvin_utils_project/calvin_utils_project/calvin_utils/file_utils/import_matrices.py:137: PerformanceWarning: DataFrame is highly fragmented.  This is usually the result of calling `frame.insert` many times, which has poor performance.  Consider joining all columns at once using pd.concat(axis=1) instead. To get a de-fragmented frame, use `newframe = frame.copy()`\n",
      "  matrix_df[name] = data.flatten()\n",
      "/Users/cu135/Software_Local/calvin_utils_project/calvin_utils_project/calvin_utils/file_utils/import_matrices.py:137: PerformanceWarning: DataFrame is highly fragmented.  This is usually the result of calling `frame.insert` many times, which has poor performance.  Consider joining all columns at once using pd.concat(axis=1) instead. To get a de-fragmented frame, use `newframe = frame.copy()`\n",
      "  matrix_df[name] = data.flatten()\n",
      "/Users/cu135/Software_Local/calvin_utils_project/calvin_utils_project/calvin_utils/file_utils/import_matrices.py:137: PerformanceWarning: DataFrame is highly fragmented.  This is usually the result of calling `frame.insert` many times, which has poor performance.  Consider joining all columns at once using pd.concat(axis=1) instead. To get a de-fragmented frame, use `newframe = frame.copy()`\n",
      "  matrix_df[name] = data.flatten()\n",
      "/Users/cu135/Software_Local/calvin_utils_project/calvin_utils_project/calvin_utils/file_utils/import_matrices.py:137: PerformanceWarning: DataFrame is highly fragmented.  This is usually the result of calling `frame.insert` many times, which has poor performance.  Consider joining all columns at once using pd.concat(axis=1) instead. To get a de-fragmented frame, use `newframe = frame.copy()`\n",
      "  matrix_df[name] = data.flatten()\n",
      "/Users/cu135/Software_Local/calvin_utils_project/calvin_utils_project/calvin_utils/file_utils/import_matrices.py:137: PerformanceWarning: DataFrame is highly fragmented.  This is usually the result of calling `frame.insert` many times, which has poor performance.  Consider joining all columns at once using pd.concat(axis=1) instead. To get a de-fragmented frame, use `newframe = frame.copy()`\n",
      "  matrix_df[name] = data.flatten()\n",
      "/Users/cu135/Software_Local/calvin_utils_project/calvin_utils_project/calvin_utils/file_utils/import_matrices.py:137: PerformanceWarning: DataFrame is highly fragmented.  This is usually the result of calling `frame.insert` many times, which has poor performance.  Consider joining all columns at once using pd.concat(axis=1) instead. To get a de-fragmented frame, use `newframe = frame.copy()`\n",
      "  matrix_df[name] = data.flatten()\n",
      "/Users/cu135/Software_Local/calvin_utils_project/calvin_utils_project/calvin_utils/file_utils/import_matrices.py:137: PerformanceWarning: DataFrame is highly fragmented.  This is usually the result of calling `frame.insert` many times, which has poor performance.  Consider joining all columns at once using pd.concat(axis=1) instead. To get a de-fragmented frame, use `newframe = frame.copy()`\n",
      "  matrix_df[name] = data.flatten()\n",
      "/Users/cu135/Software_Local/calvin_utils_project/calvin_utils_project/calvin_utils/file_utils/import_matrices.py:137: PerformanceWarning: DataFrame is highly fragmented.  This is usually the result of calling `frame.insert` many times, which has poor performance.  Consider joining all columns at once using pd.concat(axis=1) instead. To get a de-fragmented frame, use `newframe = frame.copy()`\n",
      "  matrix_df[name] = data.flatten()\n"
     ]
    },
    {
     "name": "stdout",
     "output_type": "stream",
     "text": [
      "Imported white_matter: 902629 voxels, 136 patients\n",
      "Example subject filename: smwp2018_S_4399_resampled.nii\n",
      "--------------------------------\n",
      "I will search:  /Volumes/OneTouch/datasets/adni/neuroimaging/cat12_tpms/smwp3*resampled*\n",
      "Imported cerebrospinal_fluid: 902629 voxels, 136 patients\n",
      "Example subject filename: smwp3011_S_4105_resampled.nii\n",
      "--------------------------------\n"
     ]
    },
    {
     "name": "stderr",
     "output_type": "stream",
     "text": [
      "/Users/cu135/Software_Local/calvin_utils_project/calvin_utils_project/calvin_utils/file_utils/import_matrices.py:137: PerformanceWarning: DataFrame is highly fragmented.  This is usually the result of calling `frame.insert` many times, which has poor performance.  Consider joining all columns at once using pd.concat(axis=1) instead. To get a de-fragmented frame, use `newframe = frame.copy()`\n",
      "  matrix_df[name] = data.flatten()\n",
      "/Users/cu135/Software_Local/calvin_utils_project/calvin_utils_project/calvin_utils/file_utils/import_matrices.py:137: PerformanceWarning: DataFrame is highly fragmented.  This is usually the result of calling `frame.insert` many times, which has poor performance.  Consider joining all columns at once using pd.concat(axis=1) instead. To get a de-fragmented frame, use `newframe = frame.copy()`\n",
      "  matrix_df[name] = data.flatten()\n",
      "/Users/cu135/Software_Local/calvin_utils_project/calvin_utils_project/calvin_utils/file_utils/import_matrices.py:137: PerformanceWarning: DataFrame is highly fragmented.  This is usually the result of calling `frame.insert` many times, which has poor performance.  Consider joining all columns at once using pd.concat(axis=1) instead. To get a de-fragmented frame, use `newframe = frame.copy()`\n",
      "  matrix_df[name] = data.flatten()\n",
      "/Users/cu135/Software_Local/calvin_utils_project/calvin_utils_project/calvin_utils/file_utils/import_matrices.py:137: PerformanceWarning: DataFrame is highly fragmented.  This is usually the result of calling `frame.insert` many times, which has poor performance.  Consider joining all columns at once using pd.concat(axis=1) instead. To get a de-fragmented frame, use `newframe = frame.copy()`\n",
      "  matrix_df[name] = data.flatten()\n",
      "/Users/cu135/Software_Local/calvin_utils_project/calvin_utils_project/calvin_utils/file_utils/import_matrices.py:137: PerformanceWarning: DataFrame is highly fragmented.  This is usually the result of calling `frame.insert` many times, which has poor performance.  Consider joining all columns at once using pd.concat(axis=1) instead. To get a de-fragmented frame, use `newframe = frame.copy()`\n",
      "  matrix_df[name] = data.flatten()\n",
      "/Users/cu135/Software_Local/calvin_utils_project/calvin_utils_project/calvin_utils/file_utils/import_matrices.py:137: PerformanceWarning: DataFrame is highly fragmented.  This is usually the result of calling `frame.insert` many times, which has poor performance.  Consider joining all columns at once using pd.concat(axis=1) instead. To get a de-fragmented frame, use `newframe = frame.copy()`\n",
      "  matrix_df[name] = data.flatten()\n",
      "/Users/cu135/Software_Local/calvin_utils_project/calvin_utils_project/calvin_utils/file_utils/import_matrices.py:137: PerformanceWarning: DataFrame is highly fragmented.  This is usually the result of calling `frame.insert` many times, which has poor performance.  Consider joining all columns at once using pd.concat(axis=1) instead. To get a de-fragmented frame, use `newframe = frame.copy()`\n",
      "  matrix_df[name] = data.flatten()\n",
      "/Users/cu135/Software_Local/calvin_utils_project/calvin_utils_project/calvin_utils/file_utils/import_matrices.py:137: PerformanceWarning: DataFrame is highly fragmented.  This is usually the result of calling `frame.insert` many times, which has poor performance.  Consider joining all columns at once using pd.concat(axis=1) instead. To get a de-fragmented frame, use `newframe = frame.copy()`\n",
      "  matrix_df[name] = data.flatten()\n",
      "/Users/cu135/Software_Local/calvin_utils_project/calvin_utils_project/calvin_utils/file_utils/import_matrices.py:137: PerformanceWarning: DataFrame is highly fragmented.  This is usually the result of calling `frame.insert` many times, which has poor performance.  Consider joining all columns at once using pd.concat(axis=1) instead. To get a de-fragmented frame, use `newframe = frame.copy()`\n",
      "  matrix_df[name] = data.flatten()\n",
      "/Users/cu135/Software_Local/calvin_utils_project/calvin_utils_project/calvin_utils/file_utils/import_matrices.py:137: PerformanceWarning: DataFrame is highly fragmented.  This is usually the result of calling `frame.insert` many times, which has poor performance.  Consider joining all columns at once using pd.concat(axis=1) instead. To get a de-fragmented frame, use `newframe = frame.copy()`\n",
      "  matrix_df[name] = data.flatten()\n",
      "/Users/cu135/Software_Local/calvin_utils_project/calvin_utils_project/calvin_utils/file_utils/import_matrices.py:137: PerformanceWarning: DataFrame is highly fragmented.  This is usually the result of calling `frame.insert` many times, which has poor performance.  Consider joining all columns at once using pd.concat(axis=1) instead. To get a de-fragmented frame, use `newframe = frame.copy()`\n",
      "  matrix_df[name] = data.flatten()\n",
      "/Users/cu135/Software_Local/calvin_utils_project/calvin_utils_project/calvin_utils/file_utils/import_matrices.py:137: PerformanceWarning: DataFrame is highly fragmented.  This is usually the result of calling `frame.insert` many times, which has poor performance.  Consider joining all columns at once using pd.concat(axis=1) instead. To get a de-fragmented frame, use `newframe = frame.copy()`\n",
      "  matrix_df[name] = data.flatten()\n",
      "/Users/cu135/Software_Local/calvin_utils_project/calvin_utils_project/calvin_utils/file_utils/import_matrices.py:137: PerformanceWarning: DataFrame is highly fragmented.  This is usually the result of calling `frame.insert` many times, which has poor performance.  Consider joining all columns at once using pd.concat(axis=1) instead. To get a de-fragmented frame, use `newframe = frame.copy()`\n",
      "  matrix_df[name] = data.flatten()\n",
      "/Users/cu135/Software_Local/calvin_utils_project/calvin_utils_project/calvin_utils/file_utils/import_matrices.py:137: PerformanceWarning: DataFrame is highly fragmented.  This is usually the result of calling `frame.insert` many times, which has poor performance.  Consider joining all columns at once using pd.concat(axis=1) instead. To get a de-fragmented frame, use `newframe = frame.copy()`\n",
      "  matrix_df[name] = data.flatten()\n",
      "/Users/cu135/Software_Local/calvin_utils_project/calvin_utils_project/calvin_utils/file_utils/import_matrices.py:137: PerformanceWarning: DataFrame is highly fragmented.  This is usually the result of calling `frame.insert` many times, which has poor performance.  Consider joining all columns at once using pd.concat(axis=1) instead. To get a de-fragmented frame, use `newframe = frame.copy()`\n",
      "  matrix_df[name] = data.flatten()\n",
      "/Users/cu135/Software_Local/calvin_utils_project/calvin_utils_project/calvin_utils/file_utils/import_matrices.py:137: PerformanceWarning: DataFrame is highly fragmented.  This is usually the result of calling `frame.insert` many times, which has poor performance.  Consider joining all columns at once using pd.concat(axis=1) instead. To get a de-fragmented frame, use `newframe = frame.copy()`\n",
      "  matrix_df[name] = data.flatten()\n",
      "/Users/cu135/Software_Local/calvin_utils_project/calvin_utils_project/calvin_utils/file_utils/import_matrices.py:137: PerformanceWarning: DataFrame is highly fragmented.  This is usually the result of calling `frame.insert` many times, which has poor performance.  Consider joining all columns at once using pd.concat(axis=1) instead. To get a de-fragmented frame, use `newframe = frame.copy()`\n",
      "  matrix_df[name] = data.flatten()\n",
      "/Users/cu135/Software_Local/calvin_utils_project/calvin_utils_project/calvin_utils/file_utils/import_matrices.py:137: PerformanceWarning: DataFrame is highly fragmented.  This is usually the result of calling `frame.insert` many times, which has poor performance.  Consider joining all columns at once using pd.concat(axis=1) instead. To get a de-fragmented frame, use `newframe = frame.copy()`\n",
      "  matrix_df[name] = data.flatten()\n",
      "/Users/cu135/Software_Local/calvin_utils_project/calvin_utils_project/calvin_utils/file_utils/import_matrices.py:137: PerformanceWarning: DataFrame is highly fragmented.  This is usually the result of calling `frame.insert` many times, which has poor performance.  Consider joining all columns at once using pd.concat(axis=1) instead. To get a de-fragmented frame, use `newframe = frame.copy()`\n",
      "  matrix_df[name] = data.flatten()\n",
      "/Users/cu135/Software_Local/calvin_utils_project/calvin_utils_project/calvin_utils/file_utils/import_matrices.py:137: PerformanceWarning: DataFrame is highly fragmented.  This is usually the result of calling `frame.insert` many times, which has poor performance.  Consider joining all columns at once using pd.concat(axis=1) instead. To get a de-fragmented frame, use `newframe = frame.copy()`\n",
      "  matrix_df[name] = data.flatten()\n",
      "/Users/cu135/Software_Local/calvin_utils_project/calvin_utils_project/calvin_utils/file_utils/import_matrices.py:137: PerformanceWarning: DataFrame is highly fragmented.  This is usually the result of calling `frame.insert` many times, which has poor performance.  Consider joining all columns at once using pd.concat(axis=1) instead. To get a de-fragmented frame, use `newframe = frame.copy()`\n",
      "  matrix_df[name] = data.flatten()\n",
      "/Users/cu135/Software_Local/calvin_utils_project/calvin_utils_project/calvin_utils/file_utils/import_matrices.py:137: PerformanceWarning: DataFrame is highly fragmented.  This is usually the result of calling `frame.insert` many times, which has poor performance.  Consider joining all columns at once using pd.concat(axis=1) instead. To get a de-fragmented frame, use `newframe = frame.copy()`\n",
      "  matrix_df[name] = data.flatten()\n",
      "/Users/cu135/Software_Local/calvin_utils_project/calvin_utils_project/calvin_utils/file_utils/import_matrices.py:137: PerformanceWarning: DataFrame is highly fragmented.  This is usually the result of calling `frame.insert` many times, which has poor performance.  Consider joining all columns at once using pd.concat(axis=1) instead. To get a de-fragmented frame, use `newframe = frame.copy()`\n",
      "  matrix_df[name] = data.flatten()\n",
      "/Users/cu135/Software_Local/calvin_utils_project/calvin_utils_project/calvin_utils/file_utils/import_matrices.py:137: PerformanceWarning: DataFrame is highly fragmented.  This is usually the result of calling `frame.insert` many times, which has poor performance.  Consider joining all columns at once using pd.concat(axis=1) instead. To get a de-fragmented frame, use `newframe = frame.copy()`\n",
      "  matrix_df[name] = data.flatten()\n",
      "/Users/cu135/Software_Local/calvin_utils_project/calvin_utils_project/calvin_utils/file_utils/import_matrices.py:137: PerformanceWarning: DataFrame is highly fragmented.  This is usually the result of calling `frame.insert` many times, which has poor performance.  Consider joining all columns at once using pd.concat(axis=1) instead. To get a de-fragmented frame, use `newframe = frame.copy()`\n",
      "  matrix_df[name] = data.flatten()\n",
      "/Users/cu135/Software_Local/calvin_utils_project/calvin_utils_project/calvin_utils/file_utils/import_matrices.py:137: PerformanceWarning: DataFrame is highly fragmented.  This is usually the result of calling `frame.insert` many times, which has poor performance.  Consider joining all columns at once using pd.concat(axis=1) instead. To get a de-fragmented frame, use `newframe = frame.copy()`\n",
      "  matrix_df[name] = data.flatten()\n",
      "/Users/cu135/Software_Local/calvin_utils_project/calvin_utils_project/calvin_utils/file_utils/import_matrices.py:137: PerformanceWarning: DataFrame is highly fragmented.  This is usually the result of calling `frame.insert` many times, which has poor performance.  Consider joining all columns at once using pd.concat(axis=1) instead. To get a de-fragmented frame, use `newframe = frame.copy()`\n",
      "  matrix_df[name] = data.flatten()\n",
      "/Users/cu135/Software_Local/calvin_utils_project/calvin_utils_project/calvin_utils/file_utils/import_matrices.py:137: PerformanceWarning: DataFrame is highly fragmented.  This is usually the result of calling `frame.insert` many times, which has poor performance.  Consider joining all columns at once using pd.concat(axis=1) instead. To get a de-fragmented frame, use `newframe = frame.copy()`\n",
      "  matrix_df[name] = data.flatten()\n",
      "/Users/cu135/Software_Local/calvin_utils_project/calvin_utils_project/calvin_utils/file_utils/import_matrices.py:137: PerformanceWarning: DataFrame is highly fragmented.  This is usually the result of calling `frame.insert` many times, which has poor performance.  Consider joining all columns at once using pd.concat(axis=1) instead. To get a de-fragmented frame, use `newframe = frame.copy()`\n",
      "  matrix_df[name] = data.flatten()\n",
      "/Users/cu135/Software_Local/calvin_utils_project/calvin_utils_project/calvin_utils/file_utils/import_matrices.py:137: PerformanceWarning: DataFrame is highly fragmented.  This is usually the result of calling `frame.insert` many times, which has poor performance.  Consider joining all columns at once using pd.concat(axis=1) instead. To get a de-fragmented frame, use `newframe = frame.copy()`\n",
      "  matrix_df[name] = data.flatten()\n",
      "/Users/cu135/Software_Local/calvin_utils_project/calvin_utils_project/calvin_utils/file_utils/import_matrices.py:137: PerformanceWarning: DataFrame is highly fragmented.  This is usually the result of calling `frame.insert` many times, which has poor performance.  Consider joining all columns at once using pd.concat(axis=1) instead. To get a de-fragmented frame, use `newframe = frame.copy()`\n",
      "  matrix_df[name] = data.flatten()\n",
      "/Users/cu135/Software_Local/calvin_utils_project/calvin_utils_project/calvin_utils/file_utils/import_matrices.py:137: PerformanceWarning: DataFrame is highly fragmented.  This is usually the result of calling `frame.insert` many times, which has poor performance.  Consider joining all columns at once using pd.concat(axis=1) instead. To get a de-fragmented frame, use `newframe = frame.copy()`\n",
      "  matrix_df[name] = data.flatten()\n",
      "/Users/cu135/Software_Local/calvin_utils_project/calvin_utils_project/calvin_utils/file_utils/import_matrices.py:137: PerformanceWarning: DataFrame is highly fragmented.  This is usually the result of calling `frame.insert` many times, which has poor performance.  Consider joining all columns at once using pd.concat(axis=1) instead. To get a de-fragmented frame, use `newframe = frame.copy()`\n",
      "  matrix_df[name] = data.flatten()\n",
      "/Users/cu135/Software_Local/calvin_utils_project/calvin_utils_project/calvin_utils/file_utils/import_matrices.py:137: PerformanceWarning: DataFrame is highly fragmented.  This is usually the result of calling `frame.insert` many times, which has poor performance.  Consider joining all columns at once using pd.concat(axis=1) instead. To get a de-fragmented frame, use `newframe = frame.copy()`\n",
      "  matrix_df[name] = data.flatten()\n",
      "/Users/cu135/Software_Local/calvin_utils_project/calvin_utils_project/calvin_utils/file_utils/import_matrices.py:137: PerformanceWarning: DataFrame is highly fragmented.  This is usually the result of calling `frame.insert` many times, which has poor performance.  Consider joining all columns at once using pd.concat(axis=1) instead. To get a de-fragmented frame, use `newframe = frame.copy()`\n",
      "  matrix_df[name] = data.flatten()\n",
      "/Users/cu135/Software_Local/calvin_utils_project/calvin_utils_project/calvin_utils/file_utils/import_matrices.py:137: PerformanceWarning: DataFrame is highly fragmented.  This is usually the result of calling `frame.insert` many times, which has poor performance.  Consider joining all columns at once using pd.concat(axis=1) instead. To get a de-fragmented frame, use `newframe = frame.copy()`\n",
      "  matrix_df[name] = data.flatten()\n"
     ]
    }
   ],
   "source": [
    "from calvin_utils.vbm_utils.loading import import_segments\n",
    "ctrl_dict = import_segments(root, gm, wm, csf)"
   ]
  },
  {
   "cell_type": "markdown",
   "metadata": {},
   "source": [
    "# Generate Z-Scored Atrophy Maps for Each Segment"
   ]
  },
  {
   "cell_type": "code",
   "execution_count": 4,
   "metadata": {},
   "outputs": [],
   "source": [
    "from calvin_utils.vbm_utils.processing import process_atrophy\n",
    "atrophy, _, stats = process_atrophy(ctrl_dict, ctrl_dict)"
   ]
  },
  {
   "cell_type": "code",
   "execution_count": 8,
   "metadata": {},
   "outputs": [],
   "source": [
    "import os \n",
    "current_dir = os.path.abspath(os.getcwd())\n",
    "mask = os.path.join(current_dir, 'rois', 'MNI152_T1_2mm_brain_mask.nii')"
   ]
  },
  {
   "cell_type": "code",
   "execution_count": null,
   "metadata": {},
   "outputs": [
    {
     "ename": "ValueError",
     "evalue": "Error No module named 'nimlab'. Resolve by specifying mask or installing nimlab: https://github.com/nimlab/documentation.git",
     "output_type": "error",
     "traceback": [
      "\u001b[0;31m---------------------------------------------------------------------------\u001b[0m",
      "\u001b[0;31mModuleNotFoundError\u001b[0m                       Traceback (most recent call last)",
      "File \u001b[0;32m~/Software_Local/calvin_utils_project/calvin_utils_project/calvin_utils/nifti_utils/generate_nifti.py:42\u001b[0m, in \u001b[0;36mnifti_from_matrix\u001b[0;34m(matrix, output_file, ref_file, use_reference, use_affine, affine, output_name, silent)\u001b[0m\n\u001b[1;32m     41\u001b[0m \u001b[38;5;28;01mtry\u001b[39;00m:\n\u001b[0;32m---> 42\u001b[0m     \u001b[38;5;28;01mfrom\u001b[39;00m \u001b[38;5;21;01mnimlab\u001b[39;00m \u001b[38;5;28;01mimport\u001b[39;00m datasets \u001b[38;5;28;01mas\u001b[39;00m nimds\n\u001b[1;32m     43\u001b[0m     ref_img \u001b[38;5;241m=\u001b[39m nimds\u001b[38;5;241m.\u001b[39mget_img(\u001b[38;5;124m\"\u001b[39m\u001b[38;5;124mmni_icbm152\u001b[39m\u001b[38;5;124m\"\u001b[39m)\n",
      "\u001b[0;31mModuleNotFoundError\u001b[0m: No module named 'nimlab'",
      "\nDuring handling of the above exception, another exception occurred:\n",
      "\u001b[0;31mValueError\u001b[0m                                Traceback (most recent call last)",
      "Cell \u001b[0;32mIn[9], line 3\u001b[0m\n\u001b[1;32m      1\u001b[0m \u001b[38;5;28;01mfrom\u001b[39;00m \u001b[38;5;21;01mcalvin_utils\u001b[39;00m\u001b[38;5;21;01m.\u001b[39;00m\u001b[38;5;21;01mnifti_utils\u001b[39;00m\u001b[38;5;21;01m.\u001b[39;00m\u001b[38;5;21;01mgenerate_nifti\u001b[39;00m \u001b[38;5;28;01mimport\u001b[39;00m view_and_save_nifti\n\u001b[1;32m      2\u001b[0m \u001b[38;5;28;01mfor\u001b[39;00m tissue \u001b[38;5;129;01min\u001b[39;00m stats\u001b[38;5;241m.\u001b[39mkeys():  \n\u001b[0;32m----> 3\u001b[0m     \u001b[43mview_and_save_nifti\u001b[49m\u001b[43m(\u001b[49m\u001b[43mstats\u001b[49m\u001b[43m[\u001b[49m\u001b[43mtissue\u001b[49m\u001b[43m]\u001b[49m\u001b[43m[\u001b[49m\u001b[38;5;241;43m0\u001b[39;49m\u001b[43m]\u001b[49m\u001b[43m,\u001b[49m\u001b[43m \u001b[49m\u001b[43mout_dir\u001b[49m\u001b[38;5;241;43m=\u001b[39;49m\u001b[43mout_dir\u001b[49m\u001b[43m,\u001b[49m\u001b[43m \u001b[49m\u001b[43moutput_name\u001b[49m\u001b[38;5;241;43m=\u001b[39;49m\u001b[38;5;124;43mf\u001b[39;49m\u001b[38;5;124;43m'\u001b[39;49m\u001b[38;5;132;43;01m{\u001b[39;49;00m\u001b[43mtissue\u001b[49m\u001b[38;5;132;43;01m}\u001b[39;49;00m\u001b[38;5;124;43m_mean\u001b[39;49m\u001b[38;5;124;43m'\u001b[39;49m\u001b[43m,\u001b[49m\u001b[43m \u001b[49m\u001b[43msilent\u001b[49m\u001b[38;5;241;43m=\u001b[39;49m\u001b[38;5;28;43;01mFalse\u001b[39;49;00m\u001b[43m)\u001b[49m\n\u001b[1;32m      4\u001b[0m     view_and_save_nifti(stats[tissue][\u001b[38;5;241m1\u001b[39m], out_dir\u001b[38;5;241m=\u001b[39mout_dir, output_name\u001b[38;5;241m=\u001b[39m\u001b[38;5;124mf\u001b[39m\u001b[38;5;124m'\u001b[39m\u001b[38;5;132;01m{\u001b[39;00mtissue\u001b[38;5;132;01m}\u001b[39;00m\u001b[38;5;124m_std\u001b[39m\u001b[38;5;124m'\u001b[39m, silent\u001b[38;5;241m=\u001b[39m\u001b[38;5;28;01mFalse\u001b[39;00m)\n",
      "File \u001b[0;32m~/Software_Local/calvin_utils_project/calvin_utils_project/calvin_utils/nifti_utils/generate_nifti.py:249\u001b[0m, in \u001b[0;36mview_and_save_nifti\u001b[0;34m(matrix, out_dir, output_name, silent, ref_file)\u001b[0m\n\u001b[1;32m    248\u001b[0m \u001b[38;5;28;01mdef\u001b[39;00m \u001b[38;5;21mview_and_save_nifti\u001b[39m(matrix, out_dir, output_name\u001b[38;5;241m=\u001b[39m\u001b[38;5;28;01mNone\u001b[39;00m, silent\u001b[38;5;241m=\u001b[39m\u001b[38;5;28;01mFalse\u001b[39;00m, ref_file\u001b[38;5;241m=\u001b[39m\u001b[38;5;28;01mNone\u001b[39;00m):\n\u001b[0;32m--> 249\u001b[0m     img \u001b[38;5;241m=\u001b[39m \u001b[43mnifti_from_matrix\u001b[49m\u001b[43m(\u001b[49m\u001b[43mmatrix\u001b[49m\u001b[43m,\u001b[49m\u001b[43m \u001b[49m\u001b[43moutput_file\u001b[49m\u001b[38;5;241;43m=\u001b[39;49m\u001b[43mout_dir\u001b[49m\u001b[43m,\u001b[49m\u001b[43m \u001b[49m\u001b[43moutput_name\u001b[49m\u001b[38;5;241;43m=\u001b[39;49m\u001b[43moutput_name\u001b[49m\u001b[43m,\u001b[49m\u001b[43m \u001b[49m\u001b[43msilent\u001b[49m\u001b[38;5;241;43m=\u001b[39;49m\u001b[43msilent\u001b[49m\u001b[43m,\u001b[49m\u001b[43m \u001b[49m\u001b[43mref_file\u001b[49m\u001b[38;5;241;43m=\u001b[39;49m\u001b[43mref_file\u001b[49m\u001b[43m)\u001b[49m\n\u001b[1;32m    250\u001b[0m     \u001b[38;5;28;01mif\u001b[39;00m silent:\n\u001b[1;32m    251\u001b[0m         \u001b[38;5;28;01mreturn\u001b[39;00m \u001b[38;5;28;01mNone\u001b[39;00m\n",
      "File \u001b[0;32m~/Software_Local/calvin_utils_project/calvin_utils_project/calvin_utils/nifti_utils/generate_nifti.py:45\u001b[0m, in \u001b[0;36mnifti_from_matrix\u001b[0;34m(matrix, output_file, ref_file, use_reference, use_affine, affine, output_name, silent)\u001b[0m\n\u001b[1;32m     43\u001b[0m         ref_img \u001b[38;5;241m=\u001b[39m nimds\u001b[38;5;241m.\u001b[39mget_img(\u001b[38;5;124m\"\u001b[39m\u001b[38;5;124mmni_icbm152\u001b[39m\u001b[38;5;124m\"\u001b[39m)\n\u001b[1;32m     44\u001b[0m     \u001b[38;5;28;01mexcept\u001b[39;00m \u001b[38;5;167;01mException\u001b[39;00m \u001b[38;5;28;01mas\u001b[39;00m e:\n\u001b[0;32m---> 45\u001b[0m         \u001b[38;5;28;01mraise\u001b[39;00m \u001b[38;5;167;01mValueError\u001b[39;00m(\u001b[38;5;124mf\u001b[39m\u001b[38;5;124m\"\u001b[39m\u001b[38;5;124mError \u001b[39m\u001b[38;5;132;01m{\u001b[39;00me\u001b[38;5;132;01m}\u001b[39;00m\u001b[38;5;124m. Resolve by specifying mask or installing nimlab: https://github.com/nimlab/documentation.git\u001b[39m\u001b[38;5;124m\"\u001b[39m)\n\u001b[1;32m     46\u001b[0m \u001b[38;5;28;01melse\u001b[39;00m:\n\u001b[1;32m     47\u001b[0m     ref_img \u001b[38;5;241m=\u001b[39m image\u001b[38;5;241m.\u001b[39mload_img(ref_file)\n",
      "\u001b[0;31mValueError\u001b[0m: Error No module named 'nimlab'. Resolve by specifying mask or installing nimlab: https://github.com/nimlab/documentation.git"
     ]
    }
   ],
   "source": [
    "from calvin_utils.nifti_utils.generate_nifti import view_and_save_nifti\n",
    "for tissue in stats.keys():  \n",
    "    view_and_save_nifti(stats[tissue][0], out_dir=out_dir, output_name=f'{tissue}_mean', silent=False, ref_file=mask)\n",
    "    view_and_save_nifti(stats[tissue][1], out_dir=out_dir, output_name=f'{tissue}_std', silent=False, ref_file=mask)"
   ]
  },
  {
   "cell_type": "markdown",
   "metadata": {},
   "source": [
    "# Generate H-Scored (Composite) Atrophy Maps"
   ]
  },
  {
   "cell_type": "code",
   "execution_count": null,
   "metadata": {},
   "outputs": [],
   "source": [
    "from calvin_utils.vbm_utils.composite_atrophy_mapper import generate_norm_map\n",
    "h, mean, std = generate_norm_map(ctrl_dict, ctrl_dict)"
   ]
  },
  {
   "cell_type": "code",
   "execution_count": null,
   "metadata": {},
   "outputs": [],
   "source": [
    "from calvin_utils.nifti_utils.generate_nifti import view_and_save_nifti\n",
    "view_and_save_nifti(h, out_dir=out_dir, output_name='norm_mean', silent=False, ref_file=mask)"
   ]
  },
  {
   "cell_type": "code",
   "execution_count": null,
   "metadata": {},
   "outputs": [],
   "source": [
    "from calvin_utils.nifti_utils.generate_nifti import view_and_save_nifti\n",
    "view_and_save_nifti(h, out_dir=out_dir, output_name='norm_std', silent=False, ref_file=mask)"
   ]
  },
  {
   "cell_type": "markdown",
   "metadata": {},
   "source": [
    "All Done. Enjoy your atrophy seeds.\n",
    "\n",
    "--Calvin"
   ]
  }
 ],
 "metadata": {
  "kernelspec": {
   "display_name": "Python_3.7.7_nimlab",
   "language": "python",
   "name": "python3"
  },
  "language_info": {
   "codemirror_mode": {
    "name": "ipython",
    "version": 3
   },
   "file_extension": ".py",
   "mimetype": "text/x-python",
   "name": "python",
   "nbconvert_exporter": "python",
   "pygments_lexer": "ipython3",
   "version": "3.11.12"
  },
  "orig_nbformat": 4
 },
 "nbformat": 4,
 "nbformat_minor": 2
}
