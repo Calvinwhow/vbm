{
 "cells": [
  {
   "cell_type": "markdown",
   "metadata": {},
   "source": [
    "# 01 - Pull or Build the Docker Container"
   ]
  },
  {
   "cell_type": "code",
   "execution_count": 1,
   "metadata": {},
   "outputs": [
    {
     "name": "stdout",
     "output_type": "stream",
     "text": [
      "Building Docker image...\n",
      "2024/11/07 22:23:38 http2: server: error reading preface from client //./pipe/docker_engine: file has already been closed\n",
      "#0 building with \"default\" instance using docker driver\n",
      "\n",
      "#1 [internal] load build definition from Dockerfile.cat12\n",
      "#1 transferring dockerfile: 1.92kB done\n",
      "#1 DONE 0.0s\n",
      "\n",
      "#2 [internal] load metadata for docker.io/library/ubuntu:focal-20210416\n",
      "#2 DONE 0.3s\n",
      "\n",
      "#3 [internal] load .dockerignore\n",
      "#3 transferring context: 2B done\n",
      "#3 DONE 0.0s\n",
      "\n",
      "#4 [1/5] FROM docker.io/library/ubuntu:focal-20210416@sha256:adf73ca014822ad8237623d388cedf4d5346aa72c270c5acc01431cc93e18e2d\n",
      "#4 DONE 0.0s\n",
      "\n",
      "#5 [2/5] WORKDIR /root\n",
      "#5 CACHED\n",
      "\n",
      "#6 [3/5] RUN apt-get update  && apt-get -y install wget nano unzip libxext6 libxt6 moreutils  && apt-get clean\n",
      "#6 CACHED\n",
      "\n",
      "#7 [4/5] RUN mkdir /tmp/mcr_install  && mkdir /opt/mcr  && wget --progress=bar:force -P /tmp/mcr_install https://ssd.mathworks.com/supportfiles/downloads/R2017b/deployment_files/R2017b/installers/glnxa64/MCR_R2017b_glnxa64_installer.zip  && unzip -q /tmp/mcr_install/MCR_R2017b_glnxa64_installer.zip -d /tmp/mcr_install  && /tmp/mcr_install/install -destinationFolder /opt/mcr -agreeToLicense yes -mode silent\n",
      "#7 CACHED\n",
      "\n",
      "#8 [5/5] RUN wget --progress=bar:force -P /tmp http://www.neuro.uni-jena.de/cat12/CAT12.8.2_r2166_R2017b_MCR_Linux.zip  && unzip -q /tmp/CAT12.8.2_r2166_R2017b_MCR_Linux.zip -d /opt  && mv /opt/CAT12.8.2_r2166_R2017b_MCR_Linux /opt/spm  && /opt/spm/run_spm12.sh /opt/mcr/v93 --version  && chmod +x /opt/spm/spm12 /opt/spm/*.sh /opt/spm/spm12_mcr/home/gaser/gaser/spm/spm12/toolbox/cat12/CAT.glnx86/CAT_*  && cp -v /opt/spm/spm12_mcr/home/gaser/gaser/spm/spm12/toolbox/cat12/cat_long_main.txt /opt/spm/spm12_mcr/home/gaser/gaser/spm/spm12/toolbox/cat12/cat_long_main.m  && rm -rf /tmp/*\n",
      "#8 CACHED\n",
      "\n",
      "#9 exporting to image\n",
      "#9 exporting layers done\n",
      "#9 writing image sha256:3d7f1b462fc436bfde342c5e6ca62b752b26632381207608f894b9c9c65fd8d2 done\n",
      "#9 naming to docker.io/library/cat12:latest done\n",
      "#9 DONE 0.0s\n",
      "\n",
      "View build details: docker-desktop://dashboard/build/default/default/fi0g1ng5tbkatkv11d2hszdln\n",
      "\n",
      "What's Next?\n",
      "  View a summary of image vulnerabilities and recommendations â†’ docker scout quickview\n",
      "\n",
      "Docker image built successfully.\n"
     ]
    }
   ],
   "source": [
    "import sys\n",
    "sys.path.append(r\"c:\\Users\\Calvin\\Documents\\Software\\vbm\")\n",
    "from src.calvin_vbm import CalvinVBM\n",
    "CalvinVBM.build_docker_image()\n",
    "# CalvinVBM.run_docker_on_folder(folder_path=folder_path)"
   ]
  },
  {
   "cell_type": "markdown",
   "metadata": {},
   "source": [
    "# 02 - Run Docker Container"
   ]
  },
  {
   "cell_type": "markdown",
   "metadata": {},
   "source": [
    "Choose folder"
   ]
  },
  {
   "cell_type": "code",
   "execution_count": 1,
   "metadata": {},
   "outputs": [],
   "source": [
    "folder_path = r'C:\\Users\\Calvin\\Partners HealthCare Dropbox\\Calvin Howard\\resources\\datasets\\PINES_SCHIZOPHRENIA_ECT'"
   ]
  },
  {
   "cell_type": "markdown",
   "metadata": {},
   "source": [
    "Choose script to run from vbm/src"
   ]
  },
  {
   "cell_type": "code",
   "execution_count": 2,
   "metadata": {},
   "outputs": [],
   "source": [
    "script = r'C:\\Users\\Calvin\\Documents\\Software\\vbm\\src\\run_segmentation_bids.sh'"
   ]
  },
  {
   "cell_type": "markdown",
   "metadata": {},
   "source": [
    "Run it"
   ]
  },
  {
   "cell_type": "code",
   "execution_count": 3,
   "metadata": {},
   "outputs": [
    {
     "name": "stdout",
     "output_type": "stream",
     "text": [
      "Running Docker container with script: run_segmentation_bids.sh\n",
      "An error occurred while running Docker: Command '['docker', 'run', '--rm', '-v', 'C:/Users/Calvin/Partners HealthCare Dropbox/Calvin Howard/resources/datasets/PINES_SCHIZOPHRENIA_ECT:/data', '-v', 'C:/Users/Calvin/Documents/Software/vbm/src:/scripts', 'cat12:latest', '/scripts/run_segmentation_bids.sh']' returned non-zero exit status 137.\n"
     ]
    }
   ],
   "source": [
    "import sys\n",
    "sys.path.append(r\"c:\\Users\\Calvin\\Documents\\Software\\vbm\")\n",
    "from src.calvin_vbm import CalvinVBM\n",
    "CalvinVBM.run_docker_with_script(folder_path, script)"
   ]
  },
  {
   "cell_type": "markdown",
   "metadata": {},
   "source": [
    "# Option B - Run A BIDS-Style Directory with Exposed Nifti Files"
   ]
  },
  {
   "cell_type": "markdown",
   "metadata": {},
   "source": [
    "Your VBM is now running. \n",
    " - Calvin Howard\n",
    " - e: choward12@bwh.harvard.edu"
   ]
  }
 ],
 "metadata": {
  "kernelspec": {
   "display_name": "Python 3",
   "language": "python",
   "name": "python3"
  },
  "language_info": {
   "codemirror_mode": {
    "name": "ipython",
    "version": 3
   },
   "file_extension": ".py",
   "mimetype": "text/x-python",
   "name": "python",
   "nbconvert_exporter": "python",
   "pygments_lexer": "ipython3",
   "version": "3.11.9"
  }
 },
 "nbformat": 4,
 "nbformat_minor": 2
}
