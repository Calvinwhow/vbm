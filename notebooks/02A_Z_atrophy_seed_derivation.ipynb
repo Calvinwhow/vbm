{
 "cells": [
  {
   "cell_type": "markdown",
   "metadata": {},
   "source": [
    "# 01 - Load Controls"
   ]
  },
  {
   "cell_type": "code",
   "execution_count": null,
   "metadata": {},
   "outputs": [],
   "source": [
    "root = '/Volumes/OneTouch/datasets/adni/neuroimaging/easyreg_processed/sub-*/segmentation'\n",
    "gm = '*smwp1*resampled*'\n",
    "wm = '*smwp2*resampled*'\n",
    "csf = '*smwp3*resampled*'"
   ]
  },
  {
   "cell_type": "code",
   "execution_count": 2,
   "metadata": {},
   "outputs": [
    {
     "name": "stdout",
     "output_type": "stream",
     "text": [
      "I will search:  /Volumes/OneTouch/datasets/adni/neuroimaging/easyreg_processed/sub-*/segmentation/smwp1*resampled*\n",
      "Imported grey_matter: 0 voxels, 0 patients\n"
     ]
    },
    {
     "ename": "IndexError",
     "evalue": "index -1 is out of bounds for axis 0 with size 0",
     "output_type": "error",
     "traceback": [
      "\u001b[0;31m---------------------------------------------------------------------------\u001b[0m",
      "\u001b[0;31mIndexError\u001b[0m                                Traceback (most recent call last)",
      "File \u001b[0;32m~/.virtualenvs/Python_3.7.7_nimlab/lib/python3.11/site-packages/pandas/core/indexes/range.py:1018\u001b[0m, in \u001b[0;36mRangeIndex.__getitem__\u001b[0;34m(self, key)\u001b[0m\n\u001b[1;32m   1017\u001b[0m \u001b[38;5;28;01mtry\u001b[39;00m:\n\u001b[0;32m-> 1018\u001b[0m     \u001b[38;5;28;01mreturn\u001b[39;00m \u001b[38;5;28;43mself\u001b[39;49m\u001b[38;5;241;43m.\u001b[39;49m\u001b[43m_range\u001b[49m\u001b[43m[\u001b[49m\u001b[43mnew_key\u001b[49m\u001b[43m]\u001b[49m\n\u001b[1;32m   1019\u001b[0m \u001b[38;5;28;01mexcept\u001b[39;00m \u001b[38;5;167;01mIndexError\u001b[39;00m \u001b[38;5;28;01mas\u001b[39;00m err:\n",
      "\u001b[0;31mIndexError\u001b[0m: range object index out of range",
      "\nThe above exception was the direct cause of the following exception:\n",
      "\u001b[0;31mIndexError\u001b[0m                                Traceback (most recent call last)",
      "Cell \u001b[0;32mIn[2], line 2\u001b[0m\n\u001b[1;32m      1\u001b[0m \u001b[38;5;28;01mfrom\u001b[39;00m \u001b[38;5;21;01mcalvin_utils\u001b[39;00m\u001b[38;5;21;01m.\u001b[39;00m\u001b[38;5;21;01mvbm_utils\u001b[39;00m\u001b[38;5;21;01m.\u001b[39;00m\u001b[38;5;21;01mloading\u001b[39;00m \u001b[38;5;28;01mimport\u001b[39;00m import_segments\n\u001b[0;32m----> 2\u001b[0m ctrl_dict \u001b[38;5;241m=\u001b[39m \u001b[43mimport_segments\u001b[49m\u001b[43m(\u001b[49m\u001b[43mroot\u001b[49m\u001b[43m,\u001b[49m\u001b[43m \u001b[49m\u001b[43mgm\u001b[49m\u001b[43m,\u001b[49m\u001b[43m \u001b[49m\u001b[43mwm\u001b[49m\u001b[43m,\u001b[49m\u001b[43m \u001b[49m\u001b[43mcsf\u001b[49m\u001b[43m)\u001b[49m\n",
      "File \u001b[0;32m~/Software_Local/calvin_utils_project/calvin_utils_project/calvin_utils/vbm_utils/loading.py:50\u001b[0m, in \u001b[0;36mimport_segments\u001b[0;34m(base_dir, gm_pattern, wm_pattern, csf_pattern)\u001b[0m\n\u001b[1;32m     48\u001b[0m     dfs[tissue] \u001b[38;5;241m=\u001b[39m import_matrices_from_folder(connectivity_path\u001b[38;5;241m=\u001b[39mbase_dir, file_pattern\u001b[38;5;241m=\u001b[39mpattern)\n\u001b[1;32m     49\u001b[0m     \u001b[38;5;28mprint\u001b[39m(\u001b[38;5;124mf\u001b[39m\u001b[38;5;124m'\u001b[39m\u001b[38;5;124mImported \u001b[39m\u001b[38;5;132;01m{\u001b[39;00mtissue\u001b[38;5;132;01m}\u001b[39;00m\u001b[38;5;124m: \u001b[39m\u001b[38;5;132;01m{\u001b[39;00mdfs[tissue]\u001b[38;5;241m.\u001b[39mshape[\u001b[38;5;241m0\u001b[39m]\u001b[38;5;132;01m}\u001b[39;00m\u001b[38;5;124m voxels, \u001b[39m\u001b[38;5;132;01m{\u001b[39;00mdfs[tissue]\u001b[38;5;241m.\u001b[39mshape[\u001b[38;5;241m1\u001b[39m]\u001b[38;5;132;01m}\u001b[39;00m\u001b[38;5;124m patients\u001b[39m\u001b[38;5;124m'\u001b[39m)\n\u001b[0;32m---> 50\u001b[0m     \u001b[38;5;28mprint\u001b[39m(\u001b[38;5;124mf\u001b[39m\u001b[38;5;124m'\u001b[39m\u001b[38;5;124mExample subject filename: \u001b[39m\u001b[38;5;132;01m{\u001b[39;00m\u001b[43mdfs\u001b[49m\u001b[43m[\u001b[49m\u001b[43mtissue\u001b[49m\u001b[43m]\u001b[49m\u001b[38;5;241;43m.\u001b[39;49m\u001b[43mcolumns\u001b[49m\u001b[43m[\u001b[49m\u001b[38;5;241;43m-\u001b[39;49m\u001b[38;5;241;43m1\u001b[39;49m\u001b[43m]\u001b[49m\u001b[38;5;132;01m}\u001b[39;00m\u001b[38;5;124m'\u001b[39m)\n\u001b[1;32m     51\u001b[0m     \u001b[38;5;28mprint\u001b[39m(\u001b[38;5;124m'\u001b[39m\u001b[38;5;124m--------------------------------\u001b[39m\u001b[38;5;124m'\u001b[39m)\n\u001b[1;32m     52\u001b[0m \u001b[38;5;28;01mreturn\u001b[39;00m dfs\n",
      "File \u001b[0;32m~/.virtualenvs/Python_3.7.7_nimlab/lib/python3.11/site-packages/pandas/core/indexes/range.py:1020\u001b[0m, in \u001b[0;36mRangeIndex.__getitem__\u001b[0;34m(self, key)\u001b[0m\n\u001b[1;32m   1018\u001b[0m         \u001b[38;5;28;01mreturn\u001b[39;00m \u001b[38;5;28mself\u001b[39m\u001b[38;5;241m.\u001b[39m_range[new_key]\n\u001b[1;32m   1019\u001b[0m     \u001b[38;5;28;01mexcept\u001b[39;00m \u001b[38;5;167;01mIndexError\u001b[39;00m \u001b[38;5;28;01mas\u001b[39;00m err:\n\u001b[0;32m-> 1020\u001b[0m         \u001b[38;5;28;01mraise\u001b[39;00m \u001b[38;5;167;01mIndexError\u001b[39;00m(\n\u001b[1;32m   1021\u001b[0m             \u001b[38;5;124mf\u001b[39m\u001b[38;5;124m\"\u001b[39m\u001b[38;5;124mindex \u001b[39m\u001b[38;5;132;01m{\u001b[39;00mkey\u001b[38;5;132;01m}\u001b[39;00m\u001b[38;5;124m is out of bounds for axis 0 with size \u001b[39m\u001b[38;5;132;01m{\u001b[39;00m\u001b[38;5;28mlen\u001b[39m(\u001b[38;5;28mself\u001b[39m)\u001b[38;5;132;01m}\u001b[39;00m\u001b[38;5;124m\"\u001b[39m\n\u001b[1;32m   1022\u001b[0m         ) \u001b[38;5;28;01mfrom\u001b[39;00m \u001b[38;5;21;01merr\u001b[39;00m\n\u001b[1;32m   1023\u001b[0m \u001b[38;5;28;01melif\u001b[39;00m is_scalar(key):\n\u001b[1;32m   1024\u001b[0m     \u001b[38;5;28;01mraise\u001b[39;00m \u001b[38;5;167;01mIndexError\u001b[39;00m(\n\u001b[1;32m   1025\u001b[0m         \u001b[38;5;124m\"\u001b[39m\u001b[38;5;124monly integers, slices (`:`), \u001b[39m\u001b[38;5;124m\"\u001b[39m\n\u001b[1;32m   1026\u001b[0m         \u001b[38;5;124m\"\u001b[39m\u001b[38;5;124mellipsis (`...`), numpy.newaxis (`None`) \u001b[39m\u001b[38;5;124m\"\u001b[39m\n\u001b[1;32m   1027\u001b[0m         \u001b[38;5;124m\"\u001b[39m\u001b[38;5;124mand integer or boolean \u001b[39m\u001b[38;5;124m\"\u001b[39m\n\u001b[1;32m   1028\u001b[0m         \u001b[38;5;124m\"\u001b[39m\u001b[38;5;124marrays are valid indices\u001b[39m\u001b[38;5;124m\"\u001b[39m\n\u001b[1;32m   1029\u001b[0m     )\n",
      "\u001b[0;31mIndexError\u001b[0m: index -1 is out of bounds for axis 0 with size 0"
     ]
    }
   ],
   "source": [
    "from calvin_utils.vbm_utils.loading import import_segments\n",
    "ctrl_dict = import_segments(root, gm, wm, csf)"
   ]
  },
  {
   "cell_type": "markdown",
   "metadata": {},
   "source": [
    "# 02 - Load Experimentals"
   ]
  },
  {
   "cell_type": "code",
   "execution_count": null,
   "metadata": {},
   "outputs": [],
   "source": [
    "root = '/Users/cu135/Partners HealthCare Dropbox/Calvin Howard/studies/atrophy_seeds_2023/shared_analysis/niftis_for_elmira/vbm_derivatives/mri'\n",
    "gm = 'mwp1*resampled*'\n",
    "wm = 'mwp2*resampled*'\n",
    "csf = 'mwp3*resampled*'"
   ]
  },
  {
   "cell_type": "code",
   "execution_count": null,
   "metadata": {},
   "outputs": [
    {
     "name": "stdout",
     "output_type": "stream",
     "text": [
      "I will search:  /Users/cu135/Partners HealthCare Dropbox/Calvin Howard/studies/atrophy_seeds_2023/shared_analysis/niftis_for_elmira/vbm_derivatives/mri/mwp1*resampled*\n",
      "Imported grey_matter: 902629 voxels, 50 patients\n",
      "Example subject filename: mwp10033_resampled.nii\n",
      "--------------------------------\n",
      "I will search:  /Users/cu135/Partners HealthCare Dropbox/Calvin Howard/studies/atrophy_seeds_2023/shared_analysis/niftis_for_elmira/vbm_derivatives/mri/mwp2*resampled*\n",
      "Imported white_matter: 902629 voxels, 50 patients\n",
      "Example subject filename: mwp20049_resampled.nii\n",
      "--------------------------------\n",
      "I will search:  /Users/cu135/Partners HealthCare Dropbox/Calvin Howard/studies/atrophy_seeds_2023/shared_analysis/niftis_for_elmira/vbm_derivatives/mri/mwp3*resampled*\n",
      "Imported cerebrospinal_fluid: 902629 voxels, 50 patients\n",
      "Example subject filename: mwp30029_resampled.nii\n",
      "--------------------------------\n"
     ]
    }
   ],
   "source": [
    "from calvin_utils.vbm_utils.loading import import_segments\n",
    "expt_dict = import_segments(root, gm, wm, csf)"
   ]
  },
  {
   "cell_type": "markdown",
   "metadata": {},
   "source": [
    "# Generate Z-Scored Atrophy Maps for Each Segment"
   ]
  },
  {
   "cell_type": "code",
   "execution_count": null,
   "metadata": {},
   "outputs": [],
   "source": [
    "from calvin_utils.vbm_utils.processing import process_atrophy\n",
    "atrophy, atrophy_t, _ = process_atrophy(expt_dict, ctrl_dict)"
   ]
  },
  {
   "cell_type": "markdown",
   "metadata": {},
   "source": [
    "# Generate H-Scored (Composite) Atrophy Maps"
   ]
  },
  {
   "cell_type": "code",
   "execution_count": null,
   "metadata": {},
   "outputs": [
    {
     "name": "stdout",
     "output_type": "stream",
     "text": [
      "Flipping CSF Z score sign.\n"
     ]
    }
   ],
   "source": [
    "from calvin_utils.vbm_utils.composite_atrophy_mapper import generate_norm_map\n",
    "z_ctrl, _, _ = process_atrophy(data_dict=ctrl_dict, ctrl_dict=ctrl_dict)\n",
    "h, _, _ = generate_norm_map(pt_dict=atrophy, ctrl_dict=z_ctrl)\n",
    "atrophy['composite'] = h\n",
    "atrophy_t['composite'] = h > 2.0"
   ]
  },
  {
   "cell_type": "markdown",
   "metadata": {},
   "source": [
    "# Save the Z-Scored Maps"
   ]
  },
  {
   "cell_type": "markdown",
   "metadata": {},
   "source": [
    "Where to save?"
   ]
  },
  {
   "cell_type": "code",
   "execution_count": null,
   "metadata": {},
   "outputs": [],
   "source": [
    "base_directory = r'/Volumes/OneTouch/datasets/adni/neuroimaging/50_mwp-ad_smwp-easyreg_atrophy'\n",
    "session = None"
   ]
  },
  {
   "cell_type": "markdown",
   "metadata": {},
   "source": [
    "Unthresholded Maps"
   ]
  },
  {
   "cell_type": "code",
   "execution_count": null,
   "metadata": {},
   "outputs": [],
   "source": [
    "import os\n",
    "mask_path = '/Users/cu135/hires_backdrops/mni/MNI152_T1_2mm_brain_mask.nii'\n",
    "# mask_path = os.path.join(os.path.dirname(os.path.abspath('')), 'rois', 'MNI152_T1_2mm_brain_mask.nii')"
   ]
  },
  {
   "cell_type": "code",
   "execution_count": null,
   "metadata": {},
   "outputs": [
    {
     "name": "stderr",
     "output_type": "stream",
     "text": [
      "  0%|          | 0/4 [00:00<?, ?it/s]"
     ]
    },
    {
     "name": "stdout",
     "output_type": "stream",
     "text": [
      "Image saved to: \n",
      " /Volumes/OneTouch/datasets/adni/neuroimaging/50_ad_smwp_atrophy/sub-0042/ses-01/unthresholded_tissue_segment_z_scores\n",
      "Image saved to: \n",
      " /Volumes/OneTouch/datasets/adni/neuroimaging/50_ad_smwp_atrophy/sub-0046/ses-01/unthresholded_tissue_segment_z_scores\n",
      "Image saved to: \n",
      " /Volumes/OneTouch/datasets/adni/neuroimaging/50_ad_smwp_atrophy/sub-0032/ses-01/unthresholded_tissue_segment_z_scores\n",
      "Image saved to: \n",
      " /Volumes/OneTouch/datasets/adni/neuroimaging/50_ad_smwp_atrophy/sub-0025/ses-01/unthresholded_tissue_segment_z_scores\n",
      "Image saved to: \n",
      " /Volumes/OneTouch/datasets/adni/neuroimaging/50_ad_smwp_atrophy/sub-0021/ses-01/unthresholded_tissue_segment_z_scores\n",
      "Image saved to: \n",
      " /Volumes/OneTouch/datasets/adni/neuroimaging/50_ad_smwp_atrophy/sub-0036/ses-01/unthresholded_tissue_segment_z_scores\n",
      "Image saved to: \n",
      " /Volumes/OneTouch/datasets/adni/neuroimaging/50_ad_smwp_atrophy/sub-0018/ses-01/unthresholded_tissue_segment_z_scores\n",
      "Image saved to: \n",
      " /Volumes/OneTouch/datasets/adni/neuroimaging/50_ad_smwp_atrophy/sub-0026/ses-01/unthresholded_tissue_segment_z_scores\n",
      "Image saved to: \n",
      " /Volumes/OneTouch/datasets/adni/neuroimaging/50_ad_smwp_atrophy/sub-0031/ses-01/unthresholded_tissue_segment_z_scores\n",
      "Image saved to: \n",
      " /Volumes/OneTouch/datasets/adni/neuroimaging/50_ad_smwp_atrophy/sub-0008/ses-01/unthresholded_tissue_segment_z_scores\n",
      "Image saved to: \n",
      " /Volumes/OneTouch/datasets/adni/neuroimaging/50_ad_smwp_atrophy/sub-0035/ses-01/unthresholded_tissue_segment_z_scores\n",
      "Image saved to: \n",
      " /Volumes/OneTouch/datasets/adni/neuroimaging/50_ad_smwp_atrophy/sub-0022/ses-01/unthresholded_tissue_segment_z_scores\n",
      "Image saved to: \n",
      " /Volumes/OneTouch/datasets/adni/neuroimaging/50_ad_smwp_atrophy/sub-0041/ses-01/unthresholded_tissue_segment_z_scores\n",
      "Image saved to: \n",
      " /Volumes/OneTouch/datasets/adni/neuroimaging/50_ad_smwp_atrophy/sub-0045/ses-01/unthresholded_tissue_segment_z_scores\n",
      "Image saved to: \n",
      " /Volumes/OneTouch/datasets/adni/neuroimaging/50_ad_smwp_atrophy/sub-0028/ses-01/unthresholded_tissue_segment_z_scores\n",
      "Image saved to: \n",
      " /Volumes/OneTouch/datasets/adni/neuroimaging/50_ad_smwp_atrophy/sub-0011/ses-01/unthresholded_tissue_segment_z_scores\n",
      "Image saved to: \n",
      " /Volumes/OneTouch/datasets/adni/neuroimaging/50_ad_smwp_atrophy/sub-0006/ses-01/unthresholded_tissue_segment_z_scores\n",
      "Image saved to: \n",
      " /Volumes/OneTouch/datasets/adni/neuroimaging/50_ad_smwp_atrophy/sub-0002/ses-01/unthresholded_tissue_segment_z_scores\n",
      "Image saved to: \n",
      " /Volumes/OneTouch/datasets/adni/neuroimaging/50_ad_smwp_atrophy/sub-0015/ses-01/unthresholded_tissue_segment_z_scores\n",
      "Image saved to: \n",
      " /Volumes/OneTouch/datasets/adni/neuroimaging/50_ad_smwp_atrophy/sub-0005/ses-01/unthresholded_tissue_segment_z_scores\n",
      "Image saved to: \n",
      " /Volumes/OneTouch/datasets/adni/neuroimaging/50_ad_smwp_atrophy/sub-0012/ses-01/unthresholded_tissue_segment_z_scores\n",
      "Image saved to: \n",
      " /Volumes/OneTouch/datasets/adni/neuroimaging/50_ad_smwp_atrophy/sub-0038/ses-01/unthresholded_tissue_segment_z_scores\n",
      "Image saved to: \n",
      " /Volumes/OneTouch/datasets/adni/neuroimaging/50_ad_smwp_atrophy/sub-0016/ses-01/unthresholded_tissue_segment_z_scores\n",
      "Image saved to: \n",
      " /Volumes/OneTouch/datasets/adni/neuroimaging/50_ad_smwp_atrophy/sub-0001/ses-01/unthresholded_tissue_segment_z_scores\n",
      "Image saved to: \n",
      " /Volumes/OneTouch/datasets/adni/neuroimaging/50_ad_smwp_atrophy/sub-0048/ses-01/unthresholded_tissue_segment_z_scores\n",
      "Image saved to: \n",
      " /Volumes/OneTouch/datasets/adni/neuroimaging/50_ad_smwp_atrophy/sub-0017/ses-01/unthresholded_tissue_segment_z_scores\n",
      "Image saved to: \n",
      " /Volumes/OneTouch/datasets/adni/neuroimaging/50_ad_smwp_atrophy/sub-0039/ses-01/unthresholded_tissue_segment_z_scores\n",
      "Image saved to: \n",
      " /Volumes/OneTouch/datasets/adni/neuroimaging/50_ad_smwp_atrophy/sub-0013/ses-01/unthresholded_tissue_segment_z_scores\n",
      "Image saved to: \n",
      " /Volumes/OneTouch/datasets/adni/neuroimaging/50_ad_smwp_atrophy/sub-0004/ses-01/unthresholded_tissue_segment_z_scores\n",
      "Image saved to: \n",
      " /Volumes/OneTouch/datasets/adni/neuroimaging/50_ad_smwp_atrophy/sub-0049/ses-01/unthresholded_tissue_segment_z_scores\n",
      "Image saved to: \n",
      " /Volumes/OneTouch/datasets/adni/neuroimaging/50_ad_smwp_atrophy/sub-0014/ses-01/unthresholded_tissue_segment_z_scores\n",
      "Image saved to: \n",
      " /Volumes/OneTouch/datasets/adni/neuroimaging/50_ad_smwp_atrophy/sub-0003/ses-01/unthresholded_tissue_segment_z_scores\n",
      "Image saved to: \n",
      " /Volumes/OneTouch/datasets/adni/neuroimaging/50_ad_smwp_atrophy/sub-0007/ses-01/unthresholded_tissue_segment_z_scores\n",
      "Image saved to: \n",
      " /Volumes/OneTouch/datasets/adni/neuroimaging/50_ad_smwp_atrophy/sub-0010/ses-01/unthresholded_tissue_segment_z_scores\n",
      "Image saved to: \n",
      " /Volumes/OneTouch/datasets/adni/neuroimaging/50_ad_smwp_atrophy/sub-0029/ses-01/unthresholded_tissue_segment_z_scores\n",
      "Image saved to: \n",
      " /Volumes/OneTouch/datasets/adni/neuroimaging/50_ad_smwp_atrophy/sub-0023/ses-01/unthresholded_tissue_segment_z_scores\n",
      "Image saved to: \n",
      " /Volumes/OneTouch/datasets/adni/neuroimaging/50_ad_smwp_atrophy/sub-0034/ses-01/unthresholded_tissue_segment_z_scores\n",
      "Image saved to: \n",
      " /Volumes/OneTouch/datasets/adni/neuroimaging/50_ad_smwp_atrophy/sub-0009/ses-01/unthresholded_tissue_segment_z_scores\n",
      "Image saved to: \n",
      " /Volumes/OneTouch/datasets/adni/neuroimaging/50_ad_smwp_atrophy/sub-0030/ses-01/unthresholded_tissue_segment_z_scores\n",
      "Image saved to: \n",
      " /Volumes/OneTouch/datasets/adni/neuroimaging/50_ad_smwp_atrophy/sub-0027/ses-01/unthresholded_tissue_segment_z_scores\n",
      "Image saved to: \n",
      " /Volumes/OneTouch/datasets/adni/neuroimaging/50_ad_smwp_atrophy/sub-0044/ses-01/unthresholded_tissue_segment_z_scores\n",
      "Image saved to: \n",
      " /Volumes/OneTouch/datasets/adni/neuroimaging/50_ad_smwp_atrophy/sub-0040/ses-01/unthresholded_tissue_segment_z_scores\n",
      "Image saved to: \n",
      " /Volumes/OneTouch/datasets/adni/neuroimaging/50_ad_smwp_atrophy/sub-0050/ses-01/unthresholded_tissue_segment_z_scores\n",
      "Image saved to: \n",
      " /Volumes/OneTouch/datasets/adni/neuroimaging/50_ad_smwp_atrophy/sub-0047/ses-01/unthresholded_tissue_segment_z_scores\n",
      "Image saved to: \n",
      " /Volumes/OneTouch/datasets/adni/neuroimaging/50_ad_smwp_atrophy/sub-0043/ses-01/unthresholded_tissue_segment_z_scores\n",
      "Image saved to: \n",
      " /Volumes/OneTouch/datasets/adni/neuroimaging/50_ad_smwp_atrophy/sub-0019/ses-01/unthresholded_tissue_segment_z_scores\n",
      "Image saved to: \n",
      " /Volumes/OneTouch/datasets/adni/neuroimaging/50_ad_smwp_atrophy/sub-0037/ses-01/unthresholded_tissue_segment_z_scores\n",
      "Image saved to: \n",
      " /Volumes/OneTouch/datasets/adni/neuroimaging/50_ad_smwp_atrophy/sub-0020/ses-01/unthresholded_tissue_segment_z_scores\n",
      "Image saved to: \n",
      " /Volumes/OneTouch/datasets/adni/neuroimaging/50_ad_smwp_atrophy/sub-0024/ses-01/unthresholded_tissue_segment_z_scores\n",
      "Image saved to: \n",
      " /Volumes/OneTouch/datasets/adni/neuroimaging/50_ad_smwp_atrophy/sub-0033/ses-01/unthresholded_tissue_segment_z_scores\n"
     ]
    },
    {
     "name": "stderr",
     "output_type": "stream",
     "text": [
      " 25%|██▌       | 1/4 [00:52<02:38, 52.76s/it]"
     ]
    },
    {
     "name": "stdout",
     "output_type": "stream",
     "text": [
      "Image saved to: \n",
      " /Volumes/OneTouch/datasets/adni/neuroimaging/50_ad_smwp_atrophy/sub-0005/ses-01/unthresholded_tissue_segment_z_scores\n",
      "Image saved to: \n",
      " /Volumes/OneTouch/datasets/adni/neuroimaging/50_ad_smwp_atrophy/sub-0012/ses-01/unthresholded_tissue_segment_z_scores\n",
      "Image saved to: \n",
      " /Volumes/OneTouch/datasets/adni/neuroimaging/50_ad_smwp_atrophy/sub-0038/ses-01/unthresholded_tissue_segment_z_scores\n",
      "Image saved to: \n",
      " /Volumes/OneTouch/datasets/adni/neuroimaging/50_ad_smwp_atrophy/sub-0016/ses-01/unthresholded_tissue_segment_z_scores\n",
      "Image saved to: \n",
      " /Volumes/OneTouch/datasets/adni/neuroimaging/50_ad_smwp_atrophy/sub-0001/ses-01/unthresholded_tissue_segment_z_scores\n",
      "Image saved to: \n",
      " /Volumes/OneTouch/datasets/adni/neuroimaging/50_ad_smwp_atrophy/sub-0048/ses-01/unthresholded_tissue_segment_z_scores\n",
      "Image saved to: \n",
      " /Volumes/OneTouch/datasets/adni/neuroimaging/50_ad_smwp_atrophy/sub-0028/ses-01/unthresholded_tissue_segment_z_scores\n",
      "Image saved to: \n",
      " /Volumes/OneTouch/datasets/adni/neuroimaging/50_ad_smwp_atrophy/sub-0011/ses-01/unthresholded_tissue_segment_z_scores\n",
      "Image saved to: \n",
      " /Volumes/OneTouch/datasets/adni/neuroimaging/50_ad_smwp_atrophy/sub-0006/ses-01/unthresholded_tissue_segment_z_scores\n",
      "Image saved to: \n",
      " /Volumes/OneTouch/datasets/adni/neuroimaging/50_ad_smwp_atrophy/sub-0002/ses-01/unthresholded_tissue_segment_z_scores\n",
      "Image saved to: \n",
      " /Volumes/OneTouch/datasets/adni/neuroimaging/50_ad_smwp_atrophy/sub-0015/ses-01/unthresholded_tissue_segment_z_scores\n",
      "Image saved to: \n",
      " /Volumes/OneTouch/datasets/adni/neuroimaging/50_ad_smwp_atrophy/sub-0026/ses-01/unthresholded_tissue_segment_z_scores\n",
      "Image saved to: \n",
      " /Volumes/OneTouch/datasets/adni/neuroimaging/50_ad_smwp_atrophy/sub-0031/ses-01/unthresholded_tissue_segment_z_scores\n",
      "Image saved to: \n",
      " /Volumes/OneTouch/datasets/adni/neuroimaging/50_ad_smwp_atrophy/sub-0008/ses-01/unthresholded_tissue_segment_z_scores\n",
      "Image saved to: \n",
      " /Volumes/OneTouch/datasets/adni/neuroimaging/50_ad_smwp_atrophy/sub-0035/ses-01/unthresholded_tissue_segment_z_scores\n",
      "Image saved to: \n",
      " /Volumes/OneTouch/datasets/adni/neuroimaging/50_ad_smwp_atrophy/sub-0022/ses-01/unthresholded_tissue_segment_z_scores\n",
      "Image saved to: \n",
      " /Volumes/OneTouch/datasets/adni/neuroimaging/50_ad_smwp_atrophy/sub-0041/ses-01/unthresholded_tissue_segment_z_scores\n",
      "Image saved to: \n",
      " /Volumes/OneTouch/datasets/adni/neuroimaging/50_ad_smwp_atrophy/sub-0045/ses-01/unthresholded_tissue_segment_z_scores\n",
      "Image saved to: \n",
      " /Volumes/OneTouch/datasets/adni/neuroimaging/50_ad_smwp_atrophy/sub-0042/ses-01/unthresholded_tissue_segment_z_scores\n",
      "Image saved to: \n",
      " /Volumes/OneTouch/datasets/adni/neuroimaging/50_ad_smwp_atrophy/sub-0046/ses-01/unthresholded_tissue_segment_z_scores\n",
      "Image saved to: \n",
      " /Volumes/OneTouch/datasets/adni/neuroimaging/50_ad_smwp_atrophy/sub-0032/ses-01/unthresholded_tissue_segment_z_scores\n",
      "Image saved to: \n",
      " /Volumes/OneTouch/datasets/adni/neuroimaging/50_ad_smwp_atrophy/sub-0025/ses-01/unthresholded_tissue_segment_z_scores\n",
      "Image saved to: \n",
      " /Volumes/OneTouch/datasets/adni/neuroimaging/50_ad_smwp_atrophy/sub-0021/ses-01/unthresholded_tissue_segment_z_scores\n",
      "Image saved to: \n",
      " /Volumes/OneTouch/datasets/adni/neuroimaging/50_ad_smwp_atrophy/sub-0036/ses-01/unthresholded_tissue_segment_z_scores\n",
      "Image saved to: \n",
      " /Volumes/OneTouch/datasets/adni/neuroimaging/50_ad_smwp_atrophy/sub-0018/ses-01/unthresholded_tissue_segment_z_scores\n",
      "Image saved to: \n",
      " /Volumes/OneTouch/datasets/adni/neuroimaging/50_ad_smwp_atrophy/sub-0050/ses-01/unthresholded_tissue_segment_z_scores\n",
      "Image saved to: \n",
      " /Volumes/OneTouch/datasets/adni/neuroimaging/50_ad_smwp_atrophy/sub-0047/ses-01/unthresholded_tissue_segment_z_scores\n",
      "Image saved to: \n",
      " /Volumes/OneTouch/datasets/adni/neuroimaging/50_ad_smwp_atrophy/sub-0043/ses-01/unthresholded_tissue_segment_z_scores\n",
      "Image saved to: \n",
      " /Volumes/OneTouch/datasets/adni/neuroimaging/50_ad_smwp_atrophy/sub-0019/ses-01/unthresholded_tissue_segment_z_scores\n",
      "Image saved to: \n",
      " /Volumes/OneTouch/datasets/adni/neuroimaging/50_ad_smwp_atrophy/sub-0037/ses-01/unthresholded_tissue_segment_z_scores\n",
      "Image saved to: \n",
      " /Volumes/OneTouch/datasets/adni/neuroimaging/50_ad_smwp_atrophy/sub-0020/ses-01/unthresholded_tissue_segment_z_scores\n",
      "Image saved to: \n",
      " /Volumes/OneTouch/datasets/adni/neuroimaging/50_ad_smwp_atrophy/sub-0024/ses-01/unthresholded_tissue_segment_z_scores\n",
      "Image saved to: \n",
      " /Volumes/OneTouch/datasets/adni/neuroimaging/50_ad_smwp_atrophy/sub-0033/ses-01/unthresholded_tissue_segment_z_scores\n",
      "Image saved to: \n",
      " /Volumes/OneTouch/datasets/adni/neuroimaging/50_ad_smwp_atrophy/sub-0023/ses-01/unthresholded_tissue_segment_z_scores\n",
      "Image saved to: \n",
      " /Volumes/OneTouch/datasets/adni/neuroimaging/50_ad_smwp_atrophy/sub-0034/ses-01/unthresholded_tissue_segment_z_scores\n",
      "Image saved to: \n",
      " /Volumes/OneTouch/datasets/adni/neuroimaging/50_ad_smwp_atrophy/sub-0009/ses-01/unthresholded_tissue_segment_z_scores\n",
      "Image saved to: \n",
      " /Volumes/OneTouch/datasets/adni/neuroimaging/50_ad_smwp_atrophy/sub-0030/ses-01/unthresholded_tissue_segment_z_scores\n",
      "Image saved to: \n",
      " /Volumes/OneTouch/datasets/adni/neuroimaging/50_ad_smwp_atrophy/sub-0027/ses-01/unthresholded_tissue_segment_z_scores\n",
      "Image saved to: \n",
      " /Volumes/OneTouch/datasets/adni/neuroimaging/50_ad_smwp_atrophy/sub-0044/ses-01/unthresholded_tissue_segment_z_scores\n",
      "Image saved to: \n",
      " /Volumes/OneTouch/datasets/adni/neuroimaging/50_ad_smwp_atrophy/sub-0040/ses-01/unthresholded_tissue_segment_z_scores\n",
      "Image saved to: \n",
      " /Volumes/OneTouch/datasets/adni/neuroimaging/50_ad_smwp_atrophy/sub-0014/ses-01/unthresholded_tissue_segment_z_scores\n",
      "Image saved to: \n",
      " /Volumes/OneTouch/datasets/adni/neuroimaging/50_ad_smwp_atrophy/sub-0003/ses-01/unthresholded_tissue_segment_z_scores\n",
      "Image saved to: \n",
      " /Volumes/OneTouch/datasets/adni/neuroimaging/50_ad_smwp_atrophy/sub-0007/ses-01/unthresholded_tissue_segment_z_scores\n",
      "Image saved to: \n",
      " /Volumes/OneTouch/datasets/adni/neuroimaging/50_ad_smwp_atrophy/sub-0010/ses-01/unthresholded_tissue_segment_z_scores\n",
      "Image saved to: \n",
      " /Volumes/OneTouch/datasets/adni/neuroimaging/50_ad_smwp_atrophy/sub-0029/ses-01/unthresholded_tissue_segment_z_scores\n",
      "Image saved to: \n",
      " /Volumes/OneTouch/datasets/adni/neuroimaging/50_ad_smwp_atrophy/sub-0017/ses-01/unthresholded_tissue_segment_z_scores\n",
      "Image saved to: \n",
      " /Volumes/OneTouch/datasets/adni/neuroimaging/50_ad_smwp_atrophy/sub-0039/ses-01/unthresholded_tissue_segment_z_scores\n",
      "Image saved to: \n",
      " /Volumes/OneTouch/datasets/adni/neuroimaging/50_ad_smwp_atrophy/sub-0013/ses-01/unthresholded_tissue_segment_z_scores\n",
      "Image saved to: \n",
      " /Volumes/OneTouch/datasets/adni/neuroimaging/50_ad_smwp_atrophy/sub-0004/ses-01/unthresholded_tissue_segment_z_scores\n",
      "Image saved to: \n",
      " /Volumes/OneTouch/datasets/adni/neuroimaging/50_ad_smwp_atrophy/sub-0049/ses-01/unthresholded_tissue_segment_z_scores\n"
     ]
    },
    {
     "name": "stderr",
     "output_type": "stream",
     "text": [
      " 50%|█████     | 2/4 [01:39<01:38, 49.50s/it]"
     ]
    },
    {
     "name": "stdout",
     "output_type": "stream",
     "text": [
      "Image saved to: \n",
      " /Volumes/OneTouch/datasets/adni/neuroimaging/50_ad_smwp_atrophy/sub-0028/ses-01/unthresholded_tissue_segment_z_scores\n",
      "Image saved to: \n",
      " /Volumes/OneTouch/datasets/adni/neuroimaging/50_ad_smwp_atrophy/sub-0011/ses-01/unthresholded_tissue_segment_z_scores\n",
      "Image saved to: \n",
      " /Volumes/OneTouch/datasets/adni/neuroimaging/50_ad_smwp_atrophy/sub-0006/ses-01/unthresholded_tissue_segment_z_scores\n",
      "Image saved to: \n",
      " /Volumes/OneTouch/datasets/adni/neuroimaging/50_ad_smwp_atrophy/sub-0002/ses-01/unthresholded_tissue_segment_z_scores\n",
      "Image saved to: \n",
      " /Volumes/OneTouch/datasets/adni/neuroimaging/50_ad_smwp_atrophy/sub-0015/ses-01/unthresholded_tissue_segment_z_scores\n",
      "Image saved to: \n",
      " /Volumes/OneTouch/datasets/adni/neuroimaging/50_ad_smwp_atrophy/sub-0005/ses-01/unthresholded_tissue_segment_z_scores\n",
      "Image saved to: \n",
      " /Volumes/OneTouch/datasets/adni/neuroimaging/50_ad_smwp_atrophy/sub-0012/ses-01/unthresholded_tissue_segment_z_scores\n",
      "Image saved to: \n",
      " /Volumes/OneTouch/datasets/adni/neuroimaging/50_ad_smwp_atrophy/sub-0038/ses-01/unthresholded_tissue_segment_z_scores\n",
      "Image saved to: \n",
      " /Volumes/OneTouch/datasets/adni/neuroimaging/50_ad_smwp_atrophy/sub-0016/ses-01/unthresholded_tissue_segment_z_scores\n",
      "Image saved to: \n",
      " /Volumes/OneTouch/datasets/adni/neuroimaging/50_ad_smwp_atrophy/sub-0001/ses-01/unthresholded_tissue_segment_z_scores\n",
      "Image saved to: \n",
      " /Volumes/OneTouch/datasets/adni/neuroimaging/50_ad_smwp_atrophy/sub-0048/ses-01/unthresholded_tissue_segment_z_scores\n",
      "Image saved to: \n",
      " /Volumes/OneTouch/datasets/adni/neuroimaging/50_ad_smwp_atrophy/sub-0042/ses-01/unthresholded_tissue_segment_z_scores\n",
      "Image saved to: \n",
      " /Volumes/OneTouch/datasets/adni/neuroimaging/50_ad_smwp_atrophy/sub-0046/ses-01/unthresholded_tissue_segment_z_scores\n",
      "Image saved to: \n",
      " /Volumes/OneTouch/datasets/adni/neuroimaging/50_ad_smwp_atrophy/sub-0032/ses-01/unthresholded_tissue_segment_z_scores\n",
      "Image saved to: \n",
      " /Volumes/OneTouch/datasets/adni/neuroimaging/50_ad_smwp_atrophy/sub-0025/ses-01/unthresholded_tissue_segment_z_scores\n",
      "Image saved to: \n",
      " /Volumes/OneTouch/datasets/adni/neuroimaging/50_ad_smwp_atrophy/sub-0021/ses-01/unthresholded_tissue_segment_z_scores\n",
      "Image saved to: \n",
      " /Volumes/OneTouch/datasets/adni/neuroimaging/50_ad_smwp_atrophy/sub-0036/ses-01/unthresholded_tissue_segment_z_scores\n",
      "Image saved to: \n",
      " /Volumes/OneTouch/datasets/adni/neuroimaging/50_ad_smwp_atrophy/sub-0018/ses-01/unthresholded_tissue_segment_z_scores\n",
      "Image saved to: \n",
      " /Volumes/OneTouch/datasets/adni/neuroimaging/50_ad_smwp_atrophy/sub-0026/ses-01/unthresholded_tissue_segment_z_scores\n",
      "Image saved to: \n",
      " /Volumes/OneTouch/datasets/adni/neuroimaging/50_ad_smwp_atrophy/sub-0031/ses-01/unthresholded_tissue_segment_z_scores\n",
      "Image saved to: \n",
      " /Volumes/OneTouch/datasets/adni/neuroimaging/50_ad_smwp_atrophy/sub-0008/ses-01/unthresholded_tissue_segment_z_scores\n",
      "Image saved to: \n",
      " /Volumes/OneTouch/datasets/adni/neuroimaging/50_ad_smwp_atrophy/sub-0035/ses-01/unthresholded_tissue_segment_z_scores\n",
      "Image saved to: \n",
      " /Volumes/OneTouch/datasets/adni/neuroimaging/50_ad_smwp_atrophy/sub-0022/ses-01/unthresholded_tissue_segment_z_scores\n",
      "Image saved to: \n",
      " /Volumes/OneTouch/datasets/adni/neuroimaging/50_ad_smwp_atrophy/sub-0041/ses-01/unthresholded_tissue_segment_z_scores\n",
      "Image saved to: \n",
      " /Volumes/OneTouch/datasets/adni/neuroimaging/50_ad_smwp_atrophy/sub-0045/ses-01/unthresholded_tissue_segment_z_scores\n",
      "Image saved to: \n",
      " /Volumes/OneTouch/datasets/adni/neuroimaging/50_ad_smwp_atrophy/sub-0023/ses-01/unthresholded_tissue_segment_z_scores\n",
      "Image saved to: \n",
      " /Volumes/OneTouch/datasets/adni/neuroimaging/50_ad_smwp_atrophy/sub-0034/ses-01/unthresholded_tissue_segment_z_scores\n",
      "Image saved to: \n",
      " /Volumes/OneTouch/datasets/adni/neuroimaging/50_ad_smwp_atrophy/sub-0009/ses-01/unthresholded_tissue_segment_z_scores\n",
      "Image saved to: \n",
      " /Volumes/OneTouch/datasets/adni/neuroimaging/50_ad_smwp_atrophy/sub-0030/ses-01/unthresholded_tissue_segment_z_scores\n",
      "Image saved to: \n",
      " /Volumes/OneTouch/datasets/adni/neuroimaging/50_ad_smwp_atrophy/sub-0027/ses-01/unthresholded_tissue_segment_z_scores\n",
      "Image saved to: \n",
      " /Volumes/OneTouch/datasets/adni/neuroimaging/50_ad_smwp_atrophy/sub-0044/ses-01/unthresholded_tissue_segment_z_scores\n",
      "Image saved to: \n",
      " /Volumes/OneTouch/datasets/adni/neuroimaging/50_ad_smwp_atrophy/sub-0040/ses-01/unthresholded_tissue_segment_z_scores\n",
      "Image saved to: \n",
      " /Volumes/OneTouch/datasets/adni/neuroimaging/50_ad_smwp_atrophy/sub-0050/ses-01/unthresholded_tissue_segment_z_scores\n",
      "Image saved to: \n",
      " /Volumes/OneTouch/datasets/adni/neuroimaging/50_ad_smwp_atrophy/sub-0047/ses-01/unthresholded_tissue_segment_z_scores\n",
      "Image saved to: \n",
      " /Volumes/OneTouch/datasets/adni/neuroimaging/50_ad_smwp_atrophy/sub-0043/ses-01/unthresholded_tissue_segment_z_scores\n",
      "Image saved to: \n",
      " /Volumes/OneTouch/datasets/adni/neuroimaging/50_ad_smwp_atrophy/sub-0019/ses-01/unthresholded_tissue_segment_z_scores\n",
      "Image saved to: \n",
      " /Volumes/OneTouch/datasets/adni/neuroimaging/50_ad_smwp_atrophy/sub-0037/ses-01/unthresholded_tissue_segment_z_scores\n",
      "Image saved to: \n",
      " /Volumes/OneTouch/datasets/adni/neuroimaging/50_ad_smwp_atrophy/sub-0020/ses-01/unthresholded_tissue_segment_z_scores\n",
      "Image saved to: \n",
      " /Volumes/OneTouch/datasets/adni/neuroimaging/50_ad_smwp_atrophy/sub-0024/ses-01/unthresholded_tissue_segment_z_scores\n",
      "Image saved to: \n",
      " /Volumes/OneTouch/datasets/adni/neuroimaging/50_ad_smwp_atrophy/sub-0033/ses-01/unthresholded_tissue_segment_z_scores\n",
      "Image saved to: \n",
      " /Volumes/OneTouch/datasets/adni/neuroimaging/50_ad_smwp_atrophy/sub-0017/ses-01/unthresholded_tissue_segment_z_scores\n",
      "Image saved to: \n",
      " /Volumes/OneTouch/datasets/adni/neuroimaging/50_ad_smwp_atrophy/sub-0039/ses-01/unthresholded_tissue_segment_z_scores\n",
      "Image saved to: \n",
      " /Volumes/OneTouch/datasets/adni/neuroimaging/50_ad_smwp_atrophy/sub-0013/ses-01/unthresholded_tissue_segment_z_scores\n",
      "Image saved to: \n",
      " /Volumes/OneTouch/datasets/adni/neuroimaging/50_ad_smwp_atrophy/sub-0004/ses-01/unthresholded_tissue_segment_z_scores\n",
      "Image saved to: \n",
      " /Volumes/OneTouch/datasets/adni/neuroimaging/50_ad_smwp_atrophy/sub-0049/ses-01/unthresholded_tissue_segment_z_scores\n",
      "Image saved to: \n",
      " /Volumes/OneTouch/datasets/adni/neuroimaging/50_ad_smwp_atrophy/sub-0014/ses-01/unthresholded_tissue_segment_z_scores\n",
      "Image saved to: \n",
      " /Volumes/OneTouch/datasets/adni/neuroimaging/50_ad_smwp_atrophy/sub-0003/ses-01/unthresholded_tissue_segment_z_scores\n",
      "Image saved to: \n",
      " /Volumes/OneTouch/datasets/adni/neuroimaging/50_ad_smwp_atrophy/sub-0007/ses-01/unthresholded_tissue_segment_z_scores\n",
      "Image saved to: \n",
      " /Volumes/OneTouch/datasets/adni/neuroimaging/50_ad_smwp_atrophy/sub-0010/ses-01/unthresholded_tissue_segment_z_scores\n",
      "Image saved to: \n",
      " /Volumes/OneTouch/datasets/adni/neuroimaging/50_ad_smwp_atrophy/sub-0029/ses-01/unthresholded_tissue_segment_z_scores\n"
     ]
    },
    {
     "name": "stderr",
     "output_type": "stream",
     "text": [
      " 75%|███████▌  | 3/4 [02:29<00:49, 49.45s/it]"
     ]
    },
    {
     "name": "stdout",
     "output_type": "stream",
     "text": [
      "Image saved to: \n",
      " /Volumes/OneTouch/datasets/adni/neuroimaging/50_ad_smwp_atrophy/sub-0042/ses-01/unthresholded_tissue_segment_z_scores\n",
      "Image saved to: \n",
      " /Volumes/OneTouch/datasets/adni/neuroimaging/50_ad_smwp_atrophy/sub-0046/ses-01/unthresholded_tissue_segment_z_scores\n",
      "Image saved to: \n",
      " /Volumes/OneTouch/datasets/adni/neuroimaging/50_ad_smwp_atrophy/sub-0032/ses-01/unthresholded_tissue_segment_z_scores\n",
      "Image saved to: \n",
      " /Volumes/OneTouch/datasets/adni/neuroimaging/50_ad_smwp_atrophy/sub-0025/ses-01/unthresholded_tissue_segment_z_scores\n",
      "Image saved to: \n",
      " /Volumes/OneTouch/datasets/adni/neuroimaging/50_ad_smwp_atrophy/sub-0021/ses-01/unthresholded_tissue_segment_z_scores\n",
      "Image saved to: \n",
      " /Volumes/OneTouch/datasets/adni/neuroimaging/50_ad_smwp_atrophy/sub-0036/ses-01/unthresholded_tissue_segment_z_scores\n",
      "Image saved to: \n",
      " /Volumes/OneTouch/datasets/adni/neuroimaging/50_ad_smwp_atrophy/sub-0018/ses-01/unthresholded_tissue_segment_z_scores\n",
      "Image saved to: \n",
      " /Volumes/OneTouch/datasets/adni/neuroimaging/50_ad_smwp_atrophy/sub-0026/ses-01/unthresholded_tissue_segment_z_scores\n",
      "Image saved to: \n",
      " /Volumes/OneTouch/datasets/adni/neuroimaging/50_ad_smwp_atrophy/sub-0031/ses-01/unthresholded_tissue_segment_z_scores\n",
      "Image saved to: \n",
      " /Volumes/OneTouch/datasets/adni/neuroimaging/50_ad_smwp_atrophy/sub-0008/ses-01/unthresholded_tissue_segment_z_scores\n",
      "Image saved to: \n",
      " /Volumes/OneTouch/datasets/adni/neuroimaging/50_ad_smwp_atrophy/sub-0035/ses-01/unthresholded_tissue_segment_z_scores\n",
      "Image saved to: \n",
      " /Volumes/OneTouch/datasets/adni/neuroimaging/50_ad_smwp_atrophy/sub-0022/ses-01/unthresholded_tissue_segment_z_scores\n",
      "Image saved to: \n",
      " /Volumes/OneTouch/datasets/adni/neuroimaging/50_ad_smwp_atrophy/sub-0041/ses-01/unthresholded_tissue_segment_z_scores\n",
      "Image saved to: \n",
      " /Volumes/OneTouch/datasets/adni/neuroimaging/50_ad_smwp_atrophy/sub-0045/ses-01/unthresholded_tissue_segment_z_scores\n",
      "Image saved to: \n",
      " /Volumes/OneTouch/datasets/adni/neuroimaging/50_ad_smwp_atrophy/sub-0028/ses-01/unthresholded_tissue_segment_z_scores\n",
      "Image saved to: \n",
      " /Volumes/OneTouch/datasets/adni/neuroimaging/50_ad_smwp_atrophy/sub-0011/ses-01/unthresholded_tissue_segment_z_scores\n",
      "Image saved to: \n",
      " /Volumes/OneTouch/datasets/adni/neuroimaging/50_ad_smwp_atrophy/sub-0006/ses-01/unthresholded_tissue_segment_z_scores\n",
      "Image saved to: \n",
      " /Volumes/OneTouch/datasets/adni/neuroimaging/50_ad_smwp_atrophy/sub-0002/ses-01/unthresholded_tissue_segment_z_scores\n",
      "Image saved to: \n",
      " /Volumes/OneTouch/datasets/adni/neuroimaging/50_ad_smwp_atrophy/sub-0015/ses-01/unthresholded_tissue_segment_z_scores\n",
      "Image saved to: \n",
      " /Volumes/OneTouch/datasets/adni/neuroimaging/50_ad_smwp_atrophy/sub-0005/ses-01/unthresholded_tissue_segment_z_scores\n",
      "Image saved to: \n",
      " /Volumes/OneTouch/datasets/adni/neuroimaging/50_ad_smwp_atrophy/sub-0012/ses-01/unthresholded_tissue_segment_z_scores\n",
      "Image saved to: \n",
      " /Volumes/OneTouch/datasets/adni/neuroimaging/50_ad_smwp_atrophy/sub-0038/ses-01/unthresholded_tissue_segment_z_scores\n",
      "Image saved to: \n",
      " /Volumes/OneTouch/datasets/adni/neuroimaging/50_ad_smwp_atrophy/sub-0016/ses-01/unthresholded_tissue_segment_z_scores\n",
      "Image saved to: \n",
      " /Volumes/OneTouch/datasets/adni/neuroimaging/50_ad_smwp_atrophy/sub-0001/ses-01/unthresholded_tissue_segment_z_scores\n",
      "Image saved to: \n",
      " /Volumes/OneTouch/datasets/adni/neuroimaging/50_ad_smwp_atrophy/sub-0048/ses-01/unthresholded_tissue_segment_z_scores\n",
      "Image saved to: \n",
      " /Volumes/OneTouch/datasets/adni/neuroimaging/50_ad_smwp_atrophy/sub-0017/ses-01/unthresholded_tissue_segment_z_scores\n",
      "Image saved to: \n",
      " /Volumes/OneTouch/datasets/adni/neuroimaging/50_ad_smwp_atrophy/sub-0039/ses-01/unthresholded_tissue_segment_z_scores\n",
      "Image saved to: \n",
      " /Volumes/OneTouch/datasets/adni/neuroimaging/50_ad_smwp_atrophy/sub-0013/ses-01/unthresholded_tissue_segment_z_scores\n",
      "Image saved to: \n",
      " /Volumes/OneTouch/datasets/adni/neuroimaging/50_ad_smwp_atrophy/sub-0004/ses-01/unthresholded_tissue_segment_z_scores\n",
      "Image saved to: \n",
      " /Volumes/OneTouch/datasets/adni/neuroimaging/50_ad_smwp_atrophy/sub-0049/ses-01/unthresholded_tissue_segment_z_scores\n",
      "Image saved to: \n",
      " /Volumes/OneTouch/datasets/adni/neuroimaging/50_ad_smwp_atrophy/sub-0014/ses-01/unthresholded_tissue_segment_z_scores\n",
      "Image saved to: \n",
      " /Volumes/OneTouch/datasets/adni/neuroimaging/50_ad_smwp_atrophy/sub-0003/ses-01/unthresholded_tissue_segment_z_scores\n",
      "Image saved to: \n",
      " /Volumes/OneTouch/datasets/adni/neuroimaging/50_ad_smwp_atrophy/sub-0007/ses-01/unthresholded_tissue_segment_z_scores\n",
      "Image saved to: \n",
      " /Volumes/OneTouch/datasets/adni/neuroimaging/50_ad_smwp_atrophy/sub-0010/ses-01/unthresholded_tissue_segment_z_scores\n",
      "Image saved to: \n",
      " /Volumes/OneTouch/datasets/adni/neuroimaging/50_ad_smwp_atrophy/sub-0029/ses-01/unthresholded_tissue_segment_z_scores\n",
      "Image saved to: \n",
      " /Volumes/OneTouch/datasets/adni/neuroimaging/50_ad_smwp_atrophy/sub-0023/ses-01/unthresholded_tissue_segment_z_scores\n",
      "Image saved to: \n",
      " /Volumes/OneTouch/datasets/adni/neuroimaging/50_ad_smwp_atrophy/sub-0034/ses-01/unthresholded_tissue_segment_z_scores\n",
      "Image saved to: \n",
      " /Volumes/OneTouch/datasets/adni/neuroimaging/50_ad_smwp_atrophy/sub-0009/ses-01/unthresholded_tissue_segment_z_scores\n",
      "Image saved to: \n",
      " /Volumes/OneTouch/datasets/adni/neuroimaging/50_ad_smwp_atrophy/sub-0030/ses-01/unthresholded_tissue_segment_z_scores\n",
      "Image saved to: \n",
      " /Volumes/OneTouch/datasets/adni/neuroimaging/50_ad_smwp_atrophy/sub-0027/ses-01/unthresholded_tissue_segment_z_scores\n",
      "Image saved to: \n",
      " /Volumes/OneTouch/datasets/adni/neuroimaging/50_ad_smwp_atrophy/sub-0044/ses-01/unthresholded_tissue_segment_z_scores\n",
      "Image saved to: \n",
      " /Volumes/OneTouch/datasets/adni/neuroimaging/50_ad_smwp_atrophy/sub-0040/ses-01/unthresholded_tissue_segment_z_scores\n",
      "Image saved to: \n",
      " /Volumes/OneTouch/datasets/adni/neuroimaging/50_ad_smwp_atrophy/sub-0050/ses-01/unthresholded_tissue_segment_z_scores\n",
      "Image saved to: \n",
      " /Volumes/OneTouch/datasets/adni/neuroimaging/50_ad_smwp_atrophy/sub-0047/ses-01/unthresholded_tissue_segment_z_scores\n",
      "Image saved to: \n",
      " /Volumes/OneTouch/datasets/adni/neuroimaging/50_ad_smwp_atrophy/sub-0043/ses-01/unthresholded_tissue_segment_z_scores\n",
      "Image saved to: \n",
      " /Volumes/OneTouch/datasets/adni/neuroimaging/50_ad_smwp_atrophy/sub-0019/ses-01/unthresholded_tissue_segment_z_scores\n",
      "Image saved to: \n",
      " /Volumes/OneTouch/datasets/adni/neuroimaging/50_ad_smwp_atrophy/sub-0037/ses-01/unthresholded_tissue_segment_z_scores\n",
      "Image saved to: \n",
      " /Volumes/OneTouch/datasets/adni/neuroimaging/50_ad_smwp_atrophy/sub-0020/ses-01/unthresholded_tissue_segment_z_scores\n",
      "Image saved to: \n",
      " /Volumes/OneTouch/datasets/adni/neuroimaging/50_ad_smwp_atrophy/sub-0024/ses-01/unthresholded_tissue_segment_z_scores\n",
      "Image saved to: \n",
      " /Volumes/OneTouch/datasets/adni/neuroimaging/50_ad_smwp_atrophy/sub-0033/ses-01/unthresholded_tissue_segment_z_scores\n"
     ]
    },
    {
     "name": "stderr",
     "output_type": "stream",
     "text": [
      "100%|██████████| 4/4 [03:23<00:00, 50.90s/it]\n"
     ]
    }
   ],
   "source": [
    "from calvin_utils.vbm_utils.processing import save_nifti_to_bids\n",
    "save_nifti_to_bids(atrophy, bids_base_dir=base_directory, mask_path=mask_path,\n",
    "                   analysis='unthresholded_tissue_segment_z_scores', ses=session, dry_run=False)"
   ]
  },
  {
   "cell_type": "markdown",
   "metadata": {},
   "source": [
    "Thresholded Maps - The 'Real' Atrophy\n"
   ]
  },
  {
   "cell_type": "code",
   "execution_count": null,
   "metadata": {},
   "outputs": [],
   "source": [
    "from calvin_utils.vbm_utils.processing import save_nifti_to_bids\n",
    "# save_nifti_to_bids(atrophy_t, bids_base_dir=base_directory, mask_path=mask_path,\n",
    "                #    analysis='thresholded_tissue_segment_z_scores', ses=session, dry_run=False)"
   ]
  },
  {
   "cell_type": "code",
   "execution_count": null,
   "metadata": {},
   "outputs": [
    {
     "data": {
      "text/plain": [
       "0"
      ]
     },
     "execution_count": 11,
     "metadata": {},
     "output_type": "execute_result"
    }
   ],
   "source": [
    "import os\n",
    "os.system('say \"Atrophy seeds are complete.\"')"
   ]
  },
  {
   "cell_type": "markdown",
   "metadata": {},
   "source": [
    "All Done. Enjoy your atrophy seeds.\n",
    "\n",
    "--Calvin"
   ]
  }
 ],
 "metadata": {
  "kernelspec": {
   "display_name": "Python_3.7.7_nimlab",
   "language": "python",
   "name": "python3"
  },
  "language_info": {
   "codemirror_mode": {
    "name": "ipython",
    "version": 3
   },
   "file_extension": ".py",
   "mimetype": "text/x-python",
   "name": "python",
   "nbconvert_exporter": "python",
   "pygments_lexer": "ipython3",
   "version": "3.11.12"
  },
  "orig_nbformat": 4
 },
 "nbformat": 4,
 "nbformat_minor": 2
}
