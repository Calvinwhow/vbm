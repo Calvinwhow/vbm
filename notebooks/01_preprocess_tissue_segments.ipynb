{
 "cells": [
  {
   "cell_type": "markdown",
   "metadata": {},
   "source": [
    "Imports"
   ]
  },
  {
   "cell_type": "code",
   "execution_count": null,
   "metadata": {},
   "outputs": [],
   "source": [
    "import warnings\n",
    "warnings.filterwarnings('ignore')"
   ]
  },
  {
   "cell_type": "markdown",
   "metadata": {},
   "source": [
    "Here's a brief markup that explains the purpose and usage of the `segments_dict`:\n",
    "\n",
    "---\n",
    "\n",
    "## Neuroimaging File Extraction Dictionary\n",
    "\n",
    "The `segments_dict` is a predefined dictionary structured to facilitate the extraction of specific types of neuroimaging files. Each key in the dictionary represents a distinct neuroimaging segment, and its associated value is another dictionary containing the following fields:\n",
    "\n",
    "- **path**: This should be filled with the absolute path to the base directory containing the neuroimaging files for the corresponding tissue segment. \n",
    "- **glob_name_pattern**: This is the string pattern that will be used to \"glob\" or search for the specific files within the provided path. It helps in identifying and extracting the desired files based on their naming conventions.\n",
    "\n",
    "Here's a breakdown of the segments and their respective fields:\n",
    "\n",
    "### 1. Cerebrospinal Fluid (CSF)\n",
    "- **path**: Absolute path to the base directory containing CSF files.\n",
    "- **glob_name_pattern**: File pattern to search for CSF files.\n",
    "\n",
    "### 2. Grey Matter\n",
    "- **path**: Absolute path to the base directory containing grey matter files.\n",
    "- **glob_name_pattern**: File pattern to search for grey matter files.\n",
    "\n",
    "### 3. White Matter\n",
    "- **path**: Absolute path to the base directory containing white matter files.\n",
    "- **glob_name_pattern**: File pattern to search for white matter files.\n",
    "\n",
    "---\n",
    "\n",
    "**Instructions**: Please fill out the `path` and `glob_name_pattern` fields for each segment in the `segments_dict`. This will ensure that the extraction process can locate and identify the appropriate neuroimaging files for further analysis.\n",
    "\n",
    "---"
   ]
  },
  {
   "cell_type": "markdown",
   "metadata": {},
   "source": [
    "Define Nifti Information"
   ]
  },
  {
   "cell_type": "code",
   "execution_count": null,
   "metadata": {},
   "outputs": [],
   "source": [
    "base_directory = r'C:\\Users\\Calvin\\Partners HealthCare Dropbox\\Calvin Howard\\resources\\datasets\\PINES_SCHIZOPHRENIA_ECT'\n",
    "grey_matter_glob_name_pattern = 'sub-*/ses-*/anat/smwp1*'\n",
    "white_matter_glob_name_pattern = 'sub-*/ses-*/anat/smwp2*'\n",
    "csf_glob_name_pattern = 'sub-*/ses-*/anat/smwp3*'"
   ]
  },
  {
   "cell_type": "markdown",
   "metadata": {},
   "source": [
    "Downsample Niftis"
   ]
  },
  {
   "cell_type": "code",
   "execution_count": null,
   "metadata": {},
   "outputs": [],
   "source": [
    "from calvin_utils.vbm_utils.preprocessing import downsample_orchestrator\n",
    "output_paths = downsample_orchestrator(base_directory, grey_matter_glob_name_pattern, white_matter_glob_name_pattern, csf_glob_name_pattern, mni_mask_path=r'C:\\Users\\Calvin\\Partners HealthCare Dropbox\\Calvin Howard\\resources\\mni_spaces\\MNI152_T1_2mm_brain.nii')"
   ]
  },
  {
   "cell_type": "markdown",
   "metadata": {},
   "source": [
    "Your files have now been downsampled to 2x2x2mm resolution.\n",
    "\n",
    "Carry on to Notebook 02 to derive atrophy seeds\n",
    "\n",
    "-Calvin"
   ]
  }
 ],
 "metadata": {
  "kernelspec": {
   "display_name": "Python3.10 (nimlab)",
   "language": "python",
   "name": "nimlab_py310"
  },
  "language_info": {
   "codemirror_mode": {
    "name": "ipython",
    "version": 3
   },
   "file_extension": ".py",
   "mimetype": "text/x-python",
   "name": "python",
   "nbconvert_exporter": "python",
   "pygments_lexer": "ipython3",
   "version": "3.10.16"
  },
  "orig_nbformat": 4
 },
 "nbformat": 4,
 "nbformat_minor": 2
}
