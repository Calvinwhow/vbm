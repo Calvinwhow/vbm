{
 "cells": [
  {
   "cell_type": "markdown",
   "metadata": {},
   "source": [
    "Where to save results to"
   ]
  },
  {
   "cell_type": "code",
   "execution_count": null,
   "metadata": {},
   "outputs": [],
   "source": [
    "out_dir = '/Volumes/OneTouch/datasets/adni/neuroimaging/cat12_control_dist_mwp'"
   ]
  },
  {
   "cell_type": "markdown",
   "metadata": {},
   "source": [
    "# 01 - Load Controls"
   ]
  },
  {
   "cell_type": "code",
   "execution_count": null,
   "metadata": {},
   "outputs": [],
   "source": [
    "root = '/Users/cu135/Partners HealthCare Dropbox/Calvin Howard/resources/datasets/AtrophyMapping_Controls/cat12_mwp'\n",
    "gm = '*mwp1*resampled*'\n",
    "wm = '*mwp2*resampled*'\n",
    "csf = '*mwp3*resampled*'"
   ]
  },
  {
   "cell_type": "code",
   "execution_count": null,
   "metadata": {},
   "outputs": [],
   "source": [
    "from calvin_utils.vbm_utils.loading import import_segments\n",
    "ctrl_dict = import_segments(root, gm, wm, csf)"
   ]
  },
  {
   "cell_type": "markdown",
   "metadata": {},
   "source": [
    "# Generate Z-Scored Atrophy Maps for Each Segment"
   ]
  },
  {
   "cell_type": "code",
   "execution_count": null,
   "metadata": {},
   "outputs": [],
   "source": [
    "from calvin_utils.vbm_utils.processing import process_atrophy\n",
    "atrophy, _, stats = process_atrophy(ctrl_dict, ctrl_dict)"
   ]
  },
  {
   "cell_type": "code",
   "execution_count": null,
   "metadata": {},
   "outputs": [],
   "source": [
    "import os \n",
    "current_dir = os.path.dirname(os.path.abspath(os.getcwd()))\n",
    "mask = os.path.join(current_dir, 'rois', 'MNI152_T1_2mm_brain_mask.nii')"
   ]
  },
  {
   "cell_type": "code",
   "execution_count": null,
   "metadata": {},
   "outputs": [],
   "source": [
    "from calvin_utils.nifti_utils.generate_nifti import view_and_save_nifti\n",
    "for tissue in stats.keys():  \n",
    "    view_and_save_nifti(stats[tissue][0], out_dir=out_dir, output_name=f'{tissue}_mean', silent=False, ref_file=mask)\n",
    "    view_and_save_nifti(stats[tissue][1], out_dir=out_dir, output_name=f'{tissue}_std', silent=False, ref_file=mask)"
   ]
  },
  {
   "cell_type": "markdown",
   "metadata": {},
   "source": [
    "# Generate H-Scored (Composite) Atrophy Maps"
   ]
  },
  {
   "cell_type": "code",
   "execution_count": null,
   "metadata": {},
   "outputs": [],
   "source": [
    "from calvin_utils.vbm_utils.composite_atrophy_mapper import generate_norm_map\n",
    "h, mean, std = generate_norm_map(atrophy, atrophy)"
   ]
  },
  {
   "cell_type": "code",
   "execution_count": null,
   "metadata": {},
   "outputs": [],
   "source": [
    "from calvin_utils.nifti_utils.generate_nifti import view_and_save_nifti\n",
    "view_and_save_nifti(mean, out_dir=out_dir, output_name='norm_mean', silent=False, ref_file=mask)"
   ]
  },
  {
   "cell_type": "code",
   "execution_count": null,
   "metadata": {},
   "outputs": [],
   "source": [
    "from calvin_utils.nifti_utils.generate_nifti import view_and_save_nifti\n",
    "view_and_save_nifti(std, out_dir=out_dir, output_name='norm_std', silent=False, ref_file=mask)"
   ]
  },
  {
   "cell_type": "markdown",
   "metadata": {},
   "source": [
    "All Done. Enjoy your atrophy seeds.\n",
    "\n",
    "--Calvin"
   ]
  }
 ],
 "metadata": {
  "kernelspec": {
   "display_name": "Python_3.7.7_nimlab",
   "language": "python",
   "name": "python3"
  },
  "language_info": {
   "codemirror_mode": {
    "name": "ipython",
    "version": 3
   },
   "file_extension": ".py",
   "mimetype": "text/x-python",
   "name": "python",
   "nbconvert_exporter": "python",
   "pygments_lexer": "ipython3",
   "version": "3.11.12"
  },
  "orig_nbformat": 4
 },
 "nbformat": 4,
 "nbformat_minor": 2
}
