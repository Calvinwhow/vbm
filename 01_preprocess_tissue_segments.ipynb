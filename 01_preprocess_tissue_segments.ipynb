{
 "cells": [
  {
   "cell_type": "markdown",
   "metadata": {},
   "source": [
    "Imports"
   ]
  },
  {
   "cell_type": "code",
   "execution_count": 1,
   "metadata": {},
   "outputs": [],
   "source": [
    "import warnings\n",
    "warnings.filterwarnings('ignore')"
   ]
  },
  {
   "cell_type": "markdown",
   "metadata": {},
   "source": [
    "Here's a brief markup that explains the purpose and usage of the `segments_dict`:\n",
    "\n",
    "---\n",
    "\n",
    "## Neuroimaging File Extraction Dictionary\n",
    "\n",
    "The `segments_dict` is a predefined dictionary structured to facilitate the extraction of specific types of neuroimaging files. Each key in the dictionary represents a distinct neuroimaging segment, and its associated value is another dictionary containing the following fields:\n",
    "\n",
    "- **path**: This should be filled with the absolute path to the base directory containing the neuroimaging files for the corresponding tissue segment. \n",
    "- **glob_name_pattern**: This is the string pattern that will be used to \"glob\" or search for the specific files within the provided path. It helps in identifying and extracting the desired files based on their naming conventions.\n",
    "\n",
    "Here's a breakdown of the segments and their respective fields:\n",
    "\n",
    "### 1. Cerebrospinal Fluid (CSF)\n",
    "- **path**: Absolute path to the base directory containing CSF files.\n",
    "- **glob_name_pattern**: File pattern to search for CSF files.\n",
    "\n",
    "### 2. Grey Matter\n",
    "- **path**: Absolute path to the base directory containing grey matter files.\n",
    "- **glob_name_pattern**: File pattern to search for grey matter files.\n",
    "\n",
    "### 3. White Matter\n",
    "- **path**: Absolute path to the base directory containing white matter files.\n",
    "- **glob_name_pattern**: File pattern to search for white matter files.\n",
    "\n",
    "---\n",
    "\n",
    "**Instructions**: Please fill out the `path` and `glob_name_pattern` fields for each segment in the `segments_dict`. This will ensure that the extraction process can locate and identify the appropriate neuroimaging files for further analysis.\n",
    "\n",
    "---"
   ]
  },
  {
   "cell_type": "markdown",
   "metadata": {},
   "source": [
    "Define Nifti Information"
   ]
  },
  {
   "cell_type": "code",
   "execution_count": 6,
   "metadata": {},
   "outputs": [],
   "source": [
    "base_directory = r'/Volumes/OneTouch/datasets/adni/neuroimaging/true_ad_randomized/vbm'\n",
    "grey_matter_glob_name_pattern = '*/mri/mwp1*'\n",
    "white_matter_glob_name_pattern = '*/mri/mwp2*'\n",
    "csf_glob_name_pattern = '*/mri/mwp3*'"
   ]
  },
  {
   "cell_type": "markdown",
   "metadata": {},
   "source": [
    "Downsample Niftis"
   ]
  },
  {
   "cell_type": "code",
   "execution_count": 7,
   "metadata": {},
   "outputs": [],
   "source": [
    "import os\n",
    "import glob\n",
    "from nilearn import image as nli\n",
    "from nilearn.image import resample_to_img\n",
    "import nibabel as nib\n",
    "import nibabel.processing\n",
    "from tqdm import tqdm\n",
    "from nimlab import datasets as nimds\n",
    "\n",
    "\n",
    "def downsample_image(input_path, output_path):\n",
    "    \"\"\"\n",
    "    Function to downsample a 3D image to a new voxel size using a target affine.\n",
    "    \n",
    "    Args:\n",
    "    input_path (str): Filepath to the input image.\n",
    "    output_path (str): Filepath to save the output image.\n",
    "    target_voxel_size (list): Target voxels to resample to.\n",
    "    \"\"\"\n",
    "    # Load the image\n",
    "    img = nib.load(input_path)\n",
    "    mni_mask = nimds.get_img(\"mni_icbm152\")\n",
    "    \n",
    "    # Downsample the image using the target affine\n",
    "    resampled_img = resample_to_img(img, mni_mask)\n",
    "\n",
    "    # Save the downsampled image\n",
    "    nib.save(resampled_img, output_path)\n",
    "    \n",
    "mni_mask = nimds.get_img(\"mni_icbm152\")\n",
    "mask_data = mni_mask.get_fdata().flatten()\n",
    "\n",
    "def downsample_to_mni152_images_in_folder(input_folder_pattern, dry_run=True):\n",
    "    \"\"\"\n",
    "    Function to downsample all 3D images in a folder to a new voxel size.\n",
    "    \n",
    "    Args:\n",
    "    input_folder_pattern (str): Glob pattern to find the input images.\n",
    "    target_voxel_size (list): Target voxels to resample to.\n",
    "    \"\"\"\n",
    "    # Find all input image filepaths\n",
    "    input_filepaths = glob.glob(input_folder_pattern)\n",
    "    print('Will search:, ', input_folder_pattern)\n",
    "\n",
    "    # Loop over each input image\n",
    "    output_path_list = []\n",
    "    for input_path in tqdm(input_filepaths):\n",
    "        # Define the output path\n",
    "        base, ext = os.path.splitext(input_path)\n",
    "        if ext == '.gz':\n",
    "            base, ext2 = os.path.splitext(base)\n",
    "            ext = ext2 + ext\n",
    "        output_path = base + '_resampled' + ext\n",
    "\n",
    "        # Downsample the image\n",
    "        if dry_run:\n",
    "            pass\n",
    "        else:\n",
    "            downsample_image(input_path, output_path)\n",
    "        output_path_list.append(output_path)\n",
    "    \n",
    "    return output_path_list\n",
    "\n",
    "\n",
    "# Usage:\n",
    "# downsample_images_in_folder('/path/to/your/images/*/*/anat/*mwp1*.nii', '/path/to/target/resolution/image.nii')"
   ]
  },
  {
   "cell_type": "code",
   "execution_count": 8,
   "metadata": {},
   "outputs": [],
   "source": [
    "def downsample_images_to_mni152(base_directory, grey_matter_glob_name_pattern, white_matter_glob_name_pattern, csf_glob_name_pattern):\n",
    "    \"\"\"\n",
    "    Downsamples images to MNI152 standard space and saves them in a specified directory.\n",
    "    \n",
    "    Parameters:\n",
    "    - base_directory (str): The base directory where the images are located.\n",
    "    - grey_matter_glob_name_pattern (str): Glob pattern for grey matter data.\n",
    "    - white_matter_glob_name_pattern (str): Glob pattern for white matter data.\n",
    "    - csf_glob_name_pattern (str): Glob pattern for cerebrospinal fluid data.\n",
    "    \n",
    "    Returns:\n",
    "    - dict: A dictionary containing paths of the downsampled images for each segment.\n",
    "    \"\"\"\n",
    "    \n",
    "    segments_dict = {\n",
    "        'grey_matter': {'path': base_directory, 'glob_name_pattern': grey_matter_glob_name_pattern},\n",
    "        'white_matter': {'path': base_directory, 'glob_name_pattern': white_matter_glob_name_pattern},\n",
    "        'cerebrospinal_fluid': {'path': base_directory, 'glob_name_pattern': csf_glob_name_pattern}\n",
    "    }\n",
    "\n",
    "    output_paths_dict = {}\n",
    "\n",
    "    for k, v in segments_dict.items():\n",
    "        output_paths_dict[k] = downsample_to_mni152_images_in_folder(os.path.join(v['path'], v['glob_name_pattern']), dry_run=False)\n",
    "        print(f'Downsampled {k} segment data \\n ')\n",
    "        print(f'Saved files to {output_paths_dict[k]}')\n",
    "        print('-------------------------------- \\n')\n",
    "\n",
    "    return output_paths_dict\n"
   ]
  },
  {
   "cell_type": "code",
   "execution_count": 9,
   "metadata": {},
   "outputs": [
    {
     "name": "stdout",
     "output_type": "stream",
     "text": [
      "Will search:,  /Volumes/OneTouch/datasets/adni/neuroimaging/true_ad_randomized/vbm/*/mri/mwp1*\n"
     ]
    },
    {
     "name": "stderr",
     "output_type": "stream",
     "text": [
      "100%|██████████| 50/50 [00:37<00:00,  1.34it/s]\n"
     ]
    },
    {
     "name": "stdout",
     "output_type": "stream",
     "text": [
      "Downsampled grey_matter segment data \n",
      " \n",
      "Saved files to ['/Volumes/OneTouch/datasets/adni/neuroimaging/true_ad_randomized/vbm/0001/mri/mwp10001_resampled.nii', '/Volumes/OneTouch/datasets/adni/neuroimaging/true_ad_randomized/vbm/0002/mri/mwp10002_resampled.nii', '/Volumes/OneTouch/datasets/adni/neuroimaging/true_ad_randomized/vbm/0003/mri/mwp10003_resampled.nii', '/Volumes/OneTouch/datasets/adni/neuroimaging/true_ad_randomized/vbm/0004/mri/mwp10004_resampled.nii', '/Volumes/OneTouch/datasets/adni/neuroimaging/true_ad_randomized/vbm/0005/mri/mwp10005_resampled.nii', '/Volumes/OneTouch/datasets/adni/neuroimaging/true_ad_randomized/vbm/0006/mri/mwp10006_resampled.nii', '/Volumes/OneTouch/datasets/adni/neuroimaging/true_ad_randomized/vbm/0007/mri/mwp10007_resampled.nii', '/Volumes/OneTouch/datasets/adni/neuroimaging/true_ad_randomized/vbm/0008/mri/mwp10008_resampled.nii', '/Volumes/OneTouch/datasets/adni/neuroimaging/true_ad_randomized/vbm/0009/mri/mwp10009_resampled.nii', '/Volumes/OneTouch/datasets/adni/neuroimaging/true_ad_randomized/vbm/0010/mri/mwp10010_resampled.nii', '/Volumes/OneTouch/datasets/adni/neuroimaging/true_ad_randomized/vbm/0011/mri/mwp10011_resampled.nii', '/Volumes/OneTouch/datasets/adni/neuroimaging/true_ad_randomized/vbm/0012/mri/mwp10012_resampled.nii', '/Volumes/OneTouch/datasets/adni/neuroimaging/true_ad_randomized/vbm/0013/mri/mwp10013_resampled.nii', '/Volumes/OneTouch/datasets/adni/neuroimaging/true_ad_randomized/vbm/0014/mri/mwp10014_resampled.nii', '/Volumes/OneTouch/datasets/adni/neuroimaging/true_ad_randomized/vbm/0015/mri/mwp10015_resampled.nii', '/Volumes/OneTouch/datasets/adni/neuroimaging/true_ad_randomized/vbm/0016/mri/mwp10016_resampled.nii', '/Volumes/OneTouch/datasets/adni/neuroimaging/true_ad_randomized/vbm/0017/mri/mwp10017_resampled.nii', '/Volumes/OneTouch/datasets/adni/neuroimaging/true_ad_randomized/vbm/0018/mri/mwp10018_resampled.nii', '/Volumes/OneTouch/datasets/adni/neuroimaging/true_ad_randomized/vbm/0019/mri/mwp10019_resampled.nii', '/Volumes/OneTouch/datasets/adni/neuroimaging/true_ad_randomized/vbm/0020/mri/mwp10020_resampled.nii', '/Volumes/OneTouch/datasets/adni/neuroimaging/true_ad_randomized/vbm/0021/mri/mwp10021_resampled.nii', '/Volumes/OneTouch/datasets/adni/neuroimaging/true_ad_randomized/vbm/0022/mri/mwp10022_resampled.nii', '/Volumes/OneTouch/datasets/adni/neuroimaging/true_ad_randomized/vbm/0023/mri/mwp10023_resampled.nii', '/Volumes/OneTouch/datasets/adni/neuroimaging/true_ad_randomized/vbm/0024/mri/mwp10024_resampled.nii', '/Volumes/OneTouch/datasets/adni/neuroimaging/true_ad_randomized/vbm/0025/mri/mwp10025_resampled.nii', '/Volumes/OneTouch/datasets/adni/neuroimaging/true_ad_randomized/vbm/0026/mri/mwp10026_resampled.nii', '/Volumes/OneTouch/datasets/adni/neuroimaging/true_ad_randomized/vbm/0027/mri/mwp10027_resampled.nii', '/Volumes/OneTouch/datasets/adni/neuroimaging/true_ad_randomized/vbm/0028/mri/mwp10028_resampled.nii', '/Volumes/OneTouch/datasets/adni/neuroimaging/true_ad_randomized/vbm/0029/mri/mwp10029_resampled.nii', '/Volumes/OneTouch/datasets/adni/neuroimaging/true_ad_randomized/vbm/0030/mri/mwp10030_resampled.nii', '/Volumes/OneTouch/datasets/adni/neuroimaging/true_ad_randomized/vbm/0031/mri/mwp10031_resampled.nii', '/Volumes/OneTouch/datasets/adni/neuroimaging/true_ad_randomized/vbm/0032/mri/mwp10032_resampled.nii', '/Volumes/OneTouch/datasets/adni/neuroimaging/true_ad_randomized/vbm/0033/mri/mwp10033_resampled.nii', '/Volumes/OneTouch/datasets/adni/neuroimaging/true_ad_randomized/vbm/0034/mri/mwp10034_resampled.nii', '/Volumes/OneTouch/datasets/adni/neuroimaging/true_ad_randomized/vbm/0035/mri/mwp10035_resampled.nii', '/Volumes/OneTouch/datasets/adni/neuroimaging/true_ad_randomized/vbm/0036/mri/mwp10036_resampled.nii', '/Volumes/OneTouch/datasets/adni/neuroimaging/true_ad_randomized/vbm/0037/mri/mwp10037_resampled.nii', '/Volumes/OneTouch/datasets/adni/neuroimaging/true_ad_randomized/vbm/0038/mri/mwp10038_resampled.nii', '/Volumes/OneTouch/datasets/adni/neuroimaging/true_ad_randomized/vbm/0039/mri/mwp10039_resampled.nii', '/Volumes/OneTouch/datasets/adni/neuroimaging/true_ad_randomized/vbm/0040/mri/mwp10040_resampled.nii', '/Volumes/OneTouch/datasets/adni/neuroimaging/true_ad_randomized/vbm/0041/mri/mwp10041_resampled.nii', '/Volumes/OneTouch/datasets/adni/neuroimaging/true_ad_randomized/vbm/0042/mri/mwp10042_resampled.nii', '/Volumes/OneTouch/datasets/adni/neuroimaging/true_ad_randomized/vbm/0043/mri/mwp10043_resampled.nii', '/Volumes/OneTouch/datasets/adni/neuroimaging/true_ad_randomized/vbm/0044/mri/mwp10044_resampled.nii', '/Volumes/OneTouch/datasets/adni/neuroimaging/true_ad_randomized/vbm/0045/mri/mwp10045_resampled.nii', '/Volumes/OneTouch/datasets/adni/neuroimaging/true_ad_randomized/vbm/0046/mri/mwp10046_resampled.nii', '/Volumes/OneTouch/datasets/adni/neuroimaging/true_ad_randomized/vbm/0047/mri/mwp10047_resampled.nii', '/Volumes/OneTouch/datasets/adni/neuroimaging/true_ad_randomized/vbm/0048/mri/mwp10048_resampled.nii', '/Volumes/OneTouch/datasets/adni/neuroimaging/true_ad_randomized/vbm/0049/mri/mwp10049_resampled.nii', '/Volumes/OneTouch/datasets/adni/neuroimaging/true_ad_randomized/vbm/0050/mri/mwp10050_resampled.nii']\n",
      "-------------------------------- \n",
      "\n",
      "Will search:,  /Volumes/OneTouch/datasets/adni/neuroimaging/true_ad_randomized/vbm/*/mri/mwp2*\n"
     ]
    },
    {
     "name": "stderr",
     "output_type": "stream",
     "text": [
      "100%|██████████| 50/50 [00:37<00:00,  1.34it/s]\n"
     ]
    },
    {
     "name": "stdout",
     "output_type": "stream",
     "text": [
      "Downsampled white_matter segment data \n",
      " \n",
      "Saved files to ['/Volumes/OneTouch/datasets/adni/neuroimaging/true_ad_randomized/vbm/0001/mri/mwp20001_resampled.nii', '/Volumes/OneTouch/datasets/adni/neuroimaging/true_ad_randomized/vbm/0002/mri/mwp20002_resampled.nii', '/Volumes/OneTouch/datasets/adni/neuroimaging/true_ad_randomized/vbm/0003/mri/mwp20003_resampled.nii', '/Volumes/OneTouch/datasets/adni/neuroimaging/true_ad_randomized/vbm/0004/mri/mwp20004_resampled.nii', '/Volumes/OneTouch/datasets/adni/neuroimaging/true_ad_randomized/vbm/0005/mri/mwp20005_resampled.nii', '/Volumes/OneTouch/datasets/adni/neuroimaging/true_ad_randomized/vbm/0006/mri/mwp20006_resampled.nii', '/Volumes/OneTouch/datasets/adni/neuroimaging/true_ad_randomized/vbm/0007/mri/mwp20007_resampled.nii', '/Volumes/OneTouch/datasets/adni/neuroimaging/true_ad_randomized/vbm/0008/mri/mwp20008_resampled.nii', '/Volumes/OneTouch/datasets/adni/neuroimaging/true_ad_randomized/vbm/0009/mri/mwp20009_resampled.nii', '/Volumes/OneTouch/datasets/adni/neuroimaging/true_ad_randomized/vbm/0010/mri/mwp20010_resampled.nii', '/Volumes/OneTouch/datasets/adni/neuroimaging/true_ad_randomized/vbm/0011/mri/mwp20011_resampled.nii', '/Volumes/OneTouch/datasets/adni/neuroimaging/true_ad_randomized/vbm/0012/mri/mwp20012_resampled.nii', '/Volumes/OneTouch/datasets/adni/neuroimaging/true_ad_randomized/vbm/0013/mri/mwp20013_resampled.nii', '/Volumes/OneTouch/datasets/adni/neuroimaging/true_ad_randomized/vbm/0014/mri/mwp20014_resampled.nii', '/Volumes/OneTouch/datasets/adni/neuroimaging/true_ad_randomized/vbm/0015/mri/mwp20015_resampled.nii', '/Volumes/OneTouch/datasets/adni/neuroimaging/true_ad_randomized/vbm/0016/mri/mwp20016_resampled.nii', '/Volumes/OneTouch/datasets/adni/neuroimaging/true_ad_randomized/vbm/0017/mri/mwp20017_resampled.nii', '/Volumes/OneTouch/datasets/adni/neuroimaging/true_ad_randomized/vbm/0018/mri/mwp20018_resampled.nii', '/Volumes/OneTouch/datasets/adni/neuroimaging/true_ad_randomized/vbm/0019/mri/mwp20019_resampled.nii', '/Volumes/OneTouch/datasets/adni/neuroimaging/true_ad_randomized/vbm/0020/mri/mwp20020_resampled.nii', '/Volumes/OneTouch/datasets/adni/neuroimaging/true_ad_randomized/vbm/0021/mri/mwp20021_resampled.nii', '/Volumes/OneTouch/datasets/adni/neuroimaging/true_ad_randomized/vbm/0022/mri/mwp20022_resampled.nii', '/Volumes/OneTouch/datasets/adni/neuroimaging/true_ad_randomized/vbm/0023/mri/mwp20023_resampled.nii', '/Volumes/OneTouch/datasets/adni/neuroimaging/true_ad_randomized/vbm/0024/mri/mwp20024_resampled.nii', '/Volumes/OneTouch/datasets/adni/neuroimaging/true_ad_randomized/vbm/0025/mri/mwp20025_resampled.nii', '/Volumes/OneTouch/datasets/adni/neuroimaging/true_ad_randomized/vbm/0026/mri/mwp20026_resampled.nii', '/Volumes/OneTouch/datasets/adni/neuroimaging/true_ad_randomized/vbm/0027/mri/mwp20027_resampled.nii', '/Volumes/OneTouch/datasets/adni/neuroimaging/true_ad_randomized/vbm/0028/mri/mwp20028_resampled.nii', '/Volumes/OneTouch/datasets/adni/neuroimaging/true_ad_randomized/vbm/0029/mri/mwp20029_resampled.nii', '/Volumes/OneTouch/datasets/adni/neuroimaging/true_ad_randomized/vbm/0030/mri/mwp20030_resampled.nii', '/Volumes/OneTouch/datasets/adni/neuroimaging/true_ad_randomized/vbm/0031/mri/mwp20031_resampled.nii', '/Volumes/OneTouch/datasets/adni/neuroimaging/true_ad_randomized/vbm/0032/mri/mwp20032_resampled.nii', '/Volumes/OneTouch/datasets/adni/neuroimaging/true_ad_randomized/vbm/0033/mri/mwp20033_resampled.nii', '/Volumes/OneTouch/datasets/adni/neuroimaging/true_ad_randomized/vbm/0034/mri/mwp20034_resampled.nii', '/Volumes/OneTouch/datasets/adni/neuroimaging/true_ad_randomized/vbm/0035/mri/mwp20035_resampled.nii', '/Volumes/OneTouch/datasets/adni/neuroimaging/true_ad_randomized/vbm/0036/mri/mwp20036_resampled.nii', '/Volumes/OneTouch/datasets/adni/neuroimaging/true_ad_randomized/vbm/0037/mri/mwp20037_resampled.nii', '/Volumes/OneTouch/datasets/adni/neuroimaging/true_ad_randomized/vbm/0038/mri/mwp20038_resampled.nii', '/Volumes/OneTouch/datasets/adni/neuroimaging/true_ad_randomized/vbm/0039/mri/mwp20039_resampled.nii', '/Volumes/OneTouch/datasets/adni/neuroimaging/true_ad_randomized/vbm/0040/mri/mwp20040_resampled.nii', '/Volumes/OneTouch/datasets/adni/neuroimaging/true_ad_randomized/vbm/0041/mri/mwp20041_resampled.nii', '/Volumes/OneTouch/datasets/adni/neuroimaging/true_ad_randomized/vbm/0042/mri/mwp20042_resampled.nii', '/Volumes/OneTouch/datasets/adni/neuroimaging/true_ad_randomized/vbm/0043/mri/mwp20043_resampled.nii', '/Volumes/OneTouch/datasets/adni/neuroimaging/true_ad_randomized/vbm/0044/mri/mwp20044_resampled.nii', '/Volumes/OneTouch/datasets/adni/neuroimaging/true_ad_randomized/vbm/0045/mri/mwp20045_resampled.nii', '/Volumes/OneTouch/datasets/adni/neuroimaging/true_ad_randomized/vbm/0046/mri/mwp20046_resampled.nii', '/Volumes/OneTouch/datasets/adni/neuroimaging/true_ad_randomized/vbm/0047/mri/mwp20047_resampled.nii', '/Volumes/OneTouch/datasets/adni/neuroimaging/true_ad_randomized/vbm/0048/mri/mwp20048_resampled.nii', '/Volumes/OneTouch/datasets/adni/neuroimaging/true_ad_randomized/vbm/0049/mri/mwp20049_resampled.nii', '/Volumes/OneTouch/datasets/adni/neuroimaging/true_ad_randomized/vbm/0050/mri/mwp20050_resampled.nii']\n",
      "-------------------------------- \n",
      "\n",
      "Will search:,  /Volumes/OneTouch/datasets/adni/neuroimaging/true_ad_randomized/vbm/*/mri/mwp3*\n"
     ]
    },
    {
     "name": "stderr",
     "output_type": "stream",
     "text": [
      "100%|██████████| 50/50 [00:38<00:00,  1.30it/s]"
     ]
    },
    {
     "name": "stdout",
     "output_type": "stream",
     "text": [
      "Downsampled cerebrospinal_fluid segment data \n",
      " \n",
      "Saved files to ['/Volumes/OneTouch/datasets/adni/neuroimaging/true_ad_randomized/vbm/0001/mri/mwp30001_resampled.nii', '/Volumes/OneTouch/datasets/adni/neuroimaging/true_ad_randomized/vbm/0002/mri/mwp30002_resampled.nii', '/Volumes/OneTouch/datasets/adni/neuroimaging/true_ad_randomized/vbm/0003/mri/mwp30003_resampled.nii', '/Volumes/OneTouch/datasets/adni/neuroimaging/true_ad_randomized/vbm/0004/mri/mwp30004_resampled.nii', '/Volumes/OneTouch/datasets/adni/neuroimaging/true_ad_randomized/vbm/0005/mri/mwp30005_resampled.nii', '/Volumes/OneTouch/datasets/adni/neuroimaging/true_ad_randomized/vbm/0006/mri/mwp30006_resampled.nii', '/Volumes/OneTouch/datasets/adni/neuroimaging/true_ad_randomized/vbm/0007/mri/mwp30007_resampled.nii', '/Volumes/OneTouch/datasets/adni/neuroimaging/true_ad_randomized/vbm/0008/mri/mwp30008_resampled.nii', '/Volumes/OneTouch/datasets/adni/neuroimaging/true_ad_randomized/vbm/0009/mri/mwp30009_resampled.nii', '/Volumes/OneTouch/datasets/adni/neuroimaging/true_ad_randomized/vbm/0010/mri/mwp30010_resampled.nii', '/Volumes/OneTouch/datasets/adni/neuroimaging/true_ad_randomized/vbm/0011/mri/mwp30011_resampled.nii', '/Volumes/OneTouch/datasets/adni/neuroimaging/true_ad_randomized/vbm/0012/mri/mwp30012_resampled.nii', '/Volumes/OneTouch/datasets/adni/neuroimaging/true_ad_randomized/vbm/0013/mri/mwp30013_resampled.nii', '/Volumes/OneTouch/datasets/adni/neuroimaging/true_ad_randomized/vbm/0014/mri/mwp30014_resampled.nii', '/Volumes/OneTouch/datasets/adni/neuroimaging/true_ad_randomized/vbm/0015/mri/mwp30015_resampled.nii', '/Volumes/OneTouch/datasets/adni/neuroimaging/true_ad_randomized/vbm/0016/mri/mwp30016_resampled.nii', '/Volumes/OneTouch/datasets/adni/neuroimaging/true_ad_randomized/vbm/0017/mri/mwp30017_resampled.nii', '/Volumes/OneTouch/datasets/adni/neuroimaging/true_ad_randomized/vbm/0018/mri/mwp30018_resampled.nii', '/Volumes/OneTouch/datasets/adni/neuroimaging/true_ad_randomized/vbm/0019/mri/mwp30019_resampled.nii', '/Volumes/OneTouch/datasets/adni/neuroimaging/true_ad_randomized/vbm/0020/mri/mwp30020_resampled.nii', '/Volumes/OneTouch/datasets/adni/neuroimaging/true_ad_randomized/vbm/0021/mri/mwp30021_resampled.nii', '/Volumes/OneTouch/datasets/adni/neuroimaging/true_ad_randomized/vbm/0022/mri/mwp30022_resampled.nii', '/Volumes/OneTouch/datasets/adni/neuroimaging/true_ad_randomized/vbm/0023/mri/mwp30023_resampled.nii', '/Volumes/OneTouch/datasets/adni/neuroimaging/true_ad_randomized/vbm/0024/mri/mwp30024_resampled.nii', '/Volumes/OneTouch/datasets/adni/neuroimaging/true_ad_randomized/vbm/0025/mri/mwp30025_resampled.nii', '/Volumes/OneTouch/datasets/adni/neuroimaging/true_ad_randomized/vbm/0026/mri/mwp30026_resampled.nii', '/Volumes/OneTouch/datasets/adni/neuroimaging/true_ad_randomized/vbm/0027/mri/mwp30027_resampled.nii', '/Volumes/OneTouch/datasets/adni/neuroimaging/true_ad_randomized/vbm/0028/mri/mwp30028_resampled.nii', '/Volumes/OneTouch/datasets/adni/neuroimaging/true_ad_randomized/vbm/0029/mri/mwp30029_resampled.nii', '/Volumes/OneTouch/datasets/adni/neuroimaging/true_ad_randomized/vbm/0030/mri/mwp30030_resampled.nii', '/Volumes/OneTouch/datasets/adni/neuroimaging/true_ad_randomized/vbm/0031/mri/mwp30031_resampled.nii', '/Volumes/OneTouch/datasets/adni/neuroimaging/true_ad_randomized/vbm/0032/mri/mwp30032_resampled.nii', '/Volumes/OneTouch/datasets/adni/neuroimaging/true_ad_randomized/vbm/0033/mri/mwp30033_resampled.nii', '/Volumes/OneTouch/datasets/adni/neuroimaging/true_ad_randomized/vbm/0034/mri/mwp30034_resampled.nii', '/Volumes/OneTouch/datasets/adni/neuroimaging/true_ad_randomized/vbm/0035/mri/mwp30035_resampled.nii', '/Volumes/OneTouch/datasets/adni/neuroimaging/true_ad_randomized/vbm/0036/mri/mwp30036_resampled.nii', '/Volumes/OneTouch/datasets/adni/neuroimaging/true_ad_randomized/vbm/0037/mri/mwp30037_resampled.nii', '/Volumes/OneTouch/datasets/adni/neuroimaging/true_ad_randomized/vbm/0038/mri/mwp30038_resampled.nii', '/Volumes/OneTouch/datasets/adni/neuroimaging/true_ad_randomized/vbm/0039/mri/mwp30039_resampled.nii', '/Volumes/OneTouch/datasets/adni/neuroimaging/true_ad_randomized/vbm/0040/mri/mwp30040_resampled.nii', '/Volumes/OneTouch/datasets/adni/neuroimaging/true_ad_randomized/vbm/0041/mri/mwp30041_resampled.nii', '/Volumes/OneTouch/datasets/adni/neuroimaging/true_ad_randomized/vbm/0042/mri/mwp30042_resampled.nii', '/Volumes/OneTouch/datasets/adni/neuroimaging/true_ad_randomized/vbm/0043/mri/mwp30043_resampled.nii', '/Volumes/OneTouch/datasets/adni/neuroimaging/true_ad_randomized/vbm/0044/mri/mwp30044_resampled.nii', '/Volumes/OneTouch/datasets/adni/neuroimaging/true_ad_randomized/vbm/0045/mri/mwp30045_resampled.nii', '/Volumes/OneTouch/datasets/adni/neuroimaging/true_ad_randomized/vbm/0046/mri/mwp30046_resampled.nii', '/Volumes/OneTouch/datasets/adni/neuroimaging/true_ad_randomized/vbm/0047/mri/mwp30047_resampled.nii', '/Volumes/OneTouch/datasets/adni/neuroimaging/true_ad_randomized/vbm/0048/mri/mwp30048_resampled.nii', '/Volumes/OneTouch/datasets/adni/neuroimaging/true_ad_randomized/vbm/0049/mri/mwp30049_resampled.nii', '/Volumes/OneTouch/datasets/adni/neuroimaging/true_ad_randomized/vbm/0050/mri/mwp30050_resampled.nii']\n",
      "-------------------------------- \n",
      "\n"
     ]
    },
    {
     "name": "stderr",
     "output_type": "stream",
     "text": [
      "\n"
     ]
    }
   ],
   "source": [
    "output_paths = downsample_images_to_mni152(base_directory, grey_matter_glob_name_pattern, white_matter_glob_name_pattern, csf_glob_name_pattern)"
   ]
  },
  {
   "cell_type": "markdown",
   "metadata": {},
   "source": [
    "Your files have now been downsampled to 2x2x2mm resolution.\n",
    "Carry on to Notebook 02 to derive atrophy seeds\n",
    "\n",
    "-Calvin"
   ]
  }
 ],
 "metadata": {
  "kernelspec": {
   "display_name": "Python3.10 (nimlab)",
   "language": "python",
   "name": "nimlab_py310"
  },
  "language_info": {
   "codemirror_mode": {
    "name": "ipython",
    "version": 3
   },
   "file_extension": ".py",
   "mimetype": "text/x-python",
   "name": "python",
   "nbconvert_exporter": "python",
   "pygments_lexer": "ipython3",
   "version": "3.1.-1"
  },
  "orig_nbformat": 4
 },
 "nbformat": 4,
 "nbformat_minor": 2
}
