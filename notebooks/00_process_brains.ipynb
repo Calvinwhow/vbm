{
 "cells": [
  {
   "cell_type": "markdown",
   "metadata": {},
   "source": [
    "If having trouble running the package, run this code"
   ]
  },
  {
   "cell_type": "code",
   "execution_count": 2,
   "metadata": {},
   "outputs": [],
   "source": [
    "import sys\n",
    "path_to_repo = r\"/Users/cu135/Library/CloudStorage/OneDrive-Personal/OneDrive_Documents/Work/Software/VBM\"\n",
    "sys.path.append(path_to_repo)"
   ]
  },
  {
   "cell_type": "markdown",
   "metadata": {},
   "source": [
    "# 01 - Pull or Build the Docker Container"
   ]
  },
  {
   "cell_type": "code",
   "execution_count": 4,
   "metadata": {},
   "outputs": [
    {
     "name": "stdout",
     "output_type": "stream",
     "text": [
      "latest: Pulling from calvinwhow/er\n",
      "Digest: sha256:1c01bace0ca2657c050c5ef4610b331346907dd00d9a9e96c1d091eb7581a071\n",
      "Status: Image is up to date for calvinwhow/er:latest\n",
      "docker.io/calvinwhow/er:latest\n",
      "Successfully pulled calvinwhow/er:latest\n"
     ]
    }
   ],
   "source": [
    "from src.calvin_vbm import CalvinVBM\n",
    "CalvinVBM.pull_docker_image(method='easyreg')\n",
    "# CalvinVBM.build_docker_image()"
   ]
  },
  {
   "cell_type": "markdown",
   "metadata": {},
   "source": [
    "# 02 - Run Docker Container"
   ]
  },
  {
   "cell_type": "markdown",
   "metadata": {},
   "source": [
    "Option A - run EasyReg"
   ]
  },
  {
   "cell_type": "code",
   "execution_count": null,
   "metadata": {},
   "outputs": [],
   "source": [
    "data_folder = r'/Users/cu135/Partners HealthCare Dropbox/Calvin Howard/resources/datasets/Jung_TMS_AD/anat/pre_T1'"
   ]
  },
  {
   "cell_type": "code",
   "execution_count": null,
   "metadata": {},
   "outputs": [],
   "source": [
    "from src.calvin_vbm import CalvinVBM\n",
    "CalvinVBM.run_container(\n",
    "    method='easyreg',\n",
    "    data_dir=data_folder,\n",
    "    command_type='easyreg-mri',\n",
    "    printout=True\n",
    ")"
   ]
  },
  {
   "cell_type": "markdown",
   "metadata": {},
   "source": [
    "Option B - run CAT12 with established script"
   ]
  },
  {
   "cell_type": "code",
   "execution_count": null,
   "metadata": {},
   "outputs": [],
   "source": [
    "script = r'C:\\Users\\Calvin\\Documents\\Software\\vbm\\src\\run_segmentation_bids.sh'\n",
    "data_folder = r'/Users/cu135/Library/CloudStorage/OneDrive-Personal/OneDrive_Documents/Work/Software/VBM/demo'"
   ]
  },
  {
   "cell_type": "code",
   "execution_count": null,
   "metadata": {},
   "outputs": [],
   "source": [
    "from src.calvin_vbm import CalvinVBM\n",
    "CalvinVBM.run_docker_with_script(data_folder, script)"
   ]
  },
  {
   "cell_type": "markdown",
   "metadata": {},
   "source": [
    "# 03 - (Optional) Postprocess"
   ]
  },
  {
   "cell_type": "markdown",
   "metadata": {},
   "source": [
    "Get TIVs if used CAT12"
   ]
  },
  {
   "cell_type": "code",
   "execution_count": null,
   "metadata": {},
   "outputs": [],
   "source": [
    "from src.calvin_vbm import CalvinVBM\n",
    "CalvinVBM.extract_tiv_from_xml(folder_path)"
   ]
  },
  {
   "cell_type": "markdown",
   "metadata": {},
   "source": [
    "Your VBM is now running. \n",
    " - Calvin Howard\n",
    " - e: choward12@bwh.harvard.edu"
   ]
  }
 ],
 "metadata": {
  "kernelspec": {
   "display_name": "nimlab_py310",
   "language": "python",
   "name": "python3"
  },
  "language_info": {
   "codemirror_mode": {
    "name": "ipython",
    "version": 3
   },
   "file_extension": ".py",
   "mimetype": "text/x-python",
   "name": "python",
   "nbconvert_exporter": "python",
   "pygments_lexer": "ipython3",
   "version": "3.10.16"
  }
 },
 "nbformat": 4,
 "nbformat_minor": 2
}
