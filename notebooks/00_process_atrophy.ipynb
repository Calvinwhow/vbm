{
 "cells": [
  {
   "cell_type": "markdown",
   "metadata": {},
   "source": [
    "# Run on Server"
   ]
  },
  {
   "cell_type": "markdown",
   "metadata": {},
   "source": [
    "**Option 1) Submit Jobs to Server**\n",
    "- This uses LSF Job Schedler-style submission. \n",
    "- You must run this off a server which has LSF installed, such as Harvard's ERISTwo.\n",
    "- Some clusters will not work well with Docker, and Singularity will be required. This is pending. "
   ]
  },
  {
   "cell_type": "markdown",
   "metadata": {},
   "source": [
    "# Run Locally"
   ]
  },
  {
   "cell_type": "markdown",
   "metadata": {},
   "source": [
    "**Option A - Run A Single Folder that Has Exposed Nifti Files**\n",
    "- This does not submit to cluster. It is stable and will run on your machine. "
   ]
  },
  {
   "cell_type": "markdown",
   "metadata": {},
   "source": [
    "Define the folder with the Niftis in it"
   ]
  },
  {
   "cell_type": "code",
   "execution_count": 1,
   "metadata": {},
   "outputs": [],
   "source": [
    "folder_path = r'C:\\Users\\Calvin\\Partners HealthCare Dropbox\\Calvin Howard\\resources\\datasets\\PINES_SCHIZOPHRENIA_ECT'"
   ]
  },
  {
   "cell_type": "markdown",
   "metadata": {},
   "source": [
    "Run Docker\n",
    "- Estimated 15 minutes per Nifti file. "
   ]
  },
  {
   "cell_type": "code",
   "execution_count": 12,
   "metadata": {},
   "outputs": [
    {
     "name": "stdout",
     "output_type": "stream",
     "text": [
      "Building Docker image...\n",
      "2024/11/07 18:16:28 http2: server: error reading preface from client //./pipe/docker_engine: file has already been closed\n",
      "ERROR: resolve : CreateFile C:\\Users\\Calvin\\Documents\\Software\\Research\\nimlab\\vbm: The system cannot find the file specified.\n",
      "\n",
      "View build details: docker-desktop://dashboard/build/default/default/xvn434ac681jtcq8xjhi7orgg\n",
      "\n"
     ]
    },
    {
     "ename": "CalledProcessError",
     "evalue": "Command '['docker', 'build', '-t', 'cat12:latest', '-f', 'C:\\\\Users\\\\Calvin\\\\Documents\\\\Software\\\\Research\\\\nimlab\\\\vbm\\\\cat12\\\\containers\\\\Dockerfile.cat12', '.']' returned non-zero exit status 1.",
     "output_type": "error",
     "traceback": [
      "\u001b[1;31m---------------------------------------------------------------------------\u001b[0m",
      "\u001b[1;31mCalledProcessError\u001b[0m                        Traceback (most recent call last)",
      "Cell \u001b[1;32mIn[12], line 4\u001b[0m\n\u001b[0;32m      2\u001b[0m sys\u001b[38;5;241m.\u001b[39mpath\u001b[38;5;241m.\u001b[39mappend(\u001b[38;5;124mr\u001b[39m\u001b[38;5;124m\"\u001b[39m\u001b[38;5;124mc:\u001b[39m\u001b[38;5;124m\\\u001b[39m\u001b[38;5;124mUsers\u001b[39m\u001b[38;5;124m\\\u001b[39m\u001b[38;5;124mCalvin\u001b[39m\u001b[38;5;124m\\\u001b[39m\u001b[38;5;124mDocuments\u001b[39m\u001b[38;5;124m\\\u001b[39m\u001b[38;5;124mSoftware\u001b[39m\u001b[38;5;124m\\\u001b[39m\u001b[38;5;124mvbm\u001b[39m\u001b[38;5;124m\"\u001b[39m)\n\u001b[0;32m      3\u001b[0m \u001b[38;5;66;03m# from src.calvin_vbm import CalvinVBM\u001b[39;00m\n\u001b[1;32m----> 4\u001b[0m \u001b[43mbuild_docker_image\u001b[49m\u001b[43m(\u001b[49m\u001b[43mdockerfile_path\u001b[49m\u001b[38;5;241;43m=\u001b[39;49m\u001b[38;5;124;43mr\u001b[39;49m\u001b[38;5;124;43m\"\u001b[39;49m\u001b[38;5;124;43mC:\u001b[39;49m\u001b[38;5;124;43m\\\u001b[39;49m\u001b[38;5;124;43mUsers\u001b[39;49m\u001b[38;5;124;43m\\\u001b[39;49m\u001b[38;5;124;43mCalvin\u001b[39;49m\u001b[38;5;124;43m\\\u001b[39;49m\u001b[38;5;124;43mDocuments\u001b[39;49m\u001b[38;5;124;43m\\\u001b[39;49m\u001b[38;5;124;43mSoftware\u001b[39;49m\u001b[38;5;124;43m\\\u001b[39;49m\u001b[38;5;124;43mResearch\u001b[39;49m\u001b[38;5;124;43m\\\u001b[39;49m\u001b[38;5;124;43mnimlab\u001b[39;49m\u001b[38;5;124;43m\\\u001b[39;49m\u001b[38;5;124;43mvbm\u001b[39;49m\u001b[38;5;124;43m\\\u001b[39;49m\u001b[38;5;124;43mcat12\u001b[39;49m\u001b[38;5;124;43m\\\u001b[39;49m\u001b[38;5;124;43mcontainers\u001b[39;49m\u001b[38;5;124;43m\\\u001b[39;49m\u001b[38;5;124;43mDockerfile.cat12\u001b[39;49m\u001b[38;5;124;43m\"\u001b[39;49m\u001b[43m)\u001b[49m\n\u001b[0;32m      5\u001b[0m \u001b[38;5;66;03m# CalvinVBM.run_docker_on_folder(folder_path=folder_path)\u001b[39;00m\n",
      "Cell \u001b[1;32mIn[11], line 25\u001b[0m, in \u001b[0;36mbuild_docker_image\u001b[1;34m(dockerfile_path)\u001b[0m\n\u001b[0;32m     23\u001b[0m \u001b[38;5;66;03m# Check if the build was successful\u001b[39;00m\n\u001b[0;32m     24\u001b[0m \u001b[38;5;28;01mif\u001b[39;00m result\u001b[38;5;241m.\u001b[39mreturncode \u001b[38;5;241m!=\u001b[39m \u001b[38;5;241m0\u001b[39m:\n\u001b[1;32m---> 25\u001b[0m     \u001b[38;5;28;01mraise\u001b[39;00m subprocess\u001b[38;5;241m.\u001b[39mCalledProcessError(result\u001b[38;5;241m.\u001b[39mreturncode, result\u001b[38;5;241m.\u001b[39margs)\n\u001b[0;32m     27\u001b[0m \u001b[38;5;28mprint\u001b[39m(\u001b[38;5;124m\"\u001b[39m\u001b[38;5;124mDocker image built successfully.\u001b[39m\u001b[38;5;124m\"\u001b[39m)\n",
      "\u001b[1;31mCalledProcessError\u001b[0m: Command '['docker', 'build', '-t', 'cat12:latest', '-f', 'C:\\\\Users\\\\Calvin\\\\Documents\\\\Software\\\\Research\\\\nimlab\\\\vbm\\\\cat12\\\\containers\\\\Dockerfile.cat12', '.']' returned non-zero exit status 1."
     ]
    }
   ],
   "source": [
    "import sys\n",
    "sys.path.append(r\"c:\\Users\\Calvin\\Documents\\Software\\vbm\")\n",
    "from src.calvin_vbm import CalvinVBM\n",
    "CalvinVBM.build_docker_image(dockerfile_path=r\"C:\\Users\\Calvin\\Documents\\Software\\Research\\nimlab\\vbm\\cat12\\containers\\Dockerfile.cat12\")\n",
    "# CalvinVBM.run_docker_on_folder(folder_path=folder_path)"
   ]
  },
  {
   "cell_type": "code",
   "execution_count": null,
   "metadata": {},
   "outputs": [],
   "source": [
    "/cat_standalone_get_TIV_calvin.m\n",
    "/cat_standalone_get_TIV_calvin.m"
   ]
  },
  {
   "cell_type": "markdown",
   "metadata": {},
   "source": [
    "# Option B - Run A BIDS-Style Directory with Exposed Nifti Files"
   ]
  },
  {
   "cell_type": "markdown",
   "metadata": {},
   "source": [
    "Your VBM is now running. \n",
    " - Calvin Howard\n",
    " - e: choward12@bwh.harvard.edu"
   ]
  }
 ],
 "metadata": {
  "kernelspec": {
   "display_name": "Python 3",
   "language": "python",
   "name": "python3"
  },
  "language_info": {
   "codemirror_mode": {
    "name": "ipython",
    "version": 3
   },
   "file_extension": ".py",
   "mimetype": "text/x-python",
   "name": "python",
   "nbconvert_exporter": "python",
   "pygments_lexer": "ipython3",
   "version": "3.11.9"
  }
 },
 "nbformat": 4,
 "nbformat_minor": 2
}
