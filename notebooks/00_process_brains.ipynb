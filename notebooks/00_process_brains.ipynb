{
 "cells": [
  {
   "cell_type": "markdown",
   "metadata": {},
   "source": [
    "If having trouble running the package, run this code"
   ]
  },
  {
   "cell_type": "code",
   "execution_count": 1,
   "metadata": {},
   "outputs": [],
   "source": [
    "import sys\n",
    "path_to_repo = r\"/Users/cu135/Library/CloudStorage/OneDrive-Personal/OneDrive_Documents/Work/Software/VBM\"\n",
    "sys.path.append(path_to_repo)"
   ]
  },
  {
   "cell_type": "markdown",
   "metadata": {},
   "source": [
    "# 01 - Pull or Build the Docker Container"
   ]
  },
  {
   "cell_type": "code",
   "execution_count": 2,
   "metadata": {},
   "outputs": [
    {
     "name": "stdout",
     "output_type": "stream",
     "text": [
      "Pulling Dockerfile with tag: er from calvinwhow...\n",
      "latest: Pulling from calvinwhow/er\n",
      "Digest: sha256:1c01bace0ca2657c050c5ef4610b331346907dd00d9a9e96c1d091eb7581a071\n",
      "Status: Image is up to date for calvinwhow/er:latest\n",
      "docker.io/calvinwhow/er:latest\n",
      "\n",
      "Dockerfile for easyreg successfully pulled.\n"
     ]
    }
   ],
   "source": [
    "from src.calvin_vbm import CalvinVBM\n",
    "CalvinVBM.pull_dockerfile(method='easyreg')\n",
    "# CalvinVBM.build_docker_image()"
   ]
  },
  {
   "cell_type": "markdown",
   "metadata": {},
   "source": [
    "# 02 - Run Docker Container"
   ]
  },
  {
   "cell_type": "markdown",
   "metadata": {},
   "source": [
    "Option A - run EasyReg"
   ]
  },
  {
   "cell_type": "code",
   "execution_count": 3,
   "metadata": {},
   "outputs": [],
   "source": [
    "\n",
    "data_folder = r'/Users/cu135/Library/CloudStorage/OneDrive-Personal/OneDrive_Documents/Work/Software/VBM/demo'"
   ]
  },
  {
   "cell_type": "code",
   "execution_count": 7,
   "metadata": {},
   "outputs": [
    {
     "name": "stdout",
     "output_type": "stream",
     "text": [
      "Running Docker container with command: docker run --rm -it -v /Users/cu135/Library/CloudStorage/OneDrive-Personal/OneDrive_Documents/Work/Software/VBM/demo:/root/data er:latest easyreg-mri --ref /root/data/p00002.nii --flo /root/data/wm0002.nii --ref_seg /root/data/derivatives/p00002_seg.nii --flo_seg /root/data/derivatives/wm0002_seg.nii --flo_reg /root/data/derivatives/wm0002_reg.nii --fwd_field /root/data/derivatives/forward_field.nii --bak_field /root/data/derivatives/inverse_field.nii --threads 9\n",
      "the input device is not a TTY\n",
      "\n",
      "An error occurred while running the Docker container: Command '['docker', 'run', '--rm', '-it', '-v /Users/cu135/Library/CloudStorage/OneDrive-Personal/OneDrive_Documents/Work/Software/VBM/demo:/root/data', 'er:latest', 'easyreg-mri', '--ref', '/root/data/p00002.nii', '--flo', '/root/data/wm0002.nii', '--ref_seg', '/root/data/derivatives/p00002_seg.nii', '--flo_seg', '/root/data/derivatives/wm0002_seg.nii', '--flo_reg', '/root/data/derivatives/wm0002_reg.nii', '--fwd_field', '/root/data/derivatives/forward_field.nii', '--bak_field', '/root/data/derivatives/inverse_field.nii', '--threads', '9']' returned non-zero exit status 1.\n"
     ]
    }
   ],
   "source": [
    "from src.calvin_vbm import run_docker_container\n",
    "run_docker_container(\n",
    "    method='easyreg',\n",
    "    data_dir=data_folder,\n",
    "    command_type='easyreg-mri'\n",
    ")"
   ]
  },
  {
   "cell_type": "markdown",
   "metadata": {},
   "source": [
    "Option B - run CAT12 with established script"
   ]
  },
  {
   "cell_type": "code",
   "execution_count": 5,
   "metadata": {},
   "outputs": [],
   "source": [
    "script = r'C:\\Users\\Calvin\\Documents\\Software\\vbm\\src\\run_segmentation_bids.sh'\n",
    "data_folder = r'/Users/cu135/Library/CloudStorage/OneDrive-Personal/OneDrive_Documents/Work/Software/VBM/demo'"
   ]
  },
  {
   "cell_type": "code",
   "execution_count": 6,
   "metadata": {},
   "outputs": [
    {
     "ename": "FileExistsError",
     "evalue": "Docker image not found. You must build or pull the image first.",
     "output_type": "error",
     "traceback": [
      "\u001b[0;31m---------------------------------------------------------------------------\u001b[0m",
      "\u001b[0;31mFileExistsError\u001b[0m                           Traceback (most recent call last)",
      "Cell \u001b[0;32mIn[6], line 2\u001b[0m\n\u001b[1;32m      1\u001b[0m \u001b[38;5;28;01mfrom\u001b[39;00m\u001b[38;5;250m \u001b[39m\u001b[38;5;21;01msrc\u001b[39;00m\u001b[38;5;21;01m.\u001b[39;00m\u001b[38;5;21;01mcalvin_vbm\u001b[39;00m\u001b[38;5;250m \u001b[39m\u001b[38;5;28;01mimport\u001b[39;00m CalvinVBM\n\u001b[0;32m----> 2\u001b[0m \u001b[43mCalvinVBM\u001b[49m\u001b[38;5;241;43m.\u001b[39;49m\u001b[43mrun_docker_with_script\u001b[49m\u001b[43m(\u001b[49m\u001b[43mdata_folder\u001b[49m\u001b[43m,\u001b[49m\u001b[43m \u001b[49m\u001b[43mscript\u001b[49m\u001b[43m)\u001b[49m\n",
      "File \u001b[0;32m~/Library/CloudStorage/OneDrive-Personal/OneDrive_Documents/Work/Software/VBM/src/calvin_vbm.py:119\u001b[0m, in \u001b[0;36mCalvinVBM.run_docker_with_script\u001b[0;34m(data_dir_path, script_path, tag)\u001b[0m\n\u001b[1;32m    117\u001b[0m image_check \u001b[38;5;241m=\u001b[39m subprocess\u001b[38;5;241m.\u001b[39mrun([\u001b[38;5;124m\"\u001b[39m\u001b[38;5;124mdocker\u001b[39m\u001b[38;5;124m\"\u001b[39m, \u001b[38;5;124m\"\u001b[39m\u001b[38;5;124mimages\u001b[39m\u001b[38;5;124m\"\u001b[39m, \u001b[38;5;124m\"\u001b[39m\u001b[38;5;124m-q\u001b[39m\u001b[38;5;124m\"\u001b[39m, \u001b[38;5;124m\"\u001b[39m\u001b[38;5;124mcat12:latest\u001b[39m\u001b[38;5;124m\"\u001b[39m], capture_output\u001b[38;5;241m=\u001b[39m\u001b[38;5;28;01mTrue\u001b[39;00m, text\u001b[38;5;241m=\u001b[39m\u001b[38;5;28;01mTrue\u001b[39;00m)\n\u001b[1;32m    118\u001b[0m \u001b[38;5;28;01mif\u001b[39;00m \u001b[38;5;129;01mnot\u001b[39;00m image_check\u001b[38;5;241m.\u001b[39mstdout\u001b[38;5;241m.\u001b[39mstrip():\n\u001b[0;32m--> 119\u001b[0m     \u001b[38;5;28;01mraise\u001b[39;00m \u001b[38;5;167;01mFileExistsError\u001b[39;00m(\u001b[38;5;124m\"\u001b[39m\u001b[38;5;124mDocker image not found. You must build or pull the image first.\u001b[39m\u001b[38;5;124m\"\u001b[39m)\n\u001b[1;32m    121\u001b[0m \u001b[38;5;66;03m# Run the Docker container with mounted volumes\u001b[39;00m\n\u001b[1;32m    122\u001b[0m \u001b[38;5;28mprint\u001b[39m(\u001b[38;5;124mf\u001b[39m\u001b[38;5;124m\"\u001b[39m\u001b[38;5;124mRunning Docker container with script: \u001b[39m\u001b[38;5;132;01m{\u001b[39;00mscript_filename\u001b[38;5;132;01m}\u001b[39;00m\u001b[38;5;124m\"\u001b[39m)\n",
      "\u001b[0;31mFileExistsError\u001b[0m: Docker image not found. You must build or pull the image first."
     ]
    }
   ],
   "source": [
    "from src.calvin_vbm import CalvinVBM\n",
    "CalvinVBM.run_docker_with_script(data_folder, script)"
   ]
  },
  {
   "cell_type": "markdown",
   "metadata": {},
   "source": [
    "# 03 - (Optional) Postprocess"
   ]
  },
  {
   "cell_type": "markdown",
   "metadata": {},
   "source": [
    "Get TIVs if used CAT12"
   ]
  },
  {
   "cell_type": "code",
   "execution_count": null,
   "metadata": {},
   "outputs": [],
   "source": [
    "from src.calvin_vbm import CalvinVBM\n",
    "CalvinVBM.extract_tiv_from_xml(folder_path)"
   ]
  },
  {
   "cell_type": "markdown",
   "metadata": {},
   "source": [
    "Your VBM is now running. \n",
    " - Calvin Howard\n",
    " - e: choward12@bwh.harvard.edu"
   ]
  }
 ],
 "metadata": {
  "kernelspec": {
   "display_name": "nimlab_py310",
   "language": "python",
   "name": "python3"
  },
  "language_info": {
   "codemirror_mode": {
    "name": "ipython",
    "version": 3
   },
   "file_extension": ".py",
   "mimetype": "text/x-python",
   "name": "python",
   "nbconvert_exporter": "python",
   "pygments_lexer": "ipython3",
   "version": "3.10.16"
  }
 },
 "nbformat": 4,
 "nbformat_minor": 2
}
