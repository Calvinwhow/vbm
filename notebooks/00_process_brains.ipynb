{
 "cells": [
  {
   "cell_type": "code",
   "execution_count": 1,
   "metadata": {},
   "outputs": [],
   "source": [
    "import sys\n",
    "sys.path.append('/Users/cu135/Software_Local/VBM')"
   ]
  },
  {
   "cell_type": "markdown",
   "metadata": {},
   "source": [
    "# 01 - Pull or Build the Docker Container"
   ]
  },
  {
   "cell_type": "code",
   "execution_count": 2,
   "metadata": {},
   "outputs": [
    {
     "name": "stderr",
     "output_type": "stream",
     "text": [
      "#0 building with \"desktop-linux\" instance using docker driver\n",
      "\n",
      "#1 [internal] load build definition from Dockerfile.cat12\n",
      "#1 transferring dockerfile: 1.92kB done\n",
      "#1 DONE 0.0s\n",
      "\n",
      "#2 [internal] load metadata for docker.io/library/ubuntu:focal-20210416\n",
      "#2 DONE 0.3s\n",
      "\n",
      "#3 [internal] load .dockerignore\n",
      "#3 transferring context: 2B done\n",
      "#3 DONE 0.0s\n",
      "\n",
      "#4 [1/5] FROM docker.io/library/ubuntu:focal-20210416@sha256:adf73ca014822ad8237623d388cedf4d5346aa72c270c5acc01431cc93e18e2d\n",
      "#4 DONE 0.0s\n",
      "\n",
      "#5 [2/5] WORKDIR /root\n",
      "#5 CACHED\n",
      "\n",
      "#6 [3/5] RUN apt-get update  && apt-get -y install wget nano unzip libxext6 libxt6 moreutils  && apt-get clean\n",
      "#6 CACHED\n",
      "\n",
      "#7 [4/5] RUN mkdir /tmp/mcr_install  && mkdir /opt/mcr  && wget --progress=bar:force -P /tmp/mcr_install https://ssd.mathworks.com/supportfiles/downloads/R2017b/deployment_files/R2017b/installers/glnxa64/MCR_R2017b_glnxa64_installer.zip  && unzip -q /tmp/mcr_install/MCR_R2017b_glnxa64_installer.zip -d /tmp/mcr_install  && /tmp/mcr_install/install -destinationFolder /opt/mcr -agreeToLicense yes -mode silent\n",
      "#7 0.099 --2025-06-19 01:52:55--  https://ssd.mathworks.com/supportfiles/downloads/R2017b/deployment_files/R2017b/installers/glnxa64/MCR_R2017b_glnxa64_installer.zip\n",
      "#7 0.100 Resolving ssd.mathworks.com (ssd.mathworks.com)... 23.51.87.3\n",
      "#7 0.125 Connecting to ssd.mathworks.com (ssd.mathworks.com)|23.51.87.3|:443... connected.\n",
      "#7 0.163 HTTP request sent, awaiting response... 200 OK\n",
      "#7 0.183 Length: 1495757900 (1.4G) [application/zip]\n",
      "#7 0.183 Saving to: '/tmp/mcr_install/MCR_R2017b_glnxa64_installer.zip'\n",
      "#7 0.183 \n",
      "MCR_R2017b_glnxa64_ 100%[===================>]   1.39G  4.84MB/s    in 4m 43s  \n",
      "#7 283.7 \n",
      "#7 283.7 2025-06-19 01:57:39 (5.03 MB/s) - '/tmp/mcr_install/MCR_R2017b_glnxa64_installer.zip' saved [1495757900/1495757900]\n",
      "#7 283.7 \n",
      "#7 301.6 /tmp/mcr_install/install: 1: exec: /tmp/mcr_install/bin/unknown/install_unix: not found\n",
      "#7 ERROR: process \"/bin/sh -c mkdir /tmp/mcr_install  && mkdir /opt/mcr  && wget --progress=bar:force -P /tmp/mcr_install https://ssd.mathworks.com/supportfiles/downloads/R2017b/deployment_files/R2017b/installers/glnxa64/MCR_R2017b_glnxa64_installer.zip  && unzip -q /tmp/mcr_install/MCR_R2017b_glnxa64_installer.zip -d /tmp/mcr_install  && /tmp/mcr_install/install -destinationFolder /opt/mcr -agreeToLicense yes -mode silent\" did not complete successfully: exit code: 127\n",
      "------\n",
      " > [4/5] RUN mkdir /tmp/mcr_install  && mkdir /opt/mcr  && wget --progress=bar:force -P /tmp/mcr_install https://ssd.mathworks.com/supportfiles/downloads/R2017b/deployment_files/R2017b/installers/glnxa64/MCR_R2017b_glnxa64_installer.zip  && unzip -q /tmp/mcr_install/MCR_R2017b_glnxa64_installer.zip -d /tmp/mcr_install  && /tmp/mcr_install/install -destinationFolder /opt/mcr -agreeToLicense yes -mode silent:\n",
      "0.099 --2025-06-19 01:52:55--  https://ssd.mathworks.com/supportfiles/downloads/R2017b/deployment_files/R2017b/installers/glnxa64/MCR_R2017b_glnxa64_installer.zip\n",
      "MCR_R2017b_glnxa64_ 100%[===================>]   1.39G  4.84MB/s    in 4m 43s  \n",
      "283.7 \n",
      "283.7 2025-06-19 01:57:39 (5.03 MB/s) - '/tmp/mcr_install/MCR_R2017b_glnxa64_installer.zip' saved [1495757900/1495757900]\n",
      "283.7 \n",
      "301.6 /tmp/mcr_install/install: 1: exec: /tmp/mcr_install/bin/unknown/install_unix: not found\n",
      "------\n",
      "Dockerfile.cat12:16\n",
      "--------------------\n",
      "  15 |     ENV MCR_VERSION v93\n",
      "  16 | >>> RUN mkdir /tmp/mcr_install \\\n",
      "  17 | >>>  && mkdir /opt/mcr \\\n",
      "  18 | >>>  && wget --progress=bar:force -P /tmp/mcr_install https://ssd.mathworks.com/supportfiles/downloads/R2017b/deployment_files/R2017b/installers/glnxa64/MCR_R2017b_glnxa64_installer.zip \\\n",
      "  19 | >>>  && unzip -q /tmp/mcr_install/MCR_R2017b_glnxa64_installer.zip -d /tmp/mcr_install \\\n",
      "  20 | >>>  && /tmp/mcr_install/install -destinationFolder /opt/mcr -agreeToLicense yes -mode silent\n",
      "  21 |     ENV MCRROOT /opt/mcr/${MCR_VERSION}\n",
      "--------------------\n",
      "ERROR: failed to solve: process \"/bin/sh -c mkdir /tmp/mcr_install  && mkdir /opt/mcr  && wget --progress=bar:force -P /tmp/mcr_install https://ssd.mathworks.com/supportfiles/downloads/R2017b/deployment_files/R2017b/installers/glnxa64/MCR_R2017b_glnxa64_installer.zip  && unzip -q /tmp/mcr_install/MCR_R2017b_glnxa64_installer.zip -d /tmp/mcr_install  && /tmp/mcr_install/install -destinationFolder /opt/mcr -agreeToLicense yes -mode silent\" did not complete successfully: exit code: 127\n",
      "\n",
      "View build details: docker-desktop://dashboard/build/desktop-linux/desktop-linux/a320kbfq2ccmeqetjxek5wn93\n"
     ]
    },
    {
     "ename": "CalledProcessError",
     "evalue": "Command '['docker', 'build', '-t', 'calvinwhow/cat12:latest', '-f', '/Users/cu135/Software_Local/VBM/containers/Dockerfile.cat12', '.']' returned non-zero exit status 1.",
     "output_type": "error",
     "traceback": [
      "\u001b[0;31m---------------------------------------------------------------------------\u001b[0m",
      "\u001b[0;31mCalledProcessError\u001b[0m                        Traceback (most recent call last)",
      "Cell \u001b[0;32mIn[2], line 3\u001b[0m\n\u001b[1;32m      1\u001b[0m \u001b[38;5;28;01mfrom\u001b[39;00m \u001b[38;5;21;01msrc\u001b[39;00m\u001b[38;5;21;01m.\u001b[39;00m\u001b[38;5;21;01mcalvin_vbm\u001b[39;00m \u001b[38;5;28;01mimport\u001b[39;00m CalvinVBM\n\u001b[1;32m      2\u001b[0m vbm \u001b[38;5;241m=\u001b[39m CalvinVBM(\u001b[38;5;124m'\u001b[39m\u001b[38;5;124mcat12\u001b[39m\u001b[38;5;124m'\u001b[39m)\n\u001b[0;32m----> 3\u001b[0m \u001b[43mvbm\u001b[49m\u001b[38;5;241;43m.\u001b[39;49m\u001b[43mbuild_docker_image\u001b[49m\u001b[43m(\u001b[49m\u001b[38;5;124;43m'\u001b[39;49m\u001b[38;5;124;43m/Users/cu135/Software_Local/VBM/containers/Dockerfile.cat12\u001b[39;49m\u001b[38;5;124;43m'\u001b[39;49m\u001b[43m)\u001b[49m\n\u001b[1;32m      4\u001b[0m \u001b[38;5;66;03m# vbm.pull_docker_image(method='cat12')\u001b[39;00m\n",
      "File \u001b[0;32m~/Software_Local/VBM/src/calvin_vbm.py:27\u001b[0m, in \u001b[0;36mCalvinVBM.build_docker_image\u001b[0;34m(self, dockerfile_path)\u001b[0m\n\u001b[1;32m     25\u001b[0m     \u001b[38;5;28;01mraise\u001b[39;00m \u001b[38;5;167;01mValueError\u001b[39;00m(\u001b[38;5;124m\"\u001b[39m\u001b[38;5;124mMethod must be \u001b[39m\u001b[38;5;124m'\u001b[39m\u001b[38;5;124mcat12\u001b[39m\u001b[38;5;124m'\u001b[39m\u001b[38;5;124m or \u001b[39m\u001b[38;5;124m'\u001b[39m\u001b[38;5;124measyreg\u001b[39m\u001b[38;5;124m'\u001b[39m\u001b[38;5;124m.\u001b[39m\u001b[38;5;124m\"\u001b[39m)\n\u001b[1;32m     26\u001b[0m image_name \u001b[38;5;241m=\u001b[39m \u001b[38;5;124mf\u001b[39m\u001b[38;5;124m\"\u001b[39m\u001b[38;5;124mcalvinwhow/\u001b[39m\u001b[38;5;132;01m{\u001b[39;00m\u001b[38;5;28mself\u001b[39m\u001b[38;5;241m.\u001b[39mtag\u001b[38;5;132;01m}\u001b[39;00m\u001b[38;5;124m\"\u001b[39m\n\u001b[0;32m---> 27\u001b[0m \u001b[43msubprocess\u001b[49m\u001b[38;5;241;43m.\u001b[39;49m\u001b[43mrun\u001b[49m\u001b[43m(\u001b[49m\u001b[43m[\u001b[49m\u001b[38;5;124;43m\"\u001b[39;49m\u001b[38;5;124;43mdocker\u001b[39;49m\u001b[38;5;124;43m\"\u001b[39;49m\u001b[43m,\u001b[49m\u001b[43m \u001b[49m\u001b[38;5;124;43m\"\u001b[39;49m\u001b[38;5;124;43mbuild\u001b[39;49m\u001b[38;5;124;43m\"\u001b[39;49m\u001b[43m,\u001b[49m\u001b[43m \u001b[49m\u001b[38;5;124;43m\"\u001b[39;49m\u001b[38;5;124;43m-t\u001b[39;49m\u001b[38;5;124;43m\"\u001b[39;49m\u001b[43m,\u001b[49m\u001b[43m \u001b[49m\u001b[43mimage_name\u001b[49m\u001b[43m,\u001b[49m\u001b[43m \u001b[49m\u001b[38;5;124;43m\"\u001b[39;49m\u001b[38;5;124;43m-f\u001b[39;49m\u001b[38;5;124;43m\"\u001b[39;49m\u001b[43m,\u001b[49m\u001b[43m \u001b[49m\u001b[43mdockerfile_path\u001b[49m\u001b[43m,\u001b[49m\u001b[43m \u001b[49m\u001b[38;5;124;43m\"\u001b[39;49m\u001b[38;5;124;43m.\u001b[39;49m\u001b[38;5;124;43m\"\u001b[39;49m\u001b[43m]\u001b[49m\u001b[43m,\u001b[49m\u001b[43m \u001b[49m\u001b[43mcheck\u001b[49m\u001b[38;5;241;43m=\u001b[39;49m\u001b[38;5;28;43;01mTrue\u001b[39;49;00m\u001b[43m)\u001b[49m\n\u001b[1;32m     28\u001b[0m \u001b[38;5;28mprint\u001b[39m(\u001b[38;5;124mf\u001b[39m\u001b[38;5;124m\"\u001b[39m\u001b[38;5;124mSuccessfully built \u001b[39m\u001b[38;5;132;01m{\u001b[39;00mimage_name\u001b[38;5;132;01m}\u001b[39;00m\u001b[38;5;124m\"\u001b[39m)\n\u001b[1;32m     29\u001b[0m \u001b[38;5;28mself\u001b[39m\u001b[38;5;241m.\u001b[39mpush_docker_image(image_name)\n",
      "File \u001b[0;32m/opt/homebrew/Cellar/python@3.11/3.11.12/Frameworks/Python.framework/Versions/3.11/lib/python3.11/subprocess.py:571\u001b[0m, in \u001b[0;36mrun\u001b[0;34m(input, capture_output, timeout, check, *popenargs, **kwargs)\u001b[0m\n\u001b[1;32m    569\u001b[0m     retcode \u001b[38;5;241m=\u001b[39m process\u001b[38;5;241m.\u001b[39mpoll()\n\u001b[1;32m    570\u001b[0m     \u001b[38;5;28;01mif\u001b[39;00m check \u001b[38;5;129;01mand\u001b[39;00m retcode:\n\u001b[0;32m--> 571\u001b[0m         \u001b[38;5;28;01mraise\u001b[39;00m CalledProcessError(retcode, process\u001b[38;5;241m.\u001b[39margs,\n\u001b[1;32m    572\u001b[0m                                  output\u001b[38;5;241m=\u001b[39mstdout, stderr\u001b[38;5;241m=\u001b[39mstderr)\n\u001b[1;32m    573\u001b[0m \u001b[38;5;28;01mreturn\u001b[39;00m CompletedProcess(process\u001b[38;5;241m.\u001b[39margs, retcode, stdout, stderr)\n",
      "\u001b[0;31mCalledProcessError\u001b[0m: Command '['docker', 'build', '-t', 'calvinwhow/cat12:latest', '-f', '/Users/cu135/Software_Local/VBM/containers/Dockerfile.cat12', '.']' returned non-zero exit status 1."
     ]
    }
   ],
   "source": [
    "from src.calvin_vbm import CalvinVBM\n",
    "vbm = CalvinVBM('cat12')\n",
    "vbm.build_docker_image('/Users/cu135/Software_Local/VBM/containers/Dockerfile.cat12')\n",
    "# vbm.pull_docker_image(method='cat12')"
   ]
  },
  {
   "cell_type": "markdown",
   "metadata": {},
   "source": [
    "# 02 - Run Docker Container"
   ]
  },
  {
   "cell_type": "markdown",
   "metadata": {},
   "source": [
    "Option A - run EasyReg"
   ]
  },
  {
   "cell_type": "code",
   "execution_count": null,
   "metadata": {},
   "outputs": [],
   "source": [
    "data_folder = '/Users/cu135/Partners HealthCare Dropbox/Calvin Howard/resources/datasets/Jung_TMS_AD/anat/pre_T1'\n",
    "script_choice = '/Users/cu135/Software_Local/VBM/src/cat_standalone_segment_calvin.m'"
   ]
  },
  {
   "cell_type": "code",
   "execution_count": null,
   "metadata": {},
   "outputs": [],
   "source": [
    "vbm.run_docker_with_script(\n",
    "    data_dir=data_folder,\n",
    "    script_path=script_choice,\n",
    "    printout=True\n",
    ")"
   ]
  },
  {
   "cell_type": "markdown",
   "metadata": {},
   "source": [
    "Your VBM is now running. \n",
    " - Calvin Howard\n",
    " - e: choward12@bwh.harvard.edu"
   ]
  }
 ],
 "metadata": {
  "kernelspec": {
   "display_name": "Python_3.7.7_nimlab",
   "language": "python",
   "name": "python3"
  },
  "language_info": {
   "codemirror_mode": {
    "name": "ipython",
    "version": 3
   },
   "file_extension": ".py",
   "mimetype": "text/x-python",
   "name": "python",
   "nbconvert_exporter": "python",
   "pygments_lexer": "ipython3",
   "version": "3.11.12"
  }
 },
 "nbformat": 4,
 "nbformat_minor": 2
}
