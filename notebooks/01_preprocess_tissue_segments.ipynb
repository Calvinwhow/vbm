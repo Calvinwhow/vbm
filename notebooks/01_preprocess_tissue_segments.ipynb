{
 "cells": [
  {
   "cell_type": "markdown",
   "metadata": {},
   "source": [
    "Imports"
   ]
  },
  {
   "cell_type": "code",
   "execution_count": 1,
   "metadata": {},
   "outputs": [],
   "source": [
    "import warnings\n",
    "warnings.filterwarnings('ignore')"
   ]
  },
  {
   "cell_type": "markdown",
   "metadata": {},
   "source": [
    "Here's a brief markup that explains the purpose and usage of the `segments_dict`:\n",
    "\n",
    "---\n",
    "\n",
    "## Neuroimaging File Extraction Dictionary\n",
    "\n",
    "The `segments_dict` is a predefined dictionary structured to facilitate the extraction of specific types of neuroimaging files. Each key in the dictionary represents a distinct neuroimaging segment, and its associated value is another dictionary containing the following fields:\n",
    "\n",
    "- **path**: This should be filled with the absolute path to the base directory containing the neuroimaging files for the corresponding tissue segment. \n",
    "- **glob_name_pattern**: This is the string pattern that will be used to \"glob\" or search for the specific files within the provided path. It helps in identifying and extracting the desired files based on their naming conventions.\n",
    "\n",
    "Here's a breakdown of the segments and their respective fields:\n",
    "\n",
    "### 1. Cerebrospinal Fluid (CSF)\n",
    "- **path**: Absolute path to the base directory containing CSF files.\n",
    "- **glob_name_pattern**: File pattern to search for CSF files.\n",
    "\n",
    "### 2. Grey Matter\n",
    "- **path**: Absolute path to the base directory containing grey matter files.\n",
    "- **glob_name_pattern**: File pattern to search for grey matter files.\n",
    "\n",
    "### 3. White Matter\n",
    "- **path**: Absolute path to the base directory containing white matter files.\n",
    "- **glob_name_pattern**: File pattern to search for white matter files.\n",
    "\n",
    "---\n",
    "\n",
    "**Instructions**: Please fill out the `path` and `glob_name_pattern` fields for each segment in the `segments_dict`. This will ensure that the extraction process can locate and identify the appropriate neuroimaging files for further analysis.\n",
    "\n",
    "---"
   ]
  },
  {
   "cell_type": "markdown",
   "metadata": {},
   "source": [
    "Define Nifti Information"
   ]
  },
  {
   "cell_type": "code",
   "execution_count": 2,
   "metadata": {},
   "outputs": [],
   "source": [
    "base_directory = r'/Volumes/Expansion/datasets/Jung_TMS_AD/anat/pre_T1/mri'\n",
    "grey_matter_glob_name_pattern = 'smwp1*'\n",
    "white_matter_glob_name_pattern = 'smwp2*'\n",
    "csf_glob_name_pattern = 'smwp3*'"
   ]
  },
  {
   "cell_type": "markdown",
   "metadata": {},
   "source": [
    "You must pass an MNI mask path. A 2mm template is in /assets"
   ]
  },
  {
   "cell_type": "code",
   "execution_count": 3,
   "metadata": {},
   "outputs": [],
   "source": [
    "mask_path = '/Users/cu135/Library/CloudStorage/OneDrive-Personal/OneDrive_Documents/Work/Software/VBM/assets/MNI152_T1_2mm_brain.nii'"
   ]
  },
  {
   "cell_type": "markdown",
   "metadata": {},
   "source": [
    "Downsample Niftis"
   ]
  },
  {
   "cell_type": "code",
   "execution_count": 4,
   "metadata": {},
   "outputs": [
    {
     "name": "stdout",
     "output_type": "stream",
     "text": [
      "Will search:,  /Volumes/Expansion/datasets/Jung_TMS_AD/anat/pre_T1/mri/smwp1*\n"
     ]
    },
    {
     "name": "stderr",
     "output_type": "stream",
     "text": [
      "100%|██████████| 37/37 [00:04<00:00,  8.20it/s]\n"
     ]
    },
    {
     "name": "stdout",
     "output_type": "stream",
     "text": [
      "Downsampled grey_matter segment data \n",
      " \n",
      "Saved files to ['/Volumes/Expansion/datasets/Jung_TMS_AD/anat/pre_T1/mri/smwp1S06_T1_resampled.nii', '/Volumes/Expansion/datasets/Jung_TMS_AD/anat/pre_T1/mri/smwp1S09_T1_resampled.nii', '/Volumes/Expansion/datasets/Jung_TMS_AD/anat/pre_T1/mri/smwp1S10_T1_resampled.nii', '/Volumes/Expansion/datasets/Jung_TMS_AD/anat/pre_T1/mri/smwp1S11_T1_resampled.nii', '/Volumes/Expansion/datasets/Jung_TMS_AD/anat/pre_T1/mri/smwp1S12_T1_resampled.nii', '/Volumes/Expansion/datasets/Jung_TMS_AD/anat/pre_T1/mri/smwp1S14_T1_resampled.nii', '/Volumes/Expansion/datasets/Jung_TMS_AD/anat/pre_T1/mri/smwp1S15_T1_resampled.nii', '/Volumes/Expansion/datasets/Jung_TMS_AD/anat/pre_T1/mri/smwp1S17_T1_resampled.nii', '/Volumes/Expansion/datasets/Jung_TMS_AD/anat/pre_T1/mri/smwp1S18_T1_resampled.nii', '/Volumes/Expansion/datasets/Jung_TMS_AD/anat/pre_T1/mri/smwp1S19_T1_resampled.nii', '/Volumes/Expansion/datasets/Jung_TMS_AD/anat/pre_T1/mri/smwp1S20_T1_resampled.nii', '/Volumes/Expansion/datasets/Jung_TMS_AD/anat/pre_T1/mri/smwp1S21_T1_resampled.nii', '/Volumes/Expansion/datasets/Jung_TMS_AD/anat/pre_T1/mri/smwp1S22_T1_resampled.nii', '/Volumes/Expansion/datasets/Jung_TMS_AD/anat/pre_T1/mri/smwp1S24_T1_resampled.nii', '/Volumes/Expansion/datasets/Jung_TMS_AD/anat/pre_T1/mri/smwp1S25_T1_resampled.nii', '/Volumes/Expansion/datasets/Jung_TMS_AD/anat/pre_T1/mri/smwp1S26_T1_resampled.nii', '/Volumes/Expansion/datasets/Jung_TMS_AD/anat/pre_T1/mri/smwp1S27_T1_resampled.nii', '/Volumes/Expansion/datasets/Jung_TMS_AD/anat/pre_T1/mri/smwp1S28_T1_resampled.nii', '/Volumes/Expansion/datasets/Jung_TMS_AD/anat/pre_T1/mri/smwp1S30_T1_resampled.nii', '/Volumes/Expansion/datasets/Jung_TMS_AD/anat/pre_T1/mri/smwp1S31_T1_resampled.nii', '/Volumes/Expansion/datasets/Jung_TMS_AD/anat/pre_T1/mri/smwp1S32_T1_resampled.nii', '/Volumes/Expansion/datasets/Jung_TMS_AD/anat/pre_T1/mri/smwp1S33_T1_resampled.nii', '/Volumes/Expansion/datasets/Jung_TMS_AD/anat/pre_T1/mri/smwp1S35_T1_resampled.nii', '/Volumes/Expansion/datasets/Jung_TMS_AD/anat/pre_T1/mri/smwp1S36_T1_resampled.nii', '/Volumes/Expansion/datasets/Jung_TMS_AD/anat/pre_T1/mri/smwp1S37_T1_resampled.nii', '/Volumes/Expansion/datasets/Jung_TMS_AD/anat/pre_T1/mri/smwp1S38_T1_resampled.nii', '/Volumes/Expansion/datasets/Jung_TMS_AD/anat/pre_T1/mri/smwp1S39_T1_resampled.nii', '/Volumes/Expansion/datasets/Jung_TMS_AD/anat/pre_T1/mri/smwp1S40_T1_resampled.nii', '/Volumes/Expansion/datasets/Jung_TMS_AD/anat/pre_T1/mri/smwp1S41_T1_resampled.nii', '/Volumes/Expansion/datasets/Jung_TMS_AD/anat/pre_T1/mri/smwp1S42_T1_resampled.nii', '/Volumes/Expansion/datasets/Jung_TMS_AD/anat/pre_T1/mri/smwp1S43_T1_resampled.nii', '/Volumes/Expansion/datasets/Jung_TMS_AD/anat/pre_T1/mri/smwp1S44_T1_resampled.nii', '/Volumes/Expansion/datasets/Jung_TMS_AD/anat/pre_T1/mri/smwp1S45_T1_resampled.nii', '/Volumes/Expansion/datasets/Jung_TMS_AD/anat/pre_T1/mri/smwp1S46_T1_resampled.nii', '/Volumes/Expansion/datasets/Jung_TMS_AD/anat/pre_T1/mri/smwp1S47_T1_resampled.nii', '/Volumes/Expansion/datasets/Jung_TMS_AD/anat/pre_T1/mri/smwp1S48_T1_resampled.nii', '/Volumes/Expansion/datasets/Jung_TMS_AD/anat/pre_T1/mri/smwp1S49_T1_resampled.nii']\n",
      "-------------------------------- \n",
      "\n",
      "Will search:,  /Volumes/Expansion/datasets/Jung_TMS_AD/anat/pre_T1/mri/smwp2*\n"
     ]
    },
    {
     "name": "stderr",
     "output_type": "stream",
     "text": [
      "100%|██████████| 37/37 [00:04<00:00,  8.37it/s]\n"
     ]
    },
    {
     "name": "stdout",
     "output_type": "stream",
     "text": [
      "Downsampled white_matter segment data \n",
      " \n",
      "Saved files to ['/Volumes/Expansion/datasets/Jung_TMS_AD/anat/pre_T1/mri/smwp2S06_T1_resampled.nii', '/Volumes/Expansion/datasets/Jung_TMS_AD/anat/pre_T1/mri/smwp2S09_T1_resampled.nii', '/Volumes/Expansion/datasets/Jung_TMS_AD/anat/pre_T1/mri/smwp2S10_T1_resampled.nii', '/Volumes/Expansion/datasets/Jung_TMS_AD/anat/pre_T1/mri/smwp2S11_T1_resampled.nii', '/Volumes/Expansion/datasets/Jung_TMS_AD/anat/pre_T1/mri/smwp2S12_T1_resampled.nii', '/Volumes/Expansion/datasets/Jung_TMS_AD/anat/pre_T1/mri/smwp2S14_T1_resampled.nii', '/Volumes/Expansion/datasets/Jung_TMS_AD/anat/pre_T1/mri/smwp2S15_T1_resampled.nii', '/Volumes/Expansion/datasets/Jung_TMS_AD/anat/pre_T1/mri/smwp2S17_T1_resampled.nii', '/Volumes/Expansion/datasets/Jung_TMS_AD/anat/pre_T1/mri/smwp2S18_T1_resampled.nii', '/Volumes/Expansion/datasets/Jung_TMS_AD/anat/pre_T1/mri/smwp2S19_T1_resampled.nii', '/Volumes/Expansion/datasets/Jung_TMS_AD/anat/pre_T1/mri/smwp2S20_T1_resampled.nii', '/Volumes/Expansion/datasets/Jung_TMS_AD/anat/pre_T1/mri/smwp2S21_T1_resampled.nii', '/Volumes/Expansion/datasets/Jung_TMS_AD/anat/pre_T1/mri/smwp2S22_T1_resampled.nii', '/Volumes/Expansion/datasets/Jung_TMS_AD/anat/pre_T1/mri/smwp2S24_T1_resampled.nii', '/Volumes/Expansion/datasets/Jung_TMS_AD/anat/pre_T1/mri/smwp2S25_T1_resampled.nii', '/Volumes/Expansion/datasets/Jung_TMS_AD/anat/pre_T1/mri/smwp2S26_T1_resampled.nii', '/Volumes/Expansion/datasets/Jung_TMS_AD/anat/pre_T1/mri/smwp2S27_T1_resampled.nii', '/Volumes/Expansion/datasets/Jung_TMS_AD/anat/pre_T1/mri/smwp2S28_T1_resampled.nii', '/Volumes/Expansion/datasets/Jung_TMS_AD/anat/pre_T1/mri/smwp2S30_T1_resampled.nii', '/Volumes/Expansion/datasets/Jung_TMS_AD/anat/pre_T1/mri/smwp2S31_T1_resampled.nii', '/Volumes/Expansion/datasets/Jung_TMS_AD/anat/pre_T1/mri/smwp2S32_T1_resampled.nii', '/Volumes/Expansion/datasets/Jung_TMS_AD/anat/pre_T1/mri/smwp2S33_T1_resampled.nii', '/Volumes/Expansion/datasets/Jung_TMS_AD/anat/pre_T1/mri/smwp2S35_T1_resampled.nii', '/Volumes/Expansion/datasets/Jung_TMS_AD/anat/pre_T1/mri/smwp2S36_T1_resampled.nii', '/Volumes/Expansion/datasets/Jung_TMS_AD/anat/pre_T1/mri/smwp2S37_T1_resampled.nii', '/Volumes/Expansion/datasets/Jung_TMS_AD/anat/pre_T1/mri/smwp2S38_T1_resampled.nii', '/Volumes/Expansion/datasets/Jung_TMS_AD/anat/pre_T1/mri/smwp2S39_T1_resampled.nii', '/Volumes/Expansion/datasets/Jung_TMS_AD/anat/pre_T1/mri/smwp2S40_T1_resampled.nii', '/Volumes/Expansion/datasets/Jung_TMS_AD/anat/pre_T1/mri/smwp2S41_T1_resampled.nii', '/Volumes/Expansion/datasets/Jung_TMS_AD/anat/pre_T1/mri/smwp2S42_T1_resampled.nii', '/Volumes/Expansion/datasets/Jung_TMS_AD/anat/pre_T1/mri/smwp2S43_T1_resampled.nii', '/Volumes/Expansion/datasets/Jung_TMS_AD/anat/pre_T1/mri/smwp2S44_T1_resampled.nii', '/Volumes/Expansion/datasets/Jung_TMS_AD/anat/pre_T1/mri/smwp2S45_T1_resampled.nii', '/Volumes/Expansion/datasets/Jung_TMS_AD/anat/pre_T1/mri/smwp2S46_T1_resampled.nii', '/Volumes/Expansion/datasets/Jung_TMS_AD/anat/pre_T1/mri/smwp2S47_T1_resampled.nii', '/Volumes/Expansion/datasets/Jung_TMS_AD/anat/pre_T1/mri/smwp2S48_T1_resampled.nii', '/Volumes/Expansion/datasets/Jung_TMS_AD/anat/pre_T1/mri/smwp2S49_T1_resampled.nii']\n",
      "-------------------------------- \n",
      "\n",
      "Will search:,  /Volumes/Expansion/datasets/Jung_TMS_AD/anat/pre_T1/mri/smwp3*\n"
     ]
    },
    {
     "name": "stderr",
     "output_type": "stream",
     "text": [
      "100%|██████████| 37/37 [00:04<00:00,  8.50it/s]"
     ]
    },
    {
     "name": "stdout",
     "output_type": "stream",
     "text": [
      "Downsampled cerebrospinal_fluid segment data \n",
      " \n",
      "Saved files to ['/Volumes/Expansion/datasets/Jung_TMS_AD/anat/pre_T1/mri/smwp3S06_T1_resampled.nii', '/Volumes/Expansion/datasets/Jung_TMS_AD/anat/pre_T1/mri/smwp3S09_T1_resampled.nii', '/Volumes/Expansion/datasets/Jung_TMS_AD/anat/pre_T1/mri/smwp3S10_T1_resampled.nii', '/Volumes/Expansion/datasets/Jung_TMS_AD/anat/pre_T1/mri/smwp3S11_T1_resampled.nii', '/Volumes/Expansion/datasets/Jung_TMS_AD/anat/pre_T1/mri/smwp3S12_T1_resampled.nii', '/Volumes/Expansion/datasets/Jung_TMS_AD/anat/pre_T1/mri/smwp3S14_T1_resampled.nii', '/Volumes/Expansion/datasets/Jung_TMS_AD/anat/pre_T1/mri/smwp3S15_T1_resampled.nii', '/Volumes/Expansion/datasets/Jung_TMS_AD/anat/pre_T1/mri/smwp3S17_T1_resampled.nii', '/Volumes/Expansion/datasets/Jung_TMS_AD/anat/pre_T1/mri/smwp3S18_T1_resampled.nii', '/Volumes/Expansion/datasets/Jung_TMS_AD/anat/pre_T1/mri/smwp3S19_T1_resampled.nii', '/Volumes/Expansion/datasets/Jung_TMS_AD/anat/pre_T1/mri/smwp3S20_T1_resampled.nii', '/Volumes/Expansion/datasets/Jung_TMS_AD/anat/pre_T1/mri/smwp3S21_T1_resampled.nii', '/Volumes/Expansion/datasets/Jung_TMS_AD/anat/pre_T1/mri/smwp3S22_T1_resampled.nii', '/Volumes/Expansion/datasets/Jung_TMS_AD/anat/pre_T1/mri/smwp3S24_T1_resampled.nii', '/Volumes/Expansion/datasets/Jung_TMS_AD/anat/pre_T1/mri/smwp3S25_T1_resampled.nii', '/Volumes/Expansion/datasets/Jung_TMS_AD/anat/pre_T1/mri/smwp3S26_T1_resampled.nii', '/Volumes/Expansion/datasets/Jung_TMS_AD/anat/pre_T1/mri/smwp3S27_T1_resampled.nii', '/Volumes/Expansion/datasets/Jung_TMS_AD/anat/pre_T1/mri/smwp3S28_T1_resampled.nii', '/Volumes/Expansion/datasets/Jung_TMS_AD/anat/pre_T1/mri/smwp3S30_T1_resampled.nii', '/Volumes/Expansion/datasets/Jung_TMS_AD/anat/pre_T1/mri/smwp3S31_T1_resampled.nii', '/Volumes/Expansion/datasets/Jung_TMS_AD/anat/pre_T1/mri/smwp3S32_T1_resampled.nii', '/Volumes/Expansion/datasets/Jung_TMS_AD/anat/pre_T1/mri/smwp3S33_T1_resampled.nii', '/Volumes/Expansion/datasets/Jung_TMS_AD/anat/pre_T1/mri/smwp3S35_T1_resampled.nii', '/Volumes/Expansion/datasets/Jung_TMS_AD/anat/pre_T1/mri/smwp3S36_T1_resampled.nii', '/Volumes/Expansion/datasets/Jung_TMS_AD/anat/pre_T1/mri/smwp3S37_T1_resampled.nii', '/Volumes/Expansion/datasets/Jung_TMS_AD/anat/pre_T1/mri/smwp3S38_T1_resampled.nii', '/Volumes/Expansion/datasets/Jung_TMS_AD/anat/pre_T1/mri/smwp3S39_T1_resampled.nii', '/Volumes/Expansion/datasets/Jung_TMS_AD/anat/pre_T1/mri/smwp3S40_T1_resampled.nii', '/Volumes/Expansion/datasets/Jung_TMS_AD/anat/pre_T1/mri/smwp3S41_T1_resampled.nii', '/Volumes/Expansion/datasets/Jung_TMS_AD/anat/pre_T1/mri/smwp3S42_T1_resampled.nii', '/Volumes/Expansion/datasets/Jung_TMS_AD/anat/pre_T1/mri/smwp3S43_T1_resampled.nii', '/Volumes/Expansion/datasets/Jung_TMS_AD/anat/pre_T1/mri/smwp3S44_T1_resampled.nii', '/Volumes/Expansion/datasets/Jung_TMS_AD/anat/pre_T1/mri/smwp3S45_T1_resampled.nii', '/Volumes/Expansion/datasets/Jung_TMS_AD/anat/pre_T1/mri/smwp3S46_T1_resampled.nii', '/Volumes/Expansion/datasets/Jung_TMS_AD/anat/pre_T1/mri/smwp3S47_T1_resampled.nii', '/Volumes/Expansion/datasets/Jung_TMS_AD/anat/pre_T1/mri/smwp3S48_T1_resampled.nii', '/Volumes/Expansion/datasets/Jung_TMS_AD/anat/pre_T1/mri/smwp3S49_T1_resampled.nii']\n",
      "-------------------------------- \n",
      "\n"
     ]
    },
    {
     "name": "stderr",
     "output_type": "stream",
     "text": [
      "\n"
     ]
    }
   ],
   "source": [
    "from calvin_utils.vbm_utils.preprocessing import downsample_orchestrator\n",
    "output_paths = downsample_orchestrator(base_directory, \n",
    "                                       grey_matter_glob_name_pattern, \n",
    "                                       white_matter_glob_name_pattern, \n",
    "                                       csf_glob_name_pattern,\n",
    "                                       mask_path=mask_path)"
   ]
  },
  {
   "cell_type": "markdown",
   "metadata": {},
   "source": [
    "Your files have now been downsampled to 2x2x2mm resolution.\n",
    "\n",
    "Carry on to Notebook 02 to derive atrophy seeds\n",
    "\n",
    "-Calvin"
   ]
  }
 ],
 "metadata": {
  "kernelspec": {
   "display_name": "Python_3.7.7_nimlab",
   "language": "python",
   "name": "python3"
  },
  "language_info": {
   "codemirror_mode": {
    "name": "ipython",
    "version": 3
   },
   "file_extension": ".py",
   "mimetype": "text/x-python",
   "name": "python",
   "nbconvert_exporter": "python",
   "pygments_lexer": "ipython3",
   "version": "3.11.10"
  },
  "orig_nbformat": 4
 },
 "nbformat": 4,
 "nbformat_minor": 2
}
