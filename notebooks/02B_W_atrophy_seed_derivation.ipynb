{
 "cells": [
  {
   "cell_type": "markdown",
   "metadata": {},
   "source": [
    "Imports"
   ]
  },
  {
   "cell_type": "code",
   "execution_count": 1,
   "metadata": {},
   "outputs": [],
   "source": [
    "import warnings\n",
    "warnings.filterwarnings('ignore')"
   ]
  },
  {
   "cell_type": "markdown",
   "metadata": {},
   "source": [
    "# Nifti Import"
   ]
  },
  {
   "cell_type": "markdown",
   "metadata": {},
   "source": [
    "**From Directory**\n",
    "___"
   ]
  },
  {
   "cell_type": "markdown",
   "metadata": {},
   "source": [
    "Here's a brief markup (in Markdown format) that explains the purpose and usage of the `segments_dict`:\n",
    "\n",
    "---\n",
    "\n",
    "## Neuroimaging File Extraction Dictionary\n",
    "\n",
    "The `segments_dict` is a predefined dictionary structured to facilitate the extraction of specific types of neuroimaging files. Each key in the dictionary represents a distinct neuroimaging segment, and its associated value is another dictionary containing the following fields:\n",
    "\n",
    "- **path**: This should be filled with the absolute path to the base directory containing the neuroimaging files for the corresponding segment. \n",
    "- **glob_name_pattern**: This is the string pattern that will be used to \"glob\" or search for the specific files within the provided path. It helps in identifying and extracting the desired files based on their naming conventions.\n",
    "\n",
    "Here's a breakdown of the segments and their respective fields:\n",
    "\n",
    "### 1. Cerebrospinal Fluid (CSF)\n",
    "- **path**: Absolute path to the base directory containing CSF files.\n",
    "- **glob_name_pattern**: File pattern to search for CSF files.\n",
    "\n",
    "### 2. Grey Matter\n",
    "- **path**: Absolute path to the base directory containing grey matter files.\n",
    "- **glob_name_pattern**: File pattern to search for grey matter files.\n",
    "\n",
    "### 3. White Matter\n",
    "- **path**: Absolute path to the base directory containing white matter files.\n",
    "- **glob_name_pattern**: File pattern to search for white matter files.\n",
    "\n",
    "---\n",
    "\n",
    "**Instructions**: Please fill out the `path` and `glob_name_pattern` fields for each segment in the `segments_dict`. This will ensure that the extraction process can locate and identify the appropriate neuroimaging files for further analysis.\n",
    "- < *_name_pattern > variables do not need a leading slash (\"/\"). This is already accounted for. \n",
    "\n",
    "---"
   ]
  },
  {
   "cell_type": "markdown",
   "metadata": {},
   "source": [
    "# Import Segmented Patients for Atrophy Detection"
   ]
  },
  {
   "cell_type": "code",
   "execution_count": 2,
   "metadata": {},
   "outputs": [],
   "source": [
    "base_directory = r'/Volumes/Expansion/datasets/adni/neuroimaging/all_patients_by_diagnosis_symlink/Additional'\n",
    "grey_matter_glob_name_pattern = '*/mri/*mwp1*resampled*'\n",
    "white_matter_glob_name_pattern = '*/mri/*mwp2*resampled*'\n",
    "csf_glob_name_pattern = '*/mri/*mwp3*resampled*'"
   ]
  },
  {
   "cell_type": "code",
   "execution_count": null,
   "metadata": {},
   "outputs": [],
   "source": [
    "from calvin_utils.vbm_utils.loading import import_dataframes_from_folders\n",
    "dataframes_dict = import_dataframes_from_folders(base_directory, grey_matter_glob_name_pattern, white_matter_glob_name_pattern, csf_glob_name_pattern)"
   ]
  },
  {
   "cell_type": "markdown",
   "metadata": {},
   "source": [
    "**Extract Subject ID From File Names**\n",
    "- Using the example filenames that have been printed above, please define a general string:\n",
    "1) Preceding the subject ID. If nothing preceding subject identifier, enter \"\".\n",
    "- Do NOT include mwp[1/2/3] in this. \n",
    "2) Proceeding the subject ID. If nothing proceeding subject identifier, enter \"\"."
   ]
  },
  {
   "cell_type": "code",
   "execution_count": 4,
   "metadata": {},
   "outputs": [],
   "source": [
    "preceding_id = ''\n",
    "proceeding_id = '_resam'"
   ]
  },
  {
   "cell_type": "code",
   "execution_count": null,
   "metadata": {},
   "outputs": [],
   "source": [
    "from calvin_utils.vbm_utils.preprocessing import rename_dataframe_subjects\n",
    "\n",
    "dataframes_dict = rename_dataframe_subjects(dataframes_dict, preceding_id, proceeding_id)"
   ]
  },
  {
   "cell_type": "markdown",
   "metadata": {},
   "source": [
    "# Import Control Segments"
   ]
  },
  {
   "cell_type": "code",
   "execution_count": 6,
   "metadata": {},
   "outputs": [],
   "source": [
    "base_directory_control = '/Volumes/Expansion/datasets/adni/neuroimaging/true_control/anat/mri'\n",
    "control_grey_matter_glob_name_pattern = '*smwp1*resampled*'\n",
    "control_white_matter_glob_name_pattern = '*smwp2*resampled*'\n",
    "control_csf_glob_name_pattern = '*smwp3*resampled*'"
   ]
  },
  {
   "cell_type": "code",
   "execution_count": null,
   "metadata": {},
   "outputs": [],
   "source": [
    "from calvin_utils.vbm_utils.loading import import_control_dataframes\n",
    "control_dataframes_dict = import_control_dataframes(base_directory_control, control_grey_matter_glob_name_pattern, control_white_matter_glob_name_pattern, control_csf_glob_name_pattern)"
   ]
  },
  {
   "cell_type": "markdown",
   "metadata": {},
   "source": [
    "**Extract Subject ID From File Names**\n",
    "- Using the example filenames that have been printed above, please define a general string:\n",
    "1) Preceding the subject ID. If nothing preceding subject identifier, enter \"\".\n",
    "- **Do NOT include mwp[1/2/3] in this.**\n",
    "2) Proceeding the subject ID. If nothing proceeding subject identifier, enter \"\".\n",
    "\n",
    "\n",
    "- The example filenames were all provided above"
   ]
  },
  {
   "cell_type": "code",
   "execution_count": 8,
   "metadata": {},
   "outputs": [],
   "source": [
    "preceding_id = 's'\n",
    "proceeding_id = '_re'"
   ]
  },
  {
   "cell_type": "code",
   "execution_count": null,
   "metadata": {},
   "outputs": [],
   "source": [
    "from calvin_utils.vbm_utils.preprocessing import rename_dataframe_subjects\n",
    "\n",
    "control_dataframes_dict = rename_dataframe_subjects(control_dataframes_dict, preceding_id, proceeding_id)"
   ]
  },
  {
   "cell_type": "markdown",
   "metadata": {},
   "source": [
    "# Import Covariates\n",
    "Expects a CSV as below: \n",
    "```\n",
    "+---------+----------------------------+--------------+--------------+--------------+\n",
    "|Covariate| Subject 1                  | Subject 2    | Subject . . .| Subject N    |\n",
    "+---------+----------------------------+--------------+--------------+--------------+\n",
    "| Male    | 0                          | 1            | 1            | 1            |\n",
    "| Female  | 1                          | 0            | 0            | 0            |\n",
    "| Age     | 65                         | 72           | 87           | 90           |\n",
    "+---------+----------------------------+--------------+--------------+--------------+\n",
    "```\n",
    "**1 is True, 0 is False, Age is represented in years.**"
   ]
  },
  {
   "cell_type": "code",
   "execution_count": 10,
   "metadata": {},
   "outputs": [],
   "source": [
    "control_covariates_csv_path = '/Users/cu135/Dropbox (Partners HealthCare)/studies/atrophy_seeds_2023/metadata/paths_and_covariates/control_group_covariates.csv'\n",
    "patient_covariates_csv_path = '/Volumes/Expansion/datasets/adni/metadata/cleaned_information/wmap_demographics.csv'"
   ]
  },
  {
   "cell_type": "code",
   "execution_count": null,
   "metadata": {},
   "outputs": [],
   "source": [
    "from calvin_utils.vbm_utils.w_scoring import import_covariates\n",
    "control_covariates_df, patient_covariates_df = import_covariates(control_covariates_csv_path=control_covariates_csv_path, patient_covariates_csv_path=patient_covariates_csv_path)\n",
    "control_covariates_df"
   ]
  },
  {
   "cell_type": "code",
   "execution_count": null,
   "metadata": {},
   "outputs": [],
   "source": [
    "patient_covariates_df"
   ]
  },
  {
   "cell_type": "markdown",
   "metadata": {},
   "source": [
    "Improve the Naming of the Covariate Subjects\n",
    "- Pending construction. Should have named it appropraitely when you built your CSV. \n",
    "- Will code PRN. "
   ]
  },
  {
   "cell_type": "markdown",
   "metadata": {},
   "source": [
    "# Generate W-Scored Atrophy Maps for Each Segment"
   ]
  },
  {
   "cell_type": "code",
   "execution_count": null,
   "metadata": {},
   "outputs": [],
   "source": [
    "from calvin_utils.vbm_utils.w_scoring  import CalvinWMap\n",
    "wmapper = CalvinWMap(dataframes_dict=dataframes_dict, control_dataframes_dict=control_dataframes_dict, control_covariates_df=control_covariates_df, patient_covariates_df=patient_covariates_df)\n",
    "atrophy_dataframes_dict, significant_atrophy_dataframes_dict = wmapper.run()"
   ]
  },
  {
   "cell_type": "markdown",
   "metadata": {},
   "source": [
    "**Generate Composite Maps**"
   ]
  },
  {
   "cell_type": "code",
   "execution_count": 15,
   "metadata": {},
   "outputs": [],
   "source": [
    "from calvin_utils.vbm_utils.composite_atrophy_mapper import generate_composite_maps\n",
    "unthresholded_atrophy_dataframes_dict = generate_composite_maps(atrophy_dataframes_dict, threshold=False)\n",
    "thresholded_atrophy_dataframes_dict = generate_composite_maps(significant_atrophy_dataframes_dict, threshold=True)"
   ]
  },
  {
   "cell_type": "markdown",
   "metadata": {},
   "source": [
    "# Save the W-Scored Maps"
   ]
  },
  {
   "cell_type": "markdown",
   "metadata": {},
   "source": [
    "Unthresholded Maps"
   ]
  },
  {
   "cell_type": "code",
   "execution_count": null,
   "metadata": {},
   "outputs": [],
   "source": [
    "base_directory='/Volumes/Expansion/datasets/adni/neuroimaging/all_patients_atrophy_seeds'\n",
    "session = 'pre-tms'"
   ]
  },
  {
   "cell_type": "markdown",
   "metadata": {},
   "source": [
    "Must provide a mask path. One is available in /assets"
   ]
  },
  {
   "cell_type": "code",
   "execution_count": null,
   "metadata": {},
   "outputs": [],
   "source": [
    "mask_path = '/Users/cu135/Library/CloudStorage/OneDrive-Personal/OneDrive_Documents/Work/Software/VBM/assets/MNI152_T1_2mm_brain.nii'"
   ]
  },
  {
   "cell_type": "code",
   "execution_count": null,
   "metadata": {},
   "outputs": [],
   "source": [
    "from calvin_utils.vbm_utils.processing import save_nifti_to_bids\n",
    "save_nifti_to_bids(unthresholded_atrophy_dataframes_dict, \n",
    "                   bids_base_dir=base_directory, \n",
    "                   mask_path=mask_path,\n",
    "                   analysis='tissue_segment_w_scores', \n",
    "                   ses=session,\n",
    "                   dry_run=False);"
   ]
  },
  {
   "cell_type": "markdown",
   "metadata": {},
   "source": [
    "Thresholded Maps - The 'Real' Atrophy\n"
   ]
  },
  {
   "cell_type": "code",
   "execution_count": null,
   "metadata": {},
   "outputs": [],
   "source": [
    "from calvin_utils.vbm_utils.processing import save_nifti_to_bids\n",
    "save_nifti_to_bids(unthresholded_atrophy_dataframes_dict, \n",
    "                   bids_base_dir=base_directory, \n",
    "                   mask_path=mask_path,\n",
    "                   analysis='thresholded_tissue_segment_w_scores', \n",
    "                   ses=session,\n",
    "                   dry_run=False);"
   ]
  },
  {
   "cell_type": "code",
   "execution_count": null,
   "metadata": {},
   "outputs": [],
   "source": [
    "import os\n",
    "os.system('say \"Atrophy seeds are complete.\"')"
   ]
  },
  {
   "cell_type": "markdown",
   "metadata": {},
   "source": [
    "All Done. Enjoy your atrophy seeds.\n",
    "\n",
    "--Calvin"
   ]
  }
 ],
 "metadata": {
  "kernelspec": {
   "display_name": "Python3.10 (nimlab)",
   "language": "python",
   "name": "nimlab_py310"
  },
  "language_info": {
   "codemirror_mode": {
    "name": "ipython",
    "version": 3
   },
   "file_extension": ".py",
   "mimetype": "text/x-python",
   "name": "python",
   "nbconvert_exporter": "python",
   "pygments_lexer": "ipython3",
   "version": "3.10.16"
  },
  "orig_nbformat": 4
 },
 "nbformat": 4,
 "nbformat_minor": 2
}
